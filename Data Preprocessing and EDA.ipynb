{
 "cells": [
  {
   "cell_type": "markdown",
   "metadata": {
    "id": "IbCsA36XFQGe"
   },
   "source": [
    "## Data Wrangling"
   ]
  },
  {
   "cell_type": "code",
   "execution_count": 1,
   "metadata": {
    "id": "ILZizjliE4IQ"
   },
   "outputs": [],
   "source": [
    "import pandas as pd\n",
    "import numpy as np\n",
    "import matplotlib.pyplot as plt\n",
    "import seaborn as sns\n",
    "import plotly.express as px\n",
    "from datetime import datetime\n"
   ]
  },
  {
   "cell_type": "code",
   "execution_count": 2,
   "metadata": {
    "colab": {
     "base_uri": "https://localhost:8080/",
     "height": 569
    },
    "executionInfo": {
     "elapsed": 5812,
     "status": "ok",
     "timestamp": 1716223411022,
     "user": {
      "displayName": "Saif Ullah",
      "userId": "04066764031186977808"
     },
     "user_tz": -300
    },
    "id": "3jEt7hQqGVpQ",
    "outputId": "6751e874-6fab-4f36-8d08-38f770e2eaa8"
   },
   "outputs": [
    {
     "data": {
      "text/html": [
       "<div>\n",
       "<style scoped>\n",
       "    .dataframe tbody tr th:only-of-type {\n",
       "        vertical-align: middle;\n",
       "    }\n",
       "\n",
       "    .dataframe tbody tr th {\n",
       "        vertical-align: top;\n",
       "    }\n",
       "\n",
       "    .dataframe thead th {\n",
       "        text-align: right;\n",
       "    }\n",
       "</style>\n",
       "<table border=\"1\" class=\"dataframe\">\n",
       "  <thead>\n",
       "    <tr style=\"text-align: right;\">\n",
       "      <th></th>\n",
       "      <th>Order ID</th>\n",
       "      <th>Order Date</th>\n",
       "      <th>Ship Date</th>\n",
       "      <th>Ship Mode</th>\n",
       "      <th>Customer ID</th>\n",
       "      <th>Customer Name</th>\n",
       "      <th>Segment</th>\n",
       "      <th>City</th>\n",
       "      <th>State</th>\n",
       "      <th>Country</th>\n",
       "      <th>Region</th>\n",
       "      <th>Product ID</th>\n",
       "      <th>Category</th>\n",
       "      <th>Sub-Category</th>\n",
       "      <th>Product Name</th>\n",
       "      <th>Sales</th>\n",
       "      <th>Quantity</th>\n",
       "      <th>Discount</th>\n",
       "      <th>Profit</th>\n",
       "    </tr>\n",
       "    <tr>\n",
       "      <th>Row ID</th>\n",
       "      <th></th>\n",
       "      <th></th>\n",
       "      <th></th>\n",
       "      <th></th>\n",
       "      <th></th>\n",
       "      <th></th>\n",
       "      <th></th>\n",
       "      <th></th>\n",
       "      <th></th>\n",
       "      <th></th>\n",
       "      <th></th>\n",
       "      <th></th>\n",
       "      <th></th>\n",
       "      <th></th>\n",
       "      <th></th>\n",
       "      <th></th>\n",
       "      <th></th>\n",
       "      <th></th>\n",
       "      <th></th>\n",
       "    </tr>\n",
       "  </thead>\n",
       "  <tbody>\n",
       "    <tr>\n",
       "      <th>1</th>\n",
       "      <td>ES-2018-1311038</td>\n",
       "      <td>2018-02-07</td>\n",
       "      <td>2018-02-11</td>\n",
       "      <td>Standard Class</td>\n",
       "      <td>AS-10045</td>\n",
       "      <td>Aaron Smayling</td>\n",
       "      <td>Corporate</td>\n",
       "      <td>Leeds</td>\n",
       "      <td>England</td>\n",
       "      <td>United Kingdom</td>\n",
       "      <td>North</td>\n",
       "      <td>OFF-ST-10000988</td>\n",
       "      <td>Office Supplies</td>\n",
       "      <td>Storage</td>\n",
       "      <td>Fellowes Folders, Blue</td>\n",
       "      <td>79.20</td>\n",
       "      <td>3</td>\n",
       "      <td>0.0</td>\n",
       "      <td>39.60</td>\n",
       "    </tr>\n",
       "    <tr>\n",
       "      <th>2</th>\n",
       "      <td>ES-2018-1311038</td>\n",
       "      <td>2018-02-07</td>\n",
       "      <td>2018-02-11</td>\n",
       "      <td>Standard Class</td>\n",
       "      <td>AS-10045</td>\n",
       "      <td>Aaron Smayling</td>\n",
       "      <td>Corporate</td>\n",
       "      <td>Leeds</td>\n",
       "      <td>England</td>\n",
       "      <td>United Kingdom</td>\n",
       "      <td>North</td>\n",
       "      <td>TEC-AC-10004144</td>\n",
       "      <td>Technology</td>\n",
       "      <td>Accessories</td>\n",
       "      <td>SanDisk Numeric Keypad, Bluetooth</td>\n",
       "      <td>388.92</td>\n",
       "      <td>7</td>\n",
       "      <td>0.0</td>\n",
       "      <td>0.00</td>\n",
       "    </tr>\n",
       "    <tr>\n",
       "      <th>3</th>\n",
       "      <td>ES-2018-1311038</td>\n",
       "      <td>2018-02-07</td>\n",
       "      <td>2018-02-11</td>\n",
       "      <td>Standard Class</td>\n",
       "      <td>AS-10045</td>\n",
       "      <td>Aaron Smayling</td>\n",
       "      <td>Corporate</td>\n",
       "      <td>Leeds</td>\n",
       "      <td>England</td>\n",
       "      <td>United Kingdom</td>\n",
       "      <td>North</td>\n",
       "      <td>OFF-LA-10001915</td>\n",
       "      <td>Office Supplies</td>\n",
       "      <td>Labels</td>\n",
       "      <td>Avery Legal Exhibit Labels, 5000 Label Set</td>\n",
       "      <td>35.19</td>\n",
       "      <td>3</td>\n",
       "      <td>0.0</td>\n",
       "      <td>16.11</td>\n",
       "    </tr>\n",
       "    <tr>\n",
       "      <th>4</th>\n",
       "      <td>ES-2018-1311038</td>\n",
       "      <td>2018-02-07</td>\n",
       "      <td>2018-02-11</td>\n",
       "      <td>Standard Class</td>\n",
       "      <td>AS-10045</td>\n",
       "      <td>Aaron Smayling</td>\n",
       "      <td>Corporate</td>\n",
       "      <td>Leeds</td>\n",
       "      <td>England</td>\n",
       "      <td>United Kingdom</td>\n",
       "      <td>North</td>\n",
       "      <td>OFF-ST-10004550</td>\n",
       "      <td>Office Supplies</td>\n",
       "      <td>Storage</td>\n",
       "      <td>Fellowes Folders, Wire Frame</td>\n",
       "      <td>50.94</td>\n",
       "      <td>2</td>\n",
       "      <td>0.0</td>\n",
       "      <td>13.20</td>\n",
       "    </tr>\n",
       "    <tr>\n",
       "      <th>5</th>\n",
       "      <td>ES-2018-1311038</td>\n",
       "      <td>2018-02-07</td>\n",
       "      <td>2018-02-11</td>\n",
       "      <td>Standard Class</td>\n",
       "      <td>AS-10045</td>\n",
       "      <td>Aaron Smayling</td>\n",
       "      <td>Corporate</td>\n",
       "      <td>Leeds</td>\n",
       "      <td>England</td>\n",
       "      <td>United Kingdom</td>\n",
       "      <td>North</td>\n",
       "      <td>TEC-AC-10004068</td>\n",
       "      <td>Technology</td>\n",
       "      <td>Accessories</td>\n",
       "      <td>Memorex Memory Card, USB</td>\n",
       "      <td>307.44</td>\n",
       "      <td>3</td>\n",
       "      <td>0.0</td>\n",
       "      <td>73.71</td>\n",
       "    </tr>\n",
       "  </tbody>\n",
       "</table>\n",
       "</div>"
      ],
      "text/plain": [
       "               Order ID Order Date  Ship Date       Ship Mode Customer ID  \\\n",
       "Row ID                                                                      \n",
       "1       ES-2018-1311038 2018-02-07 2018-02-11  Standard Class    AS-10045   \n",
       "2       ES-2018-1311038 2018-02-07 2018-02-11  Standard Class    AS-10045   \n",
       "3       ES-2018-1311038 2018-02-07 2018-02-11  Standard Class    AS-10045   \n",
       "4       ES-2018-1311038 2018-02-07 2018-02-11  Standard Class    AS-10045   \n",
       "5       ES-2018-1311038 2018-02-07 2018-02-11  Standard Class    AS-10045   \n",
       "\n",
       "         Customer Name    Segment   City    State         Country Region  \\\n",
       "Row ID                                                                     \n",
       "1       Aaron Smayling  Corporate  Leeds  England  United Kingdom  North   \n",
       "2       Aaron Smayling  Corporate  Leeds  England  United Kingdom  North   \n",
       "3       Aaron Smayling  Corporate  Leeds  England  United Kingdom  North   \n",
       "4       Aaron Smayling  Corporate  Leeds  England  United Kingdom  North   \n",
       "5       Aaron Smayling  Corporate  Leeds  England  United Kingdom  North   \n",
       "\n",
       "             Product ID         Category Sub-Category  \\\n",
       "Row ID                                                  \n",
       "1       OFF-ST-10000988  Office Supplies      Storage   \n",
       "2       TEC-AC-10004144       Technology  Accessories   \n",
       "3       OFF-LA-10001915  Office Supplies       Labels   \n",
       "4       OFF-ST-10004550  Office Supplies      Storage   \n",
       "5       TEC-AC-10004068       Technology  Accessories   \n",
       "\n",
       "                                      Product Name   Sales  Quantity  \\\n",
       "Row ID                                                                 \n",
       "1                           Fellowes Folders, Blue   79.20         3   \n",
       "2                SanDisk Numeric Keypad, Bluetooth  388.92         7   \n",
       "3       Avery Legal Exhibit Labels, 5000 Label Set   35.19         3   \n",
       "4                     Fellowes Folders, Wire Frame   50.94         2   \n",
       "5                         Memorex Memory Card, USB  307.44         3   \n",
       "\n",
       "        Discount  Profit  \n",
       "Row ID                    \n",
       "1            0.0   39.60  \n",
       "2            0.0    0.00  \n",
       "3            0.0   16.11  \n",
       "4            0.0   13.20  \n",
       "5            0.0   73.71  "
      ]
     },
     "execution_count": 2,
     "metadata": {},
     "output_type": "execute_result"
    }
   ],
   "source": [
    "df = pd.read_excel(\"eu_storedata.xlsx\")\n",
    "df.head().set_index(\"Row ID\")"
   ]
  },
  {
   "cell_type": "code",
   "execution_count": 3,
   "metadata": {
    "colab": {
     "base_uri": "https://localhost:8080/"
    },
    "executionInfo": {
     "elapsed": 58,
     "status": "ok",
     "timestamp": 1716223411025,
     "user": {
      "displayName": "Saif Ullah",
      "userId": "04066764031186977808"
     },
     "user_tz": -300
    },
    "id": "5X9vkS2SLx9X",
    "outputId": "62445bed-b4f2-4301-c5b5-2739a9029251"
   },
   "outputs": [
    {
     "data": {
      "text/plain": [
       "(10000, 20)"
      ]
     },
     "execution_count": 3,
     "metadata": {},
     "output_type": "execute_result"
    }
   ],
   "source": [
    "df.shape"
   ]
  },
  {
   "cell_type": "code",
   "execution_count": 4,
   "metadata": {
    "colab": {
     "base_uri": "https://localhost:8080/"
    },
    "executionInfo": {
     "elapsed": 56,
     "status": "ok",
     "timestamp": 1716223411028,
     "user": {
      "displayName": "Saif Ullah",
      "userId": "04066764031186977808"
     },
     "user_tz": -300
    },
    "id": "D26irWafL1zq",
    "outputId": "0a720d21-0bb1-4ffc-9892-cc69be407880"
   },
   "outputs": [
    {
     "data": {
      "text/plain": [
       "Index(['Row ID', 'Order ID', 'Order Date', 'Ship Date', 'Ship Mode',\n",
       "       'Customer ID', 'Customer Name', 'Segment', 'City', 'State', 'Country',\n",
       "       'Region', 'Product ID', 'Category', 'Sub-Category', 'Product Name',\n",
       "       'Sales', 'Quantity', 'Discount', 'Profit'],\n",
       "      dtype='object')"
      ]
     },
     "execution_count": 4,
     "metadata": {},
     "output_type": "execute_result"
    }
   ],
   "source": [
    "df.columns"
   ]
  },
  {
   "cell_type": "markdown",
   "metadata": {
    "id": "W6wZf3K7L_9x"
   },
   "source": [
    "#### Summary Of Data:\n",
    "This dataset, consisting of `10,000` rows and `20` columns, offers a comprehensive view of orders placed, their shipping details, customer information, geographical distribution, and specifics about the products sold and their financial implications. Analyzing this data could provide insights into customer behavior, popular products, geographical sales trends, and the store's overall performance in the European market."
   ]
  },
  {
   "cell_type": "markdown",
   "metadata": {
    "id": "Tslz5t1OMVHY"
   },
   "source": [
    "#### Column descriptions:\n",
    "- `Row ID`: An identifier for each row in the dataset, likely used for referencing or indexing purposes.\n",
    "- `Order ID`: A unique identifier assigned to each order placed by customers.\n",
    "\n",
    "- `Order Date`: The date when the order was placed by the customer.\n",
    "\n",
    "- `Ship Date`: The date when the order was shipped to the customer.\n",
    "\n",
    "- `Ship Mode`: Indicates the method or mode used for shipping the order (e.g., standard shipping, Second Class, First Class and Same Day shipping).\n",
    "\n",
    "- `Customer ID`: A unique identifier for each customer.\n",
    "\n",
    "- `Customer Name`: Name of the customer who placed the order.\n",
    "\n",
    "- `Segment`: Classification or segmentation of customers (e.g., consumer, corporate) based on certain criteria or characteristics.\n",
    "\n",
    "- `City`: The city where the customer placing the order is located.\n",
    "\n",
    "- `State`: The state or region where the customer is situated.\n",
    "\n",
    "- `Country`: The country where the customer is located.\n",
    "\n",
    "- `Region`: A broader geographical area or region where the store operates or where customers are based.\n",
    "\n",
    "- `Product ID`: A unique identifier for each product being sold.\n",
    "\n",
    "- `Category`: The broad category to which the product belongs (e.g., electronics, furniture).\n",
    "\n",
    "- `Sub-Category`: A more specific category that further classifies the product (e.g., phones, chairs).\n",
    "\n",
    "- `Product Name`: The name or description of the specific product being sold.\n",
    "\n",
    "- `Sales`: The monetary value or revenue generated from the sale of the product in that order.\n",
    "\n",
    "- `Quantity`: The number of units of the product sold in that particular order.\n",
    "\n",
    "- `Discount`: Any discount or reduction applied to the product's original price for that order.\n",
    "\n",
    "- `Profit`: The amount of profit or loss incurred from the sale of the product in that order, considering costs and revenue."
   ]
  },
  {
   "cell_type": "code",
   "execution_count": 5,
   "metadata": {
    "colab": {
     "base_uri": "https://localhost:8080/",
     "height": 236
    },
    "executionInfo": {
     "elapsed": 54,
     "status": "ok",
     "timestamp": 1716223411028,
     "user": {
      "displayName": "Saif Ullah",
      "userId": "04066764031186977808"
     },
     "user_tz": -300
    },
    "id": "_d4_eom_Pf1Q",
    "outputId": "8146c164-d8c8-4bb2-f96d-cfa79cd112a3"
   },
   "outputs": [
    {
     "data": {
      "text/html": [
       "<div>\n",
       "<style scoped>\n",
       "    .dataframe tbody tr th:only-of-type {\n",
       "        vertical-align: middle;\n",
       "    }\n",
       "\n",
       "    .dataframe tbody tr th {\n",
       "        vertical-align: top;\n",
       "    }\n",
       "\n",
       "    .dataframe thead th {\n",
       "        text-align: right;\n",
       "    }\n",
       "</style>\n",
       "<table border=\"1\" class=\"dataframe\">\n",
       "  <thead>\n",
       "    <tr style=\"text-align: right;\">\n",
       "      <th></th>\n",
       "      <th>Row ID</th>\n",
       "      <th>Order ID</th>\n",
       "      <th>Order Date</th>\n",
       "      <th>Ship Date</th>\n",
       "      <th>Ship Mode</th>\n",
       "      <th>Customer ID</th>\n",
       "      <th>Customer Name</th>\n",
       "      <th>Segment</th>\n",
       "      <th>City</th>\n",
       "      <th>State</th>\n",
       "      <th>Country</th>\n",
       "      <th>Region</th>\n",
       "      <th>Product ID</th>\n",
       "      <th>Category</th>\n",
       "      <th>Sub-Category</th>\n",
       "      <th>Product Name</th>\n",
       "      <th>Sales</th>\n",
       "      <th>Quantity</th>\n",
       "      <th>Discount</th>\n",
       "      <th>Profit</th>\n",
       "    </tr>\n",
       "  </thead>\n",
       "  <tbody>\n",
       "    <tr>\n",
       "      <th>0</th>\n",
       "      <td>1</td>\n",
       "      <td>ES-2018-1311038</td>\n",
       "      <td>2018-02-07</td>\n",
       "      <td>2018-02-11</td>\n",
       "      <td>Standard Class</td>\n",
       "      <td>AS-10045</td>\n",
       "      <td>Aaron Smayling</td>\n",
       "      <td>Corporate</td>\n",
       "      <td>Leeds</td>\n",
       "      <td>England</td>\n",
       "      <td>United Kingdom</td>\n",
       "      <td>North</td>\n",
       "      <td>OFF-ST-10000988</td>\n",
       "      <td>Office Supplies</td>\n",
       "      <td>Storage</td>\n",
       "      <td>Fellowes Folders, Blue</td>\n",
       "      <td>79.20</td>\n",
       "      <td>3</td>\n",
       "      <td>0.0</td>\n",
       "      <td>39.6</td>\n",
       "    </tr>\n",
       "    <tr>\n",
       "      <th>1</th>\n",
       "      <td>2</td>\n",
       "      <td>ES-2018-1311038</td>\n",
       "      <td>2018-02-07</td>\n",
       "      <td>2018-02-11</td>\n",
       "      <td>Standard Class</td>\n",
       "      <td>AS-10045</td>\n",
       "      <td>Aaron Smayling</td>\n",
       "      <td>Corporate</td>\n",
       "      <td>Leeds</td>\n",
       "      <td>England</td>\n",
       "      <td>United Kingdom</td>\n",
       "      <td>North</td>\n",
       "      <td>TEC-AC-10004144</td>\n",
       "      <td>Technology</td>\n",
       "      <td>Accessories</td>\n",
       "      <td>SanDisk Numeric Keypad, Bluetooth</td>\n",
       "      <td>388.92</td>\n",
       "      <td>7</td>\n",
       "      <td>0.0</td>\n",
       "      <td>0.0</td>\n",
       "    </tr>\n",
       "  </tbody>\n",
       "</table>\n",
       "</div>"
      ],
      "text/plain": [
       "   Row ID         Order ID Order Date  Ship Date       Ship Mode Customer ID  \\\n",
       "0       1  ES-2018-1311038 2018-02-07 2018-02-11  Standard Class    AS-10045   \n",
       "1       2  ES-2018-1311038 2018-02-07 2018-02-11  Standard Class    AS-10045   \n",
       "\n",
       "    Customer Name    Segment   City    State         Country Region  \\\n",
       "0  Aaron Smayling  Corporate  Leeds  England  United Kingdom  North   \n",
       "1  Aaron Smayling  Corporate  Leeds  England  United Kingdom  North   \n",
       "\n",
       "        Product ID         Category Sub-Category  \\\n",
       "0  OFF-ST-10000988  Office Supplies      Storage   \n",
       "1  TEC-AC-10004144       Technology  Accessories   \n",
       "\n",
       "                        Product Name   Sales  Quantity  Discount  Profit  \n",
       "0             Fellowes Folders, Blue   79.20         3       0.0    39.6  \n",
       "1  SanDisk Numeric Keypad, Bluetooth  388.92         7       0.0     0.0  "
      ]
     },
     "execution_count": 5,
     "metadata": {},
     "output_type": "execute_result"
    }
   ],
   "source": [
    "df.head(2)"
   ]
  },
  {
   "cell_type": "code",
   "execution_count": 6,
   "metadata": {
    "colab": {
     "base_uri": "https://localhost:8080/",
     "height": 868
    },
    "executionInfo": {
     "elapsed": 54,
     "status": "ok",
     "timestamp": 1716223411029,
     "user": {
      "displayName": "Saif Ullah",
      "userId": "04066764031186977808"
     },
     "user_tz": -300
    },
    "id": "uZ9mIdC1fd8e",
    "outputId": "9d96f1ad-7903-4bb7-e698-de14de1f065e"
   },
   "outputs": [
    {
     "data": {
      "text/html": [
       "<div>\n",
       "<style scoped>\n",
       "    .dataframe tbody tr th:only-of-type {\n",
       "        vertical-align: middle;\n",
       "    }\n",
       "\n",
       "    .dataframe tbody tr th {\n",
       "        vertical-align: top;\n",
       "    }\n",
       "\n",
       "    .dataframe thead th {\n",
       "        text-align: right;\n",
       "    }\n",
       "</style>\n",
       "<table border=\"1\" class=\"dataframe\">\n",
       "  <thead>\n",
       "    <tr style=\"text-align: right;\">\n",
       "      <th></th>\n",
       "      <th>Row ID</th>\n",
       "      <th>Order ID</th>\n",
       "      <th>Order Date</th>\n",
       "      <th>Ship Date</th>\n",
       "      <th>Ship Mode</th>\n",
       "      <th>Customer ID</th>\n",
       "      <th>Customer Name</th>\n",
       "      <th>Segment</th>\n",
       "      <th>City</th>\n",
       "      <th>State</th>\n",
       "      <th>Country</th>\n",
       "      <th>Region</th>\n",
       "      <th>Product ID</th>\n",
       "      <th>Category</th>\n",
       "      <th>Sub-Category</th>\n",
       "      <th>Product Name</th>\n",
       "      <th>Sales</th>\n",
       "      <th>Quantity</th>\n",
       "      <th>Discount</th>\n",
       "      <th>Profit</th>\n",
       "    </tr>\n",
       "  </thead>\n",
       "  <tbody>\n",
       "    <tr>\n",
       "      <th>9571</th>\n",
       "      <td>9572</td>\n",
       "      <td>IT-2018-2557034</td>\n",
       "      <td>2018-05-12</td>\n",
       "      <td>2018-05-17</td>\n",
       "      <td>Standard Class</td>\n",
       "      <td>AA-10645</td>\n",
       "      <td>Anna Andreadi</td>\n",
       "      <td>Consumer</td>\n",
       "      <td>Toulouse</td>\n",
       "      <td>Languedoc-Roussillon-Midi-Pyrénées</td>\n",
       "      <td>France</td>\n",
       "      <td>Central</td>\n",
       "      <td>TEC-AC-10002158</td>\n",
       "      <td>Technology</td>\n",
       "      <td>Accessories</td>\n",
       "      <td>Enermax Memory Card, Erganomic</td>\n",
       "      <td>168.300</td>\n",
       "      <td>3</td>\n",
       "      <td>0.5</td>\n",
       "      <td>-10.170</td>\n",
       "    </tr>\n",
       "    <tr>\n",
       "      <th>8260</th>\n",
       "      <td>8261</td>\n",
       "      <td>ES-2016-3290357</td>\n",
       "      <td>2016-06-26</td>\n",
       "      <td>2016-07-03</td>\n",
       "      <td>Standard Class</td>\n",
       "      <td>JF-15295</td>\n",
       "      <td>Jason Fortune-</td>\n",
       "      <td>Consumer</td>\n",
       "      <td>Wolverhampton</td>\n",
       "      <td>England</td>\n",
       "      <td>United Kingdom</td>\n",
       "      <td>North</td>\n",
       "      <td>FUR-CH-10001553</td>\n",
       "      <td>Furniture</td>\n",
       "      <td>Chairs</td>\n",
       "      <td>Hon Bag Chairs, Adjustable</td>\n",
       "      <td>333.480</td>\n",
       "      <td>7</td>\n",
       "      <td>0.0</td>\n",
       "      <td>73.290</td>\n",
       "    </tr>\n",
       "    <tr>\n",
       "      <th>4390</th>\n",
       "      <td>4391</td>\n",
       "      <td>IT-2016-2166139</td>\n",
       "      <td>2016-11-09</td>\n",
       "      <td>2016-11-15</td>\n",
       "      <td>Standard Class</td>\n",
       "      <td>IG-15085</td>\n",
       "      <td>Ivan Gibson</td>\n",
       "      <td>Consumer</td>\n",
       "      <td>Verdun</td>\n",
       "      <td>Alsace-Champagne-Ardenne-Lorraine</td>\n",
       "      <td>France</td>\n",
       "      <td>Central</td>\n",
       "      <td>OFF-EN-10003465</td>\n",
       "      <td>Office Supplies</td>\n",
       "      <td>Envelopes</td>\n",
       "      <td>Cameo Peel and Seal, Security-Tint</td>\n",
       "      <td>70.200</td>\n",
       "      <td>3</td>\n",
       "      <td>0.0</td>\n",
       "      <td>4.140</td>\n",
       "    </tr>\n",
       "    <tr>\n",
       "      <th>1965</th>\n",
       "      <td>1966</td>\n",
       "      <td>ES-2016-2229637</td>\n",
       "      <td>2016-05-26</td>\n",
       "      <td>2016-05-27</td>\n",
       "      <td>First Class</td>\n",
       "      <td>CD-11920</td>\n",
       "      <td>Carlos Daly</td>\n",
       "      <td>Consumer</td>\n",
       "      <td>Alicante</td>\n",
       "      <td>Valenciana</td>\n",
       "      <td>Spain</td>\n",
       "      <td>South</td>\n",
       "      <td>OFF-AR-10000110</td>\n",
       "      <td>Office Supplies</td>\n",
       "      <td>Art</td>\n",
       "      <td>Binney &amp; Smith Sketch Pad, Blue</td>\n",
       "      <td>370.560</td>\n",
       "      <td>8</td>\n",
       "      <td>0.0</td>\n",
       "      <td>96.240</td>\n",
       "    </tr>\n",
       "    <tr>\n",
       "      <th>7813</th>\n",
       "      <td>7814</td>\n",
       "      <td>IT-2016-5509380</td>\n",
       "      <td>2016-11-03</td>\n",
       "      <td>2016-11-09</td>\n",
       "      <td>Standard Class</td>\n",
       "      <td>JC-15340</td>\n",
       "      <td>Jasper Cacioppo</td>\n",
       "      <td>Consumer</td>\n",
       "      <td>Groningen</td>\n",
       "      <td>Groningen</td>\n",
       "      <td>Netherlands</td>\n",
       "      <td>Central</td>\n",
       "      <td>FUR-CH-10004774</td>\n",
       "      <td>Furniture</td>\n",
       "      <td>Chairs</td>\n",
       "      <td>Novimex Executive Leather Armchair, Red</td>\n",
       "      <td>2070.900</td>\n",
       "      <td>9</td>\n",
       "      <td>0.5</td>\n",
       "      <td>-621.270</td>\n",
       "    </tr>\n",
       "    <tr>\n",
       "      <th>9533</th>\n",
       "      <td>8979</td>\n",
       "      <td>IT-2018-4197253</td>\n",
       "      <td>2018-08-16</td>\n",
       "      <td>2018-08-17</td>\n",
       "      <td>First Class</td>\n",
       "      <td>MY-18295</td>\n",
       "      <td>Muhammed Yedwab</td>\n",
       "      <td>Corporate</td>\n",
       "      <td>The Hague</td>\n",
       "      <td>South Holland</td>\n",
       "      <td>Netherlands</td>\n",
       "      <td>Central</td>\n",
       "      <td>OFF-ST-10001050</td>\n",
       "      <td>Office Supplies</td>\n",
       "      <td>Storage</td>\n",
       "      <td>Eldon Shelving, Blue</td>\n",
       "      <td>48.420</td>\n",
       "      <td>2</td>\n",
       "      <td>0.5</td>\n",
       "      <td>-22.320</td>\n",
       "    </tr>\n",
       "    <tr>\n",
       "      <th>8343</th>\n",
       "      <td>8344</td>\n",
       "      <td>ES-2018-2949307</td>\n",
       "      <td>2018-01-25</td>\n",
       "      <td>2018-02-01</td>\n",
       "      <td>Standard Class</td>\n",
       "      <td>KH-16360</td>\n",
       "      <td>Katherine Hughes</td>\n",
       "      <td>Consumer</td>\n",
       "      <td>Montceau-les-Mines</td>\n",
       "      <td>Bourgogne-Franche-Comté</td>\n",
       "      <td>France</td>\n",
       "      <td>Central</td>\n",
       "      <td>OFF-ST-10002900</td>\n",
       "      <td>Office Supplies</td>\n",
       "      <td>Storage</td>\n",
       "      <td>Smead Lockers, Wire Frame</td>\n",
       "      <td>355.482</td>\n",
       "      <td>2</td>\n",
       "      <td>0.1</td>\n",
       "      <td>-3.978</td>\n",
       "    </tr>\n",
       "    <tr>\n",
       "      <th>9870</th>\n",
       "      <td>9871</td>\n",
       "      <td>IT-2015-2323076</td>\n",
       "      <td>2015-12-20</td>\n",
       "      <td>2015-12-22</td>\n",
       "      <td>Second Class</td>\n",
       "      <td>SC-20380</td>\n",
       "      <td>Shahid Collister</td>\n",
       "      <td>Consumer</td>\n",
       "      <td>Stockholm</td>\n",
       "      <td>Stockholm</td>\n",
       "      <td>Sweden</td>\n",
       "      <td>North</td>\n",
       "      <td>OFF-EN-10002736</td>\n",
       "      <td>Office Supplies</td>\n",
       "      <td>Envelopes</td>\n",
       "      <td>Cameo Clasp Envelope, with clear poly window</td>\n",
       "      <td>13.050</td>\n",
       "      <td>2</td>\n",
       "      <td>0.5</td>\n",
       "      <td>-3.690</td>\n",
       "    </tr>\n",
       "    <tr>\n",
       "      <th>9996</th>\n",
       "      <td>9997</td>\n",
       "      <td>ES-2016-5371207</td>\n",
       "      <td>2016-01-25</td>\n",
       "      <td>2016-01-29</td>\n",
       "      <td>Standard Class</td>\n",
       "      <td>GB-14575</td>\n",
       "      <td>Giulietta Baptist</td>\n",
       "      <td>Consumer</td>\n",
       "      <td>Hamburg</td>\n",
       "      <td>Hamburg</td>\n",
       "      <td>Germany</td>\n",
       "      <td>Central</td>\n",
       "      <td>OFF-BI-10002083</td>\n",
       "      <td>Office Supplies</td>\n",
       "      <td>Binders</td>\n",
       "      <td>Acco Hole Reinforcements, Economy</td>\n",
       "      <td>6.660</td>\n",
       "      <td>1</td>\n",
       "      <td>0.0</td>\n",
       "      <td>0.570</td>\n",
       "    </tr>\n",
       "    <tr>\n",
       "      <th>3053</th>\n",
       "      <td>3054</td>\n",
       "      <td>ES-2018-4505254</td>\n",
       "      <td>2018-05-09</td>\n",
       "      <td>2018-05-13</td>\n",
       "      <td>Standard Class</td>\n",
       "      <td>MT-17815</td>\n",
       "      <td>Meg Tillman</td>\n",
       "      <td>Consumer</td>\n",
       "      <td>London</td>\n",
       "      <td>England</td>\n",
       "      <td>United Kingdom</td>\n",
       "      <td>North</td>\n",
       "      <td>TEC-AC-10000510</td>\n",
       "      <td>Technology</td>\n",
       "      <td>Accessories</td>\n",
       "      <td>SanDisk Flash Drive, Bluetooth</td>\n",
       "      <td>71.172</td>\n",
       "      <td>2</td>\n",
       "      <td>0.1</td>\n",
       "      <td>28.452</td>\n",
       "    </tr>\n",
       "  </tbody>\n",
       "</table>\n",
       "</div>"
      ],
      "text/plain": [
       "      Row ID         Order ID Order Date  Ship Date       Ship Mode  \\\n",
       "9571    9572  IT-2018-2557034 2018-05-12 2018-05-17  Standard Class   \n",
       "8260    8261  ES-2016-3290357 2016-06-26 2016-07-03  Standard Class   \n",
       "4390    4391  IT-2016-2166139 2016-11-09 2016-11-15  Standard Class   \n",
       "1965    1966  ES-2016-2229637 2016-05-26 2016-05-27     First Class   \n",
       "7813    7814  IT-2016-5509380 2016-11-03 2016-11-09  Standard Class   \n",
       "9533    8979  IT-2018-4197253 2018-08-16 2018-08-17     First Class   \n",
       "8343    8344  ES-2018-2949307 2018-01-25 2018-02-01  Standard Class   \n",
       "9870    9871  IT-2015-2323076 2015-12-20 2015-12-22    Second Class   \n",
       "9996    9997  ES-2016-5371207 2016-01-25 2016-01-29  Standard Class   \n",
       "3053    3054  ES-2018-4505254 2018-05-09 2018-05-13  Standard Class   \n",
       "\n",
       "     Customer ID      Customer Name    Segment                City  \\\n",
       "9571    AA-10645      Anna Andreadi   Consumer            Toulouse   \n",
       "8260    JF-15295     Jason Fortune-   Consumer       Wolverhampton   \n",
       "4390    IG-15085        Ivan Gibson   Consumer              Verdun   \n",
       "1965    CD-11920        Carlos Daly   Consumer            Alicante   \n",
       "7813    JC-15340    Jasper Cacioppo   Consumer           Groningen   \n",
       "9533    MY-18295    Muhammed Yedwab  Corporate           The Hague   \n",
       "8343    KH-16360   Katherine Hughes   Consumer  Montceau-les-Mines   \n",
       "9870    SC-20380   Shahid Collister   Consumer           Stockholm   \n",
       "9996    GB-14575  Giulietta Baptist   Consumer             Hamburg   \n",
       "3053    MT-17815        Meg Tillman   Consumer              London   \n",
       "\n",
       "                                   State         Country   Region  \\\n",
       "9571  Languedoc-Roussillon-Midi-Pyrénées          France  Central   \n",
       "8260                             England  United Kingdom    North   \n",
       "4390   Alsace-Champagne-Ardenne-Lorraine          France  Central   \n",
       "1965                          Valenciana           Spain    South   \n",
       "7813                           Groningen     Netherlands  Central   \n",
       "9533                       South Holland     Netherlands  Central   \n",
       "8343             Bourgogne-Franche-Comté          France  Central   \n",
       "9870                           Stockholm          Sweden    North   \n",
       "9996                             Hamburg         Germany  Central   \n",
       "3053                             England  United Kingdom    North   \n",
       "\n",
       "           Product ID         Category Sub-Category  \\\n",
       "9571  TEC-AC-10002158       Technology  Accessories   \n",
       "8260  FUR-CH-10001553        Furniture       Chairs   \n",
       "4390  OFF-EN-10003465  Office Supplies    Envelopes   \n",
       "1965  OFF-AR-10000110  Office Supplies          Art   \n",
       "7813  FUR-CH-10004774        Furniture       Chairs   \n",
       "9533  OFF-ST-10001050  Office Supplies      Storage   \n",
       "8343  OFF-ST-10002900  Office Supplies      Storage   \n",
       "9870  OFF-EN-10002736  Office Supplies    Envelopes   \n",
       "9996  OFF-BI-10002083  Office Supplies      Binders   \n",
       "3053  TEC-AC-10000510       Technology  Accessories   \n",
       "\n",
       "                                      Product Name     Sales  Quantity  \\\n",
       "9571                Enermax Memory Card, Erganomic   168.300         3   \n",
       "8260                    Hon Bag Chairs, Adjustable   333.480         7   \n",
       "4390            Cameo Peel and Seal, Security-Tint    70.200         3   \n",
       "1965               Binney & Smith Sketch Pad, Blue   370.560         8   \n",
       "7813       Novimex Executive Leather Armchair, Red  2070.900         9   \n",
       "9533                          Eldon Shelving, Blue    48.420         2   \n",
       "8343                     Smead Lockers, Wire Frame   355.482         2   \n",
       "9870  Cameo Clasp Envelope, with clear poly window    13.050         2   \n",
       "9996             Acco Hole Reinforcements, Economy     6.660         1   \n",
       "3053                SanDisk Flash Drive, Bluetooth    71.172         2   \n",
       "\n",
       "      Discount   Profit  \n",
       "9571       0.5  -10.170  \n",
       "8260       0.0   73.290  \n",
       "4390       0.0    4.140  \n",
       "1965       0.0   96.240  \n",
       "7813       0.5 -621.270  \n",
       "9533       0.5  -22.320  \n",
       "8343       0.1   -3.978  \n",
       "9870       0.5   -3.690  \n",
       "9996       0.0    0.570  \n",
       "3053       0.1   28.452  "
      ]
     },
     "execution_count": 6,
     "metadata": {},
     "output_type": "execute_result"
    }
   ],
   "source": [
    "df.sample(10)"
   ]
  },
  {
   "cell_type": "code",
   "execution_count": 7,
   "metadata": {
    "colab": {
     "base_uri": "https://localhost:8080/"
    },
    "executionInfo": {
     "elapsed": 53,
     "status": "ok",
     "timestamp": 1716223411030,
     "user": {
      "displayName": "Saif Ullah",
      "userId": "04066764031186977808"
     },
     "user_tz": -300
    },
    "id": "65zcbH-8fqry",
    "outputId": "207038f4-e8d0-43ea-e7d8-72841cb5ed04"
   },
   "outputs": [
    {
     "name": "stdout",
     "output_type": "stream",
     "text": [
      "<class 'pandas.core.frame.DataFrame'>\n",
      "RangeIndex: 10000 entries, 0 to 9999\n",
      "Data columns (total 20 columns):\n",
      " #   Column         Non-Null Count  Dtype         \n",
      "---  ------         --------------  -----         \n",
      " 0   Row ID         10000 non-null  int64         \n",
      " 1   Order ID       10000 non-null  object        \n",
      " 2   Order Date     10000 non-null  datetime64[ns]\n",
      " 3   Ship Date      10000 non-null  datetime64[ns]\n",
      " 4   Ship Mode      10000 non-null  object        \n",
      " 5   Customer ID    10000 non-null  object        \n",
      " 6   Customer Name  10000 non-null  object        \n",
      " 7   Segment        10000 non-null  object        \n",
      " 8   City           10000 non-null  object        \n",
      " 9   State          10000 non-null  object        \n",
      " 10  Country        10000 non-null  object        \n",
      " 11  Region         10000 non-null  object        \n",
      " 12  Product ID     10000 non-null  object        \n",
      " 13  Category       10000 non-null  object        \n",
      " 14  Sub-Category   10000 non-null  object        \n",
      " 15  Product Name   10000 non-null  object        \n",
      " 16  Sales          10000 non-null  float64       \n",
      " 17  Quantity       10000 non-null  int64         \n",
      " 18  Discount       10000 non-null  float64       \n",
      " 19  Profit         10000 non-null  float64       \n",
      "dtypes: datetime64[ns](2), float64(3), int64(2), object(13)\n",
      "memory usage: 1.5+ MB\n"
     ]
    }
   ],
   "source": [
    "df.info()"
   ]
  },
  {
   "cell_type": "code",
   "execution_count": 8,
   "metadata": {
    "colab": {
     "base_uri": "https://localhost:8080/"
    },
    "executionInfo": {
     "elapsed": 47,
     "status": "ok",
     "timestamp": 1716223411030,
     "user": {
      "displayName": "Saif Ullah",
      "userId": "04066764031186977808"
     },
     "user_tz": -300
    },
    "id": "nvQsQB-8f4AT",
    "outputId": "9d303404-9a1a-4d40-9267-298ba51f10ef"
   },
   "outputs": [
    {
     "data": {
      "text/plain": [
       "Row ID           0\n",
       "Order ID         0\n",
       "Order Date       0\n",
       "Ship Date        0\n",
       "Ship Mode        0\n",
       "Customer ID      0\n",
       "Customer Name    0\n",
       "Segment          0\n",
       "City             0\n",
       "State            0\n",
       "Country          0\n",
       "Region           0\n",
       "Product ID       0\n",
       "Category         0\n",
       "Sub-Category     0\n",
       "Product Name     0\n",
       "Sales            0\n",
       "Quantity         0\n",
       "Discount         0\n",
       "Profit           0\n",
       "dtype: int64"
      ]
     },
     "execution_count": 8,
     "metadata": {},
     "output_type": "execute_result"
    }
   ],
   "source": [
    "df.isnull().sum()"
   ]
  },
  {
   "cell_type": "code",
   "execution_count": 9,
   "metadata": {
    "colab": {
     "base_uri": "https://localhost:8080/"
    },
    "executionInfo": {
     "elapsed": 45,
     "status": "ok",
     "timestamp": 1716223411031,
     "user": {
      "displayName": "Saif Ullah",
      "userId": "04066764031186977808"
     },
     "user_tz": -300
    },
    "id": "M_wV4dhGgDuV",
    "outputId": "1d075a91-6316-424e-c670-9f92db138630"
   },
   "outputs": [
    {
     "data": {
      "text/plain": [
       "0"
      ]
     },
     "execution_count": 9,
     "metadata": {},
     "output_type": "execute_result"
    }
   ],
   "source": [
    "df.duplicated().sum()"
   ]
  },
  {
   "cell_type": "code",
   "execution_count": 10,
   "metadata": {
    "colab": {
     "base_uri": "https://localhost:8080/",
     "height": 300
    },
    "executionInfo": {
     "elapsed": 44,
     "status": "ok",
     "timestamp": 1716223411032,
     "user": {
      "displayName": "Saif Ullah",
      "userId": "04066764031186977808"
     },
     "user_tz": -300
    },
    "id": "bhD1HuSAgK9L",
    "outputId": "eb593599-9ca6-4ec8-8a98-53cd2e9c76b5"
   },
   "outputs": [
    {
     "data": {
      "text/html": [
       "<div>\n",
       "<style scoped>\n",
       "    .dataframe tbody tr th:only-of-type {\n",
       "        vertical-align: middle;\n",
       "    }\n",
       "\n",
       "    .dataframe tbody tr th {\n",
       "        vertical-align: top;\n",
       "    }\n",
       "\n",
       "    .dataframe thead th {\n",
       "        text-align: right;\n",
       "    }\n",
       "</style>\n",
       "<table border=\"1\" class=\"dataframe\">\n",
       "  <thead>\n",
       "    <tr style=\"text-align: right;\">\n",
       "      <th></th>\n",
       "      <th>Row ID</th>\n",
       "      <th>Order Date</th>\n",
       "      <th>Ship Date</th>\n",
       "      <th>Sales</th>\n",
       "      <th>Quantity</th>\n",
       "      <th>Discount</th>\n",
       "      <th>Profit</th>\n",
       "    </tr>\n",
       "  </thead>\n",
       "  <tbody>\n",
       "    <tr>\n",
       "      <th>count</th>\n",
       "      <td>10000.00000</td>\n",
       "      <td>10000</td>\n",
       "      <td>10000</td>\n",
       "      <td>10000.000000</td>\n",
       "      <td>10000.000000</td>\n",
       "      <td>10000.000000</td>\n",
       "      <td>10000.000000</td>\n",
       "    </tr>\n",
       "    <tr>\n",
       "      <th>mean</th>\n",
       "      <td>5000.50000</td>\n",
       "      <td>2017-05-14 15:05:45.600000</td>\n",
       "      <td>2017-05-18 15:14:24</td>\n",
       "      <td>293.808906</td>\n",
       "      <td>3.777300</td>\n",
       "      <td>0.103105</td>\n",
       "      <td>37.282974</td>\n",
       "    </tr>\n",
       "    <tr>\n",
       "      <th>min</th>\n",
       "      <td>1.00000</td>\n",
       "      <td>2015-01-01 00:00:00</td>\n",
       "      <td>2015-01-05 00:00:00</td>\n",
       "      <td>2.955000</td>\n",
       "      <td>1.000000</td>\n",
       "      <td>0.000000</td>\n",
       "      <td>-3059.820000</td>\n",
       "    </tr>\n",
       "    <tr>\n",
       "      <th>25%</th>\n",
       "      <td>2500.75000</td>\n",
       "      <td>2016-06-30 00:00:00</td>\n",
       "      <td>2016-07-05 00:00:00</td>\n",
       "      <td>49.462500</td>\n",
       "      <td>2.000000</td>\n",
       "      <td>0.000000</td>\n",
       "      <td>1.320000</td>\n",
       "    </tr>\n",
       "    <tr>\n",
       "      <th>50%</th>\n",
       "      <td>5000.50000</td>\n",
       "      <td>2017-07-09 00:00:00</td>\n",
       "      <td>2017-07-11 00:00:00</td>\n",
       "      <td>119.355000</td>\n",
       "      <td>3.000000</td>\n",
       "      <td>0.000000</td>\n",
       "      <td>14.220000</td>\n",
       "    </tr>\n",
       "    <tr>\n",
       "      <th>75%</th>\n",
       "      <td>7500.25000</td>\n",
       "      <td>2018-06-03 00:00:00</td>\n",
       "      <td>2018-06-06 00:00:00</td>\n",
       "      <td>320.708625</td>\n",
       "      <td>5.000000</td>\n",
       "      <td>0.100000</td>\n",
       "      <td>48.510000</td>\n",
       "    </tr>\n",
       "    <tr>\n",
       "      <th>max</th>\n",
       "      <td>10000.00000</td>\n",
       "      <td>2018-12-31 00:00:00</td>\n",
       "      <td>2019-01-05 00:00:00</td>\n",
       "      <td>7958.580000</td>\n",
       "      <td>14.000000</td>\n",
       "      <td>0.850000</td>\n",
       "      <td>3979.080000</td>\n",
       "    </tr>\n",
       "    <tr>\n",
       "      <th>std</th>\n",
       "      <td>2886.89568</td>\n",
       "      <td>NaN</td>\n",
       "      <td>NaN</td>\n",
       "      <td>486.055635</td>\n",
       "      <td>2.203268</td>\n",
       "      <td>0.174782</td>\n",
       "      <td>178.100384</td>\n",
       "    </tr>\n",
       "  </tbody>\n",
       "</table>\n",
       "</div>"
      ],
      "text/plain": [
       "            Row ID                  Order Date            Ship Date  \\\n",
       "count  10000.00000                       10000                10000   \n",
       "mean    5000.50000  2017-05-14 15:05:45.600000  2017-05-18 15:14:24   \n",
       "min        1.00000         2015-01-01 00:00:00  2015-01-05 00:00:00   \n",
       "25%     2500.75000         2016-06-30 00:00:00  2016-07-05 00:00:00   \n",
       "50%     5000.50000         2017-07-09 00:00:00  2017-07-11 00:00:00   \n",
       "75%     7500.25000         2018-06-03 00:00:00  2018-06-06 00:00:00   \n",
       "max    10000.00000         2018-12-31 00:00:00  2019-01-05 00:00:00   \n",
       "std     2886.89568                         NaN                  NaN   \n",
       "\n",
       "              Sales      Quantity      Discount        Profit  \n",
       "count  10000.000000  10000.000000  10000.000000  10000.000000  \n",
       "mean     293.808906      3.777300      0.103105     37.282974  \n",
       "min        2.955000      1.000000      0.000000  -3059.820000  \n",
       "25%       49.462500      2.000000      0.000000      1.320000  \n",
       "50%      119.355000      3.000000      0.000000     14.220000  \n",
       "75%      320.708625      5.000000      0.100000     48.510000  \n",
       "max     7958.580000     14.000000      0.850000   3979.080000  \n",
       "std      486.055635      2.203268      0.174782    178.100384  "
      ]
     },
     "execution_count": 10,
     "metadata": {},
     "output_type": "execute_result"
    }
   ],
   "source": [
    "df.describe()"
   ]
  },
  {
   "cell_type": "markdown",
   "metadata": {
    "id": "a_A590grhPqu"
   },
   "source": [
    "**Conclusion:**\n",
    "\n",
    "In This Data:\n",
    "- No Duplicate Value\n",
    "- No Null Value\n",
    "- Date coloumn in correct format"
   ]
  },
  {
   "cell_type": "markdown",
   "metadata": {
    "id": "CF0Fu9GvkGp6"
   },
   "source": [
    "## **EDA:**"
   ]
  },
  {
   "cell_type": "markdown",
   "metadata": {
    "id": "xk-yHTw0lTSt"
   },
   "source": [
    "#### Coloumn Type:\n",
    "\n",
    "**Numerical**\n",
    "\n",
    "   -  Sales, Quantity, Discount, Profit\n",
    "\n",
    "**Catagorical**\n",
    "\n",
    "-  Ship Mode, Customer Name, Segment, City, State, Country, Region,Category, Sub-Category, Product Name\n",
    "\n",
    "**Date Columns**\n",
    "\n",
    "-  Order Date, Ship Date\n",
    "\n",
    "**Mixed**\n",
    "-   Product ID, Customer ID, Order ID\n"
   ]
  },
  {
   "cell_type": "code",
   "execution_count": 11,
   "metadata": {
    "colab": {
     "base_uri": "https://localhost:8080/",
     "height": 521
    },
    "executionInfo": {
     "elapsed": 44,
     "status": "ok",
     "timestamp": 1716223411033,
     "user": {
      "displayName": "Saif Ullah",
      "userId": "04066764031186977808"
     },
     "user_tz": -300
    },
    "id": "1DAsDloCkGPs",
    "outputId": "a012db9a-a4a1-4369-9d16-7039676e5b1e"
   },
   "outputs": [
    {
     "data": {
      "text/html": [
       "<div>\n",
       "<style scoped>\n",
       "    .dataframe tbody tr th:only-of-type {\n",
       "        vertical-align: middle;\n",
       "    }\n",
       "\n",
       "    .dataframe tbody tr th {\n",
       "        vertical-align: top;\n",
       "    }\n",
       "\n",
       "    .dataframe thead th {\n",
       "        text-align: right;\n",
       "    }\n",
       "</style>\n",
       "<table border=\"1\" class=\"dataframe\">\n",
       "  <thead>\n",
       "    <tr style=\"text-align: right;\">\n",
       "      <th></th>\n",
       "      <th>Row ID</th>\n",
       "      <th>Order ID</th>\n",
       "      <th>Order Date</th>\n",
       "      <th>Ship Date</th>\n",
       "      <th>Ship Mode</th>\n",
       "      <th>Customer ID</th>\n",
       "      <th>Customer Name</th>\n",
       "      <th>Segment</th>\n",
       "      <th>City</th>\n",
       "      <th>State</th>\n",
       "      <th>Country</th>\n",
       "      <th>Region</th>\n",
       "      <th>Product ID</th>\n",
       "      <th>Category</th>\n",
       "      <th>Sub-Category</th>\n",
       "      <th>Product Name</th>\n",
       "      <th>Sales</th>\n",
       "      <th>Quantity</th>\n",
       "      <th>Discount</th>\n",
       "      <th>Profit</th>\n",
       "    </tr>\n",
       "  </thead>\n",
       "  <tbody>\n",
       "    <tr>\n",
       "      <th>0</th>\n",
       "      <td>1</td>\n",
       "      <td>ES-2018-1311038</td>\n",
       "      <td>2018-02-07</td>\n",
       "      <td>2018-02-11</td>\n",
       "      <td>Standard Class</td>\n",
       "      <td>AS-10045</td>\n",
       "      <td>Aaron Smayling</td>\n",
       "      <td>Corporate</td>\n",
       "      <td>Leeds</td>\n",
       "      <td>England</td>\n",
       "      <td>United Kingdom</td>\n",
       "      <td>North</td>\n",
       "      <td>OFF-ST-10000988</td>\n",
       "      <td>Office Supplies</td>\n",
       "      <td>Storage</td>\n",
       "      <td>Fellowes Folders, Blue</td>\n",
       "      <td>79.20</td>\n",
       "      <td>3</td>\n",
       "      <td>0.0</td>\n",
       "      <td>39.60</td>\n",
       "    </tr>\n",
       "    <tr>\n",
       "      <th>1</th>\n",
       "      <td>2</td>\n",
       "      <td>ES-2018-1311038</td>\n",
       "      <td>2018-02-07</td>\n",
       "      <td>2018-02-11</td>\n",
       "      <td>Standard Class</td>\n",
       "      <td>AS-10045</td>\n",
       "      <td>Aaron Smayling</td>\n",
       "      <td>Corporate</td>\n",
       "      <td>Leeds</td>\n",
       "      <td>England</td>\n",
       "      <td>United Kingdom</td>\n",
       "      <td>North</td>\n",
       "      <td>TEC-AC-10004144</td>\n",
       "      <td>Technology</td>\n",
       "      <td>Accessories</td>\n",
       "      <td>SanDisk Numeric Keypad, Bluetooth</td>\n",
       "      <td>388.92</td>\n",
       "      <td>7</td>\n",
       "      <td>0.0</td>\n",
       "      <td>0.00</td>\n",
       "    </tr>\n",
       "    <tr>\n",
       "      <th>2</th>\n",
       "      <td>3</td>\n",
       "      <td>ES-2018-1311038</td>\n",
       "      <td>2018-02-07</td>\n",
       "      <td>2018-02-11</td>\n",
       "      <td>Standard Class</td>\n",
       "      <td>AS-10045</td>\n",
       "      <td>Aaron Smayling</td>\n",
       "      <td>Corporate</td>\n",
       "      <td>Leeds</td>\n",
       "      <td>England</td>\n",
       "      <td>United Kingdom</td>\n",
       "      <td>North</td>\n",
       "      <td>OFF-LA-10001915</td>\n",
       "      <td>Office Supplies</td>\n",
       "      <td>Labels</td>\n",
       "      <td>Avery Legal Exhibit Labels, 5000 Label Set</td>\n",
       "      <td>35.19</td>\n",
       "      <td>3</td>\n",
       "      <td>0.0</td>\n",
       "      <td>16.11</td>\n",
       "    </tr>\n",
       "    <tr>\n",
       "      <th>3</th>\n",
       "      <td>4</td>\n",
       "      <td>ES-2018-1311038</td>\n",
       "      <td>2018-02-07</td>\n",
       "      <td>2018-02-11</td>\n",
       "      <td>Standard Class</td>\n",
       "      <td>AS-10045</td>\n",
       "      <td>Aaron Smayling</td>\n",
       "      <td>Corporate</td>\n",
       "      <td>Leeds</td>\n",
       "      <td>England</td>\n",
       "      <td>United Kingdom</td>\n",
       "      <td>North</td>\n",
       "      <td>OFF-ST-10004550</td>\n",
       "      <td>Office Supplies</td>\n",
       "      <td>Storage</td>\n",
       "      <td>Fellowes Folders, Wire Frame</td>\n",
       "      <td>50.94</td>\n",
       "      <td>2</td>\n",
       "      <td>0.0</td>\n",
       "      <td>13.20</td>\n",
       "    </tr>\n",
       "    <tr>\n",
       "      <th>4</th>\n",
       "      <td>5</td>\n",
       "      <td>ES-2018-1311038</td>\n",
       "      <td>2018-02-07</td>\n",
       "      <td>2018-02-11</td>\n",
       "      <td>Standard Class</td>\n",
       "      <td>AS-10045</td>\n",
       "      <td>Aaron Smayling</td>\n",
       "      <td>Corporate</td>\n",
       "      <td>Leeds</td>\n",
       "      <td>England</td>\n",
       "      <td>United Kingdom</td>\n",
       "      <td>North</td>\n",
       "      <td>TEC-AC-10004068</td>\n",
       "      <td>Technology</td>\n",
       "      <td>Accessories</td>\n",
       "      <td>Memorex Memory Card, USB</td>\n",
       "      <td>307.44</td>\n",
       "      <td>3</td>\n",
       "      <td>0.0</td>\n",
       "      <td>73.71</td>\n",
       "    </tr>\n",
       "  </tbody>\n",
       "</table>\n",
       "</div>"
      ],
      "text/plain": [
       "   Row ID         Order ID Order Date  Ship Date       Ship Mode Customer ID  \\\n",
       "0       1  ES-2018-1311038 2018-02-07 2018-02-11  Standard Class    AS-10045   \n",
       "1       2  ES-2018-1311038 2018-02-07 2018-02-11  Standard Class    AS-10045   \n",
       "2       3  ES-2018-1311038 2018-02-07 2018-02-11  Standard Class    AS-10045   \n",
       "3       4  ES-2018-1311038 2018-02-07 2018-02-11  Standard Class    AS-10045   \n",
       "4       5  ES-2018-1311038 2018-02-07 2018-02-11  Standard Class    AS-10045   \n",
       "\n",
       "    Customer Name    Segment   City    State         Country Region  \\\n",
       "0  Aaron Smayling  Corporate  Leeds  England  United Kingdom  North   \n",
       "1  Aaron Smayling  Corporate  Leeds  England  United Kingdom  North   \n",
       "2  Aaron Smayling  Corporate  Leeds  England  United Kingdom  North   \n",
       "3  Aaron Smayling  Corporate  Leeds  England  United Kingdom  North   \n",
       "4  Aaron Smayling  Corporate  Leeds  England  United Kingdom  North   \n",
       "\n",
       "        Product ID         Category Sub-Category  \\\n",
       "0  OFF-ST-10000988  Office Supplies      Storage   \n",
       "1  TEC-AC-10004144       Technology  Accessories   \n",
       "2  OFF-LA-10001915  Office Supplies       Labels   \n",
       "3  OFF-ST-10004550  Office Supplies      Storage   \n",
       "4  TEC-AC-10004068       Technology  Accessories   \n",
       "\n",
       "                                 Product Name   Sales  Quantity  Discount  \\\n",
       "0                      Fellowes Folders, Blue   79.20         3       0.0   \n",
       "1           SanDisk Numeric Keypad, Bluetooth  388.92         7       0.0   \n",
       "2  Avery Legal Exhibit Labels, 5000 Label Set   35.19         3       0.0   \n",
       "3                Fellowes Folders, Wire Frame   50.94         2       0.0   \n",
       "4                    Memorex Memory Card, USB  307.44         3       0.0   \n",
       "\n",
       "   Profit  \n",
       "0   39.60  \n",
       "1    0.00  \n",
       "2   16.11  \n",
       "3   13.20  \n",
       "4   73.71  "
      ]
     },
     "execution_count": 11,
     "metadata": {},
     "output_type": "execute_result"
    }
   ],
   "source": [
    "df.head()"
   ]
  },
  {
   "cell_type": "markdown",
   "metadata": {
    "id": "kl3D_Ly4nn4c"
   },
   "source": [
    "### Univariate Analysis"
   ]
  },
  {
   "cell_type": "markdown",
   "metadata": {
    "id": "Lj6UTdAA0yey"
   },
   "source": [
    "**Conclusion**\n",
    "- Sales is positively skewd\n",
    "- There are outlier\n",
    "- No missing Values"
   ]
  },
  {
   "cell_type": "code",
   "execution_count": 12,
   "metadata": {
    "colab": {
     "base_uri": "https://localhost:8080/"
    },
    "executionInfo": {
     "elapsed": 42,
     "status": "ok",
     "timestamp": 1716223411033,
     "user": {
      "displayName": "Saif Ullah",
      "userId": "04066764031186977808"
     },
     "user_tz": -300
    },
    "id": "sSXZ7mKJnnhQ",
    "outputId": "6859e04a-7c67-4bf0-b43d-e63d4d87ee26"
   },
   "outputs": [
    {
     "data": {
      "text/plain": [
       "count    10000.000000\n",
       "mean       293.808906\n",
       "std        486.055635\n",
       "min          2.955000\n",
       "25%         49.462500\n",
       "50%        119.355000\n",
       "75%        320.708625\n",
       "max       7958.580000\n",
       "Name: Sales, dtype: float64"
      ]
     },
     "execution_count": 12,
     "metadata": {},
     "output_type": "execute_result"
    }
   ],
   "source": [
    "df[\"Sales\"].describe()"
   ]
  },
  {
   "cell_type": "code",
   "execution_count": 13,
   "metadata": {
    "colab": {
     "base_uri": "https://localhost:8080/",
     "height": 448
    },
    "executionInfo": {
     "elapsed": 1267,
     "status": "ok",
     "timestamp": 1716223412262,
     "user": {
      "displayName": "Saif Ullah",
      "userId": "04066764031186977808"
     },
     "user_tz": -300
    },
    "id": "2ayqQVc0tCDr",
    "outputId": "9ffc4631-48b5-4ed0-f45e-6def65b506ec"
   },
   "outputs": [
    {
     "data": {
      "text/plain": [
       "<Axes: ylabel='Frequency'>"
      ]
     },
     "execution_count": 13,
     "metadata": {},
     "output_type": "execute_result"
    },
    {
     "data": {
      "image/png": "[encoded data removed]",
      "text/plain": [
       "<Figure size 640x480 with 1 Axes>"
      ]
     },
     "metadata": {},
     "output_type": "display_data"
    }
   ],
   "source": [
    "df['Sales'].plot(kind='hist', bins = 20)"
   ]
  },
  {
   "cell_type": "code",
   "execution_count": 14,
   "metadata": {
    "colab": {
     "base_uri": "https://localhost:8080/",
     "height": 448
    },
    "executionInfo": {
     "elapsed": 1278,
     "status": "ok",
     "timestamp": 1716223413519,
     "user": {
      "displayName": "Saif Ullah",
      "userId": "04066764031186977808"
     },
     "user_tz": -300
    },
    "id": "PzFmWG3jzdAE",
    "outputId": "46489da3-5fe0-46ac-8c15-0dd0620972b0"
   },
   "outputs": [
    {
     "data": {
      "text/plain": [
       "<Axes: ylabel='Density'>"
      ]
     },
     "execution_count": 14,
     "metadata": {},
     "output_type": "execute_result"
    },
    {
     "data": {
      "image/png": "[encoded data removed]",
      "text/plain": [
       "<Figure size 640x480 with 1 Axes>"
      ]
     },
     "metadata": {},
     "output_type": "display_data"
    }
   ],
   "source": [
    "df['Sales'].plot(kind='kde')"
   ]
  },
  {
   "cell_type": "code",
   "execution_count": 15,
   "metadata": {
    "colab": {
     "base_uri": "https://localhost:8080/"
    },
    "executionInfo": {
     "elapsed": 244,
     "status": "ok",
     "timestamp": 1716223413549,
     "user": {
      "displayName": "Saif Ullah",
      "userId": "04066764031186977808"
     },
     "user_tz": -300
    },
    "id": "IOe_kQuKzvMA",
    "outputId": "7892c66d-1bb4-43bc-a12d-b2ea31bf2ca0"
   },
   "outputs": [
    {
     "data": {
      "text/plain": [
       "4.4983526652018755"
      ]
     },
     "execution_count": 15,
     "metadata": {},
     "output_type": "execute_result"
    }
   ],
   "source": [
    "df['Sales'].skew()"
   ]
  },
  {
   "cell_type": "code",
   "execution_count": 16,
   "metadata": {
    "colab": {
     "base_uri": "https://localhost:8080/",
     "height": 448
    },
    "executionInfo": {
     "elapsed": 243,
     "status": "ok",
     "timestamp": 1716223413549,
     "user": {
      "displayName": "Saif Ullah",
      "userId": "04066764031186977808"
     },
     "user_tz": -300
    },
    "id": "-WkxbD5ez1Zj",
    "outputId": "ebe2f0d7-f640-4bc4-e431-33a335b538a2"
   },
   "outputs": [
    {
     "data": {
      "text/plain": [
       "<Axes: >"
      ]
     },
     "execution_count": 16,
     "metadata": {},
     "output_type": "execute_result"
    },
    {
     "data": {
      "image/png": "[encoded data removed]",
      "text/plain": [
       "<Figure size 640x480 with 1 Axes>"
      ]
     },
     "metadata": {},
     "output_type": "display_data"
    }
   ],
   "source": [
    "df['Sales'].plot(kind = \"box\")"
   ]
  },
  {
   "cell_type": "code",
   "execution_count": 17,
   "metadata": {
    "colab": {
     "base_uri": "https://localhost:8080/",
     "height": 448
    },
    "executionInfo": {
     "elapsed": 240,
     "status": "ok",
     "timestamp": 1716223413549,
     "user": {
      "displayName": "Saif Ullah",
      "userId": "04066764031186977808"
     },
     "user_tz": -300
    },
    "id": "A0DvXToO0DZ0",
    "outputId": "2105a8cd-092d-4d2a-b6fb-5d94ee6b08f5"
   },
   "outputs": [
    {
     "data": {
      "text/plain": [
       "<Axes: >"
      ]
     },
     "execution_count": 17,
     "metadata": {},
     "output_type": "execute_result"
    },
    {
     "data": {
      "image/png": "[encoded data removed]",
      "text/plain": [
       "<Figure size 640x480 with 1 Axes>"
      ]
     },
     "metadata": {},
     "output_type": "display_data"
    }
   ],
   "source": [
    "df[df['Sales'] < 1050]['Sales'].plot(kind = \"box\")"
   ]
  },
  {
   "cell_type": "markdown",
   "metadata": {
    "id": "QnUf0t6e3AWs"
   },
   "source": [
    "**Conclusion**\n",
    "- Positively Skewed\n",
    "- There are some outliers"
   ]
  },
  {
   "cell_type": "code",
   "execution_count": 18,
   "metadata": {
    "colab": {
     "base_uri": "https://localhost:8080/"
    },
    "executionInfo": {
     "elapsed": 234,
     "status": "ok",
     "timestamp": 1716223413550,
     "user": {
      "displayName": "Saif Ullah",
      "userId": "04066764031186977808"
     },
     "user_tz": -300
    },
    "id": "IN0qR0gE1Vfm",
    "outputId": "024df864-2216-4ea0-bf57-bae16dc3213c"
   },
   "outputs": [
    {
     "data": {
      "text/plain": [
       "count    10000.000000\n",
       "mean         3.777300\n",
       "std          2.203268\n",
       "min          1.000000\n",
       "25%          2.000000\n",
       "50%          3.000000\n",
       "75%          5.000000\n",
       "max         14.000000\n",
       "Name: Quantity, dtype: float64"
      ]
     },
     "execution_count": 18,
     "metadata": {},
     "output_type": "execute_result"
    }
   ],
   "source": [
    "# Quantity\n",
    "df['Quantity'].describe()"
   ]
  },
  {
   "cell_type": "code",
   "execution_count": 19,
   "metadata": {
    "colab": {
     "base_uri": "https://localhost:8080/",
     "height": 1000
    },
    "executionInfo": {
     "elapsed": 214,
     "status": "ok",
     "timestamp": 1716223413550,
     "user": {
      "displayName": "Saif Ullah",
      "userId": "04066764031186977808"
     },
     "user_tz": -300
    },
    "id": "6ewREuIU2AQV",
    "outputId": "ade76f87-b711-4693-f003-fe3f6fd35a25"
   },
   "outputs": [
    {
     "data": {
      "text/html": [
       "<div>\n",
       "<style scoped>\n",
       "    .dataframe tbody tr th:only-of-type {\n",
       "        vertical-align: middle;\n",
       "    }\n",
       "\n",
       "    .dataframe tbody tr th {\n",
       "        vertical-align: top;\n",
       "    }\n",
       "\n",
       "    .dataframe thead th {\n",
       "        text-align: right;\n",
       "    }\n",
       "</style>\n",
       "<table border=\"1\" class=\"dataframe\">\n",
       "  <thead>\n",
       "    <tr style=\"text-align: right;\">\n",
       "      <th></th>\n",
       "      <th>Row ID</th>\n",
       "      <th>Order ID</th>\n",
       "      <th>Order Date</th>\n",
       "      <th>Ship Date</th>\n",
       "      <th>Ship Mode</th>\n",
       "      <th>Customer ID</th>\n",
       "      <th>Customer Name</th>\n",
       "      <th>Segment</th>\n",
       "      <th>City</th>\n",
       "      <th>State</th>\n",
       "      <th>Country</th>\n",
       "      <th>Region</th>\n",
       "      <th>Product ID</th>\n",
       "      <th>Category</th>\n",
       "      <th>Sub-Category</th>\n",
       "      <th>Product Name</th>\n",
       "      <th>Sales</th>\n",
       "      <th>Quantity</th>\n",
       "      <th>Discount</th>\n",
       "      <th>Profit</th>\n",
       "    </tr>\n",
       "  </thead>\n",
       "  <tbody>\n",
       "    <tr>\n",
       "      <th>325</th>\n",
       "      <td>326</td>\n",
       "      <td>ES-2016-2183106</td>\n",
       "      <td>2016-04-23</td>\n",
       "      <td>2016-04-27</td>\n",
       "      <td>Standard Class</td>\n",
       "      <td>DK-13150</td>\n",
       "      <td>David Kendrick</td>\n",
       "      <td>Corporate</td>\n",
       "      <td>Berlin</td>\n",
       "      <td>Berlin</td>\n",
       "      <td>Germany</td>\n",
       "      <td>Central</td>\n",
       "      <td>TEC-CO-10003342</td>\n",
       "      <td>Technology</td>\n",
       "      <td>Copiers</td>\n",
       "      <td>Canon Wireless Fax, High-Speed</td>\n",
       "      <td>4748.436</td>\n",
       "      <td>14</td>\n",
       "      <td>0.1</td>\n",
       "      <td>844.116</td>\n",
       "    </tr>\n",
       "    <tr>\n",
       "      <th>890</th>\n",
       "      <td>891</td>\n",
       "      <td>ES-2017-1347677</td>\n",
       "      <td>2017-11-14</td>\n",
       "      <td>2017-11-19</td>\n",
       "      <td>Standard Class</td>\n",
       "      <td>JK-15370</td>\n",
       "      <td>Jay Kimmel</td>\n",
       "      <td>Consumer</td>\n",
       "      <td>Hamburg</td>\n",
       "      <td>Hamburg</td>\n",
       "      <td>Germany</td>\n",
       "      <td>Central</td>\n",
       "      <td>OFF-AR-10001606</td>\n",
       "      <td>Office Supplies</td>\n",
       "      <td>Art</td>\n",
       "      <td>BIC Highlighters, Fluorescent</td>\n",
       "      <td>282.660</td>\n",
       "      <td>14</td>\n",
       "      <td>0.0</td>\n",
       "      <td>93.240</td>\n",
       "    </tr>\n",
       "    <tr>\n",
       "      <th>1774</th>\n",
       "      <td>1775</td>\n",
       "      <td>ES-2018-1651774</td>\n",
       "      <td>2018-09-08</td>\n",
       "      <td>2018-09-14</td>\n",
       "      <td>Standard Class</td>\n",
       "      <td>PJ-18835</td>\n",
       "      <td>Patrick Jones</td>\n",
       "      <td>Corporate</td>\n",
       "      <td>Prato</td>\n",
       "      <td>Tuscany</td>\n",
       "      <td>Italy</td>\n",
       "      <td>South</td>\n",
       "      <td>OFF-AP-10004512</td>\n",
       "      <td>Office Supplies</td>\n",
       "      <td>Appliances</td>\n",
       "      <td>Hoover Stove, Red</td>\n",
       "      <td>7958.580</td>\n",
       "      <td>14</td>\n",
       "      <td>0.0</td>\n",
       "      <td>3979.080</td>\n",
       "    </tr>\n",
       "    <tr>\n",
       "      <th>2083</th>\n",
       "      <td>2084</td>\n",
       "      <td>ES-2015-3517120</td>\n",
       "      <td>2015-05-27</td>\n",
       "      <td>2015-05-31</td>\n",
       "      <td>Standard Class</td>\n",
       "      <td>GH-14485</td>\n",
       "      <td>Gene Hale</td>\n",
       "      <td>Corporate</td>\n",
       "      <td>Portsmouth</td>\n",
       "      <td>England</td>\n",
       "      <td>United Kingdom</td>\n",
       "      <td>North</td>\n",
       "      <td>OFF-ST-10004020</td>\n",
       "      <td>Office Supplies</td>\n",
       "      <td>Storage</td>\n",
       "      <td>Tenex Lockers, Single Width</td>\n",
       "      <td>2858.520</td>\n",
       "      <td>14</td>\n",
       "      <td>0.0</td>\n",
       "      <td>171.360</td>\n",
       "    </tr>\n",
       "    <tr>\n",
       "      <th>2153</th>\n",
       "      <td>2154</td>\n",
       "      <td>ES-2018-4957212</td>\n",
       "      <td>2018-09-28</td>\n",
       "      <td>2018-10-01</td>\n",
       "      <td>First Class</td>\n",
       "      <td>MS-17770</td>\n",
       "      <td>Maxwell Schwartz</td>\n",
       "      <td>Consumer</td>\n",
       "      <td>Burnley</td>\n",
       "      <td>England</td>\n",
       "      <td>United Kingdom</td>\n",
       "      <td>North</td>\n",
       "      <td>OFF-AR-10001720</td>\n",
       "      <td>Office Supplies</td>\n",
       "      <td>Art</td>\n",
       "      <td>Stanley Canvas, Blue</td>\n",
       "      <td>692.580</td>\n",
       "      <td>14</td>\n",
       "      <td>0.0</td>\n",
       "      <td>110.460</td>\n",
       "    </tr>\n",
       "    <tr>\n",
       "      <th>3509</th>\n",
       "      <td>3510</td>\n",
       "      <td>ES-2017-5365330</td>\n",
       "      <td>2017-06-10</td>\n",
       "      <td>2017-06-11</td>\n",
       "      <td>First Class</td>\n",
       "      <td>TB-21595</td>\n",
       "      <td>Troy Blackwell</td>\n",
       "      <td>Consumer</td>\n",
       "      <td>Madrid</td>\n",
       "      <td>Madrid</td>\n",
       "      <td>Spain</td>\n",
       "      <td>South</td>\n",
       "      <td>OFF-AR-10003066</td>\n",
       "      <td>Office Supplies</td>\n",
       "      <td>Art</td>\n",
       "      <td>Sanford Markers, Water Color</td>\n",
       "      <td>370.020</td>\n",
       "      <td>14</td>\n",
       "      <td>0.0</td>\n",
       "      <td>33.180</td>\n",
       "    </tr>\n",
       "    <tr>\n",
       "      <th>3523</th>\n",
       "      <td>3524</td>\n",
       "      <td>ES-2016-3241112</td>\n",
       "      <td>2016-06-29</td>\n",
       "      <td>2016-07-04</td>\n",
       "      <td>Standard Class</td>\n",
       "      <td>AH-10120</td>\n",
       "      <td>Adrian Hane</td>\n",
       "      <td>Home Office</td>\n",
       "      <td>London</td>\n",
       "      <td>England</td>\n",
       "      <td>United Kingdom</td>\n",
       "      <td>North</td>\n",
       "      <td>OFF-SU-10001909</td>\n",
       "      <td>Office Supplies</td>\n",
       "      <td>Supplies</td>\n",
       "      <td>Fiskars Scissors, Steel</td>\n",
       "      <td>284.256</td>\n",
       "      <td>14</td>\n",
       "      <td>0.1</td>\n",
       "      <td>122.976</td>\n",
       "    </tr>\n",
       "    <tr>\n",
       "      <th>3971</th>\n",
       "      <td>3972</td>\n",
       "      <td>ES-2015-3341008</td>\n",
       "      <td>2015-12-03</td>\n",
       "      <td>2015-12-04</td>\n",
       "      <td>First Class</td>\n",
       "      <td>AH-10210</td>\n",
       "      <td>Alan Hwang</td>\n",
       "      <td>Consumer</td>\n",
       "      <td>Paris</td>\n",
       "      <td>Ile-de-France</td>\n",
       "      <td>France</td>\n",
       "      <td>Central</td>\n",
       "      <td>OFF-BI-10003616</td>\n",
       "      <td>Office Supplies</td>\n",
       "      <td>Binders</td>\n",
       "      <td>Avery Binding Machine, Clear</td>\n",
       "      <td>676.200</td>\n",
       "      <td>14</td>\n",
       "      <td>0.0</td>\n",
       "      <td>81.060</td>\n",
       "    </tr>\n",
       "    <tr>\n",
       "      <th>4338</th>\n",
       "      <td>4339</td>\n",
       "      <td>ES-2018-2873001</td>\n",
       "      <td>2018-04-17</td>\n",
       "      <td>2018-04-23</td>\n",
       "      <td>Standard Class</td>\n",
       "      <td>MH-18025</td>\n",
       "      <td>Michelle Huthwaite</td>\n",
       "      <td>Consumer</td>\n",
       "      <td>Hayange</td>\n",
       "      <td>Alsace-Champagne-Ardenne-Lorraine</td>\n",
       "      <td>France</td>\n",
       "      <td>Central</td>\n",
       "      <td>OFF-AR-10001606</td>\n",
       "      <td>Office Supplies</td>\n",
       "      <td>Art</td>\n",
       "      <td>BIC Highlighters, Fluorescent</td>\n",
       "      <td>282.660</td>\n",
       "      <td>14</td>\n",
       "      <td>0.0</td>\n",
       "      <td>93.240</td>\n",
       "    </tr>\n",
       "    <tr>\n",
       "      <th>4997</th>\n",
       "      <td>4998</td>\n",
       "      <td>ES-2016-1557581</td>\n",
       "      <td>2016-06-14</td>\n",
       "      <td>2016-06-16</td>\n",
       "      <td>Second Class</td>\n",
       "      <td>PB-19210</td>\n",
       "      <td>Phillip Breyer</td>\n",
       "      <td>Corporate</td>\n",
       "      <td>Paris</td>\n",
       "      <td>Ile-de-France</td>\n",
       "      <td>France</td>\n",
       "      <td>Central</td>\n",
       "      <td>OFF-FA-10002803</td>\n",
       "      <td>Office Supplies</td>\n",
       "      <td>Fasteners</td>\n",
       "      <td>Accos Staples, Metal</td>\n",
       "      <td>154.980</td>\n",
       "      <td>14</td>\n",
       "      <td>0.0</td>\n",
       "      <td>30.660</td>\n",
       "    </tr>\n",
       "    <tr>\n",
       "      <th>5206</th>\n",
       "      <td>5207</td>\n",
       "      <td>ES-2015-1846006</td>\n",
       "      <td>2015-09-13</td>\n",
       "      <td>2015-09-16</td>\n",
       "      <td>First Class</td>\n",
       "      <td>DW-13480</td>\n",
       "      <td>Dianna Wilson</td>\n",
       "      <td>Home Office</td>\n",
       "      <td>Brest</td>\n",
       "      <td>Brittany</td>\n",
       "      <td>France</td>\n",
       "      <td>Central</td>\n",
       "      <td>OFF-SU-10000906</td>\n",
       "      <td>Office Supplies</td>\n",
       "      <td>Supplies</td>\n",
       "      <td>Fiskars Shears, High Speed</td>\n",
       "      <td>666.960</td>\n",
       "      <td>14</td>\n",
       "      <td>0.0</td>\n",
       "      <td>326.760</td>\n",
       "    </tr>\n",
       "    <tr>\n",
       "      <th>5818</th>\n",
       "      <td>5819</td>\n",
       "      <td>ES-2015-5940123</td>\n",
       "      <td>2015-06-02</td>\n",
       "      <td>2015-06-05</td>\n",
       "      <td>Second Class</td>\n",
       "      <td>MC-18130</td>\n",
       "      <td>Mike Caudle</td>\n",
       "      <td>Corporate</td>\n",
       "      <td>Warrington</td>\n",
       "      <td>England</td>\n",
       "      <td>United Kingdom</td>\n",
       "      <td>North</td>\n",
       "      <td>TEC-AC-10000140</td>\n",
       "      <td>Technology</td>\n",
       "      <td>Accessories</td>\n",
       "      <td>Enermax Numeric Keypad, Bluetooth</td>\n",
       "      <td>805.560</td>\n",
       "      <td>14</td>\n",
       "      <td>0.0</td>\n",
       "      <td>185.220</td>\n",
       "    </tr>\n",
       "    <tr>\n",
       "      <th>5944</th>\n",
       "      <td>5945</td>\n",
       "      <td>ES-2017-1906012</td>\n",
       "      <td>2017-02-16</td>\n",
       "      <td>2017-02-20</td>\n",
       "      <td>Standard Class</td>\n",
       "      <td>EH-14125</td>\n",
       "      <td>Eugene Hildebrand</td>\n",
       "      <td>Home Office</td>\n",
       "      <td>Magdeburg</td>\n",
       "      <td>Saxony-Anhalt</td>\n",
       "      <td>Germany</td>\n",
       "      <td>Central</td>\n",
       "      <td>OFF-PA-10003884</td>\n",
       "      <td>Office Supplies</td>\n",
       "      <td>Paper</td>\n",
       "      <td>Eaton Message Books, Multicolor</td>\n",
       "      <td>307.860</td>\n",
       "      <td>14</td>\n",
       "      <td>0.0</td>\n",
       "      <td>141.540</td>\n",
       "    </tr>\n",
       "    <tr>\n",
       "      <th>6292</th>\n",
       "      <td>3583</td>\n",
       "      <td>ES-2018-3785216</td>\n",
       "      <td>2018-11-19</td>\n",
       "      <td>2018-11-23</td>\n",
       "      <td>Standard Class</td>\n",
       "      <td>HG-14845</td>\n",
       "      <td>Harry Greene</td>\n",
       "      <td>Consumer</td>\n",
       "      <td>Lille</td>\n",
       "      <td>Hauts-de-France</td>\n",
       "      <td>France</td>\n",
       "      <td>Central</td>\n",
       "      <td>OFF-SU-10001813</td>\n",
       "      <td>Office Supplies</td>\n",
       "      <td>Supplies</td>\n",
       "      <td>Kleencut Ruler, Easy Grip</td>\n",
       "      <td>212.520</td>\n",
       "      <td>14</td>\n",
       "      <td>0.0</td>\n",
       "      <td>4.200</td>\n",
       "    </tr>\n",
       "    <tr>\n",
       "      <th>6320</th>\n",
       "      <td>3585</td>\n",
       "      <td>ES-2018-3785216</td>\n",
       "      <td>2018-11-19</td>\n",
       "      <td>2018-11-23</td>\n",
       "      <td>Standard Class</td>\n",
       "      <td>HG-14845</td>\n",
       "      <td>Harry Greene</td>\n",
       "      <td>Consumer</td>\n",
       "      <td>Lille</td>\n",
       "      <td>Hauts-de-France</td>\n",
       "      <td>France</td>\n",
       "      <td>Central</td>\n",
       "      <td>FUR-CH-10002891</td>\n",
       "      <td>Furniture</td>\n",
       "      <td>Chairs</td>\n",
       "      <td>Hon Executive Leather Armchair, Adjustable</td>\n",
       "      <td>5729.346</td>\n",
       "      <td>14</td>\n",
       "      <td>0.1</td>\n",
       "      <td>63.546</td>\n",
       "    </tr>\n",
       "    <tr>\n",
       "      <th>6539</th>\n",
       "      <td>6540</td>\n",
       "      <td>IT-2017-4869515</td>\n",
       "      <td>2017-02-28</td>\n",
       "      <td>2017-03-01</td>\n",
       "      <td>Second Class</td>\n",
       "      <td>JL-15835</td>\n",
       "      <td>John Lee</td>\n",
       "      <td>Consumer</td>\n",
       "      <td>Nice</td>\n",
       "      <td>Provence-Alpes-Côte d'Azur</td>\n",
       "      <td>France</td>\n",
       "      <td>Central</td>\n",
       "      <td>OFF-AP-10003717</td>\n",
       "      <td>Office Supplies</td>\n",
       "      <td>Appliances</td>\n",
       "      <td>Breville Coffee Grinder, White</td>\n",
       "      <td>756.000</td>\n",
       "      <td>14</td>\n",
       "      <td>0.1</td>\n",
       "      <td>-58.800</td>\n",
       "    </tr>\n",
       "    <tr>\n",
       "      <th>6730</th>\n",
       "      <td>8365</td>\n",
       "      <td>ES-2015-3749098</td>\n",
       "      <td>2015-11-19</td>\n",
       "      <td>2015-11-23</td>\n",
       "      <td>Standard Class</td>\n",
       "      <td>DC-13285</td>\n",
       "      <td>Debra Catini</td>\n",
       "      <td>Consumer</td>\n",
       "      <td>Lille</td>\n",
       "      <td>Hauts-de-France</td>\n",
       "      <td>France</td>\n",
       "      <td>Central</td>\n",
       "      <td>FUR-CH-10002212</td>\n",
       "      <td>Furniture</td>\n",
       "      <td>Chairs</td>\n",
       "      <td>Hon Chairmat, Black</td>\n",
       "      <td>669.060</td>\n",
       "      <td>14</td>\n",
       "      <td>0.1</td>\n",
       "      <td>-44.940</td>\n",
       "    </tr>\n",
       "    <tr>\n",
       "      <th>7598</th>\n",
       "      <td>7599</td>\n",
       "      <td>ES-2018-3860822</td>\n",
       "      <td>2018-11-27</td>\n",
       "      <td>2018-11-29</td>\n",
       "      <td>First Class</td>\n",
       "      <td>HW-14935</td>\n",
       "      <td>Helen Wasserman</td>\n",
       "      <td>Corporate</td>\n",
       "      <td>Ivry-sur-Seine</td>\n",
       "      <td>Ile-de-France</td>\n",
       "      <td>France</td>\n",
       "      <td>Central</td>\n",
       "      <td>OFF-BI-10000308</td>\n",
       "      <td>Office Supplies</td>\n",
       "      <td>Binders</td>\n",
       "      <td>Cardinal Binder Covers, Durable</td>\n",
       "      <td>189.000</td>\n",
       "      <td>14</td>\n",
       "      <td>0.0</td>\n",
       "      <td>60.480</td>\n",
       "    </tr>\n",
       "    <tr>\n",
       "      <th>8039</th>\n",
       "      <td>4690</td>\n",
       "      <td>IT-2015-1549226</td>\n",
       "      <td>2015-08-26</td>\n",
       "      <td>2015-08-29</td>\n",
       "      <td>First Class</td>\n",
       "      <td>DL-13330</td>\n",
       "      <td>Denise Leinenbach</td>\n",
       "      <td>Consumer</td>\n",
       "      <td>The Hague</td>\n",
       "      <td>South Holland</td>\n",
       "      <td>Netherlands</td>\n",
       "      <td>Central</td>\n",
       "      <td>OFF-AR-10001759</td>\n",
       "      <td>Office Supplies</td>\n",
       "      <td>Art</td>\n",
       "      <td>Sanford Sketch Pad, Fluorescent</td>\n",
       "      <td>327.180</td>\n",
       "      <td>14</td>\n",
       "      <td>0.5</td>\n",
       "      <td>-19.740</td>\n",
       "    </tr>\n",
       "    <tr>\n",
       "      <th>8557</th>\n",
       "      <td>3680</td>\n",
       "      <td>ES-2018-3986842</td>\n",
       "      <td>2018-08-04</td>\n",
       "      <td>2018-08-08</td>\n",
       "      <td>Standard Class</td>\n",
       "      <td>AY-10555</td>\n",
       "      <td>Andy Yotov</td>\n",
       "      <td>Corporate</td>\n",
       "      <td>Ratingen</td>\n",
       "      <td>North Rhine-Westphalia</td>\n",
       "      <td>Germany</td>\n",
       "      <td>Central</td>\n",
       "      <td>OFF-FA-10001574</td>\n",
       "      <td>Office Supplies</td>\n",
       "      <td>Fasteners</td>\n",
       "      <td>Accos Clamps, Bulk Pack</td>\n",
       "      <td>271.320</td>\n",
       "      <td>14</td>\n",
       "      <td>0.0</td>\n",
       "      <td>127.260</td>\n",
       "    </tr>\n",
       "    <tr>\n",
       "      <th>8636</th>\n",
       "      <td>8637</td>\n",
       "      <td>ES-2017-5734148</td>\n",
       "      <td>2017-02-19</td>\n",
       "      <td>2017-02-26</td>\n",
       "      <td>Standard Class</td>\n",
       "      <td>NG-18355</td>\n",
       "      <td>Nat Gilpin</td>\n",
       "      <td>Corporate</td>\n",
       "      <td>Lyon</td>\n",
       "      <td>Auvergne-Rhône-Alpes</td>\n",
       "      <td>France</td>\n",
       "      <td>Central</td>\n",
       "      <td>OFF-BI-10001544</td>\n",
       "      <td>Office Supplies</td>\n",
       "      <td>Binders</td>\n",
       "      <td>Wilson Jones Hole Reinforcements, Clear</td>\n",
       "      <td>55.860</td>\n",
       "      <td>14</td>\n",
       "      <td>0.0</td>\n",
       "      <td>5.880</td>\n",
       "    </tr>\n",
       "    <tr>\n",
       "      <th>9011</th>\n",
       "      <td>9012</td>\n",
       "      <td>ES-2016-5581627</td>\n",
       "      <td>2016-12-18</td>\n",
       "      <td>2016-12-22</td>\n",
       "      <td>Second Class</td>\n",
       "      <td>SC-20260</td>\n",
       "      <td>Scott Cohen</td>\n",
       "      <td>Corporate</td>\n",
       "      <td>Whitley</td>\n",
       "      <td>England</td>\n",
       "      <td>United Kingdom</td>\n",
       "      <td>North</td>\n",
       "      <td>OFF-BI-10004924</td>\n",
       "      <td>Office Supplies</td>\n",
       "      <td>Binders</td>\n",
       "      <td>Cardinal 3-Hole Punch, Economy</td>\n",
       "      <td>403.200</td>\n",
       "      <td>14</td>\n",
       "      <td>0.0</td>\n",
       "      <td>181.440</td>\n",
       "    </tr>\n",
       "    <tr>\n",
       "      <th>9125</th>\n",
       "      <td>9126</td>\n",
       "      <td>IT-2018-3882620</td>\n",
       "      <td>2018-08-26</td>\n",
       "      <td>2018-08-29</td>\n",
       "      <td>Second Class</td>\n",
       "      <td>MG-18205</td>\n",
       "      <td>Mitch Gastineau</td>\n",
       "      <td>Corporate</td>\n",
       "      <td>Wolverhampton</td>\n",
       "      <td>England</td>\n",
       "      <td>United Kingdom</td>\n",
       "      <td>North</td>\n",
       "      <td>FUR-FU-10000946</td>\n",
       "      <td>Furniture</td>\n",
       "      <td>Furnishings</td>\n",
       "      <td>Advantus Stacking Tray, Durable</td>\n",
       "      <td>258.426</td>\n",
       "      <td>14</td>\n",
       "      <td>0.3</td>\n",
       "      <td>-11.214</td>\n",
       "    </tr>\n",
       "    <tr>\n",
       "      <th>9574</th>\n",
       "      <td>9575</td>\n",
       "      <td>ES-2016-4400520</td>\n",
       "      <td>2016-09-01</td>\n",
       "      <td>2016-09-06</td>\n",
       "      <td>Standard Class</td>\n",
       "      <td>JK-15205</td>\n",
       "      <td>Jamie Kunitz</td>\n",
       "      <td>Consumer</td>\n",
       "      <td>Mulhouse</td>\n",
       "      <td>Alsace-Champagne-Ardenne-Lorraine</td>\n",
       "      <td>France</td>\n",
       "      <td>Central</td>\n",
       "      <td>OFF-ST-10002800</td>\n",
       "      <td>Office Supplies</td>\n",
       "      <td>Storage</td>\n",
       "      <td>Tenex Folders, Industrial</td>\n",
       "      <td>298.620</td>\n",
       "      <td>14</td>\n",
       "      <td>0.1</td>\n",
       "      <td>-33.180</td>\n",
       "    </tr>\n",
       "    <tr>\n",
       "      <th>9715</th>\n",
       "      <td>9716</td>\n",
       "      <td>ES-2017-2003988</td>\n",
       "      <td>2017-08-01</td>\n",
       "      <td>2017-08-02</td>\n",
       "      <td>First Class</td>\n",
       "      <td>SW-20755</td>\n",
       "      <td>Steven Ward</td>\n",
       "      <td>Corporate</td>\n",
       "      <td>Ris-Orangis</td>\n",
       "      <td>Ile-de-France</td>\n",
       "      <td>France</td>\n",
       "      <td>Central</td>\n",
       "      <td>OFF-AR-10001110</td>\n",
       "      <td>Office Supplies</td>\n",
       "      <td>Art</td>\n",
       "      <td>BIC Pencil Sharpener, Water Color</td>\n",
       "      <td>450.660</td>\n",
       "      <td>14</td>\n",
       "      <td>0.0</td>\n",
       "      <td>170.940</td>\n",
       "    </tr>\n",
       "    <tr>\n",
       "      <th>9742</th>\n",
       "      <td>883</td>\n",
       "      <td>ES-2018-4865613</td>\n",
       "      <td>2018-12-13</td>\n",
       "      <td>2018-12-20</td>\n",
       "      <td>Standard Class</td>\n",
       "      <td>DL-13315</td>\n",
       "      <td>Delfina Latchford</td>\n",
       "      <td>Consumer</td>\n",
       "      <td>Wuppertal</td>\n",
       "      <td>North Rhine-Westphalia</td>\n",
       "      <td>Germany</td>\n",
       "      <td>Central</td>\n",
       "      <td>OFF-LA-10001169</td>\n",
       "      <td>Office Supplies</td>\n",
       "      <td>Labels</td>\n",
       "      <td>Harbour Creations Round Labels, Laser Printer ...</td>\n",
       "      <td>94.500</td>\n",
       "      <td>14</td>\n",
       "      <td>0.0</td>\n",
       "      <td>13.860</td>\n",
       "    </tr>\n",
       "  </tbody>\n",
       "</table>\n",
       "</div>"
      ],
      "text/plain": [
       "      Row ID         Order ID Order Date  Ship Date       Ship Mode  \\\n",
       "325      326  ES-2016-2183106 2016-04-23 2016-04-27  Standard Class   \n",
       "890      891  ES-2017-1347677 2017-11-14 2017-11-19  Standard Class   \n",
       "1774    1775  ES-2018-1651774 2018-09-08 2018-09-14  Standard Class   \n",
       "2083    2084  ES-2015-3517120 2015-05-27 2015-05-31  Standard Class   \n",
       "2153    2154  ES-2018-4957212 2018-09-28 2018-10-01     First Class   \n",
       "3509    3510  ES-2017-5365330 2017-06-10 2017-06-11     First Class   \n",
       "3523    3524  ES-2016-3241112 2016-06-29 2016-07-04  Standard Class   \n",
       "3971    3972  ES-2015-3341008 2015-12-03 2015-12-04     First Class   \n",
       "4338    4339  ES-2018-2873001 2018-04-17 2018-04-23  Standard Class   \n",
       "4997    4998  ES-2016-1557581 2016-06-14 2016-06-16    Second Class   \n",
       "5206    5207  ES-2015-1846006 2015-09-13 2015-09-16     First Class   \n",
       "5818    5819  ES-2015-5940123 2015-06-02 2015-06-05    Second Class   \n",
       "5944    5945  ES-2017-1906012 2017-02-16 2017-02-20  Standard Class   \n",
       "6292    3583  ES-2018-3785216 2018-11-19 2018-11-23  Standard Class   \n",
       "6320    3585  ES-2018-3785216 2018-11-19 2018-11-23  Standard Class   \n",
       "6539    6540  IT-2017-4869515 2017-02-28 2017-03-01    Second Class   \n",
       "6730    8365  ES-2015-3749098 2015-11-19 2015-11-23  Standard Class   \n",
       "7598    7599  ES-2018-3860822 2018-11-27 2018-11-29     First Class   \n",
       "8039    4690  IT-2015-1549226 2015-08-26 2015-08-29     First Class   \n",
       "8557    3680  ES-2018-3986842 2018-08-04 2018-08-08  Standard Class   \n",
       "8636    8637  ES-2017-5734148 2017-02-19 2017-02-26  Standard Class   \n",
       "9011    9012  ES-2016-5581627 2016-12-18 2016-12-22    Second Class   \n",
       "9125    9126  IT-2018-3882620 2018-08-26 2018-08-29    Second Class   \n",
       "9574    9575  ES-2016-4400520 2016-09-01 2016-09-06  Standard Class   \n",
       "9715    9716  ES-2017-2003988 2017-08-01 2017-08-02     First Class   \n",
       "9742     883  ES-2018-4865613 2018-12-13 2018-12-20  Standard Class   \n",
       "\n",
       "     Customer ID       Customer Name      Segment            City  \\\n",
       "325     DK-13150      David Kendrick    Corporate          Berlin   \n",
       "890     JK-15370          Jay Kimmel     Consumer         Hamburg   \n",
       "1774    PJ-18835       Patrick Jones    Corporate           Prato   \n",
       "2083    GH-14485           Gene Hale    Corporate      Portsmouth   \n",
       "2153    MS-17770    Maxwell Schwartz     Consumer         Burnley   \n",
       "3509    TB-21595      Troy Blackwell     Consumer          Madrid   \n",
       "3523    AH-10120         Adrian Hane  Home Office          London   \n",
       "3971    AH-10210          Alan Hwang     Consumer           Paris   \n",
       "4338    MH-18025  Michelle Huthwaite     Consumer         Hayange   \n",
       "4997    PB-19210      Phillip Breyer    Corporate           Paris   \n",
       "5206    DW-13480       Dianna Wilson  Home Office           Brest   \n",
       "5818    MC-18130         Mike Caudle    Corporate      Warrington   \n",
       "5944    EH-14125   Eugene Hildebrand  Home Office       Magdeburg   \n",
       "6292    HG-14845        Harry Greene     Consumer           Lille   \n",
       "6320    HG-14845        Harry Greene     Consumer           Lille   \n",
       "6539    JL-15835            John Lee     Consumer            Nice   \n",
       "6730    DC-13285        Debra Catini     Consumer           Lille   \n",
       "7598    HW-14935     Helen Wasserman    Corporate  Ivry-sur-Seine   \n",
       "8039    DL-13330   Denise Leinenbach     Consumer       The Hague   \n",
       "8557    AY-10555          Andy Yotov    Corporate        Ratingen   \n",
       "8636    NG-18355          Nat Gilpin    Corporate            Lyon   \n",
       "9011    SC-20260         Scott Cohen    Corporate         Whitley   \n",
       "9125    MG-18205     Mitch Gastineau    Corporate   Wolverhampton   \n",
       "9574    JK-15205        Jamie Kunitz     Consumer        Mulhouse   \n",
       "9715    SW-20755         Steven Ward    Corporate     Ris-Orangis   \n",
       "9742    DL-13315   Delfina Latchford     Consumer       Wuppertal   \n",
       "\n",
       "                                  State         Country   Region  \\\n",
       "325                              Berlin         Germany  Central   \n",
       "890                             Hamburg         Germany  Central   \n",
       "1774                            Tuscany           Italy    South   \n",
       "2083                            England  United Kingdom    North   \n",
       "2153                            England  United Kingdom    North   \n",
       "3509                             Madrid           Spain    South   \n",
       "3523                            England  United Kingdom    North   \n",
       "3971                      Ile-de-France          France  Central   \n",
       "4338  Alsace-Champagne-Ardenne-Lorraine          France  Central   \n",
       "4997                      Ile-de-France          France  Central   \n",
       "5206                           Brittany          France  Central   \n",
       "5818                            England  United Kingdom    North   \n",
       "5944                      Saxony-Anhalt         Germany  Central   \n",
       "6292                    Hauts-de-France          France  Central   \n",
       "6320                    Hauts-de-France          France  Central   \n",
       "6539         Provence-Alpes-Côte d'Azur          France  Central   \n",
       "6730                    Hauts-de-France          France  Central   \n",
       "7598                      Ile-de-France          France  Central   \n",
       "8039                      South Holland     Netherlands  Central   \n",
       "8557             North Rhine-Westphalia         Germany  Central   \n",
       "8636               Auvergne-Rhône-Alpes          France  Central   \n",
       "9011                            England  United Kingdom    North   \n",
       "9125                            England  United Kingdom    North   \n",
       "9574  Alsace-Champagne-Ardenne-Lorraine          France  Central   \n",
       "9715                      Ile-de-France          France  Central   \n",
       "9742             North Rhine-Westphalia         Germany  Central   \n",
       "\n",
       "           Product ID         Category Sub-Category  \\\n",
       "325   TEC-CO-10003342       Technology      Copiers   \n",
       "890   OFF-AR-10001606  Office Supplies          Art   \n",
       "1774  OFF-AP-10004512  Office Supplies   Appliances   \n",
       "2083  OFF-ST-10004020  Office Supplies      Storage   \n",
       "2153  OFF-AR-10001720  Office Supplies          Art   \n",
       "3509  OFF-AR-10003066  Office Supplies          Art   \n",
       "3523  OFF-SU-10001909  Office Supplies     Supplies   \n",
       "3971  OFF-BI-10003616  Office Supplies      Binders   \n",
       "4338  OFF-AR-10001606  Office Supplies          Art   \n",
       "4997  OFF-FA-10002803  Office Supplies    Fasteners   \n",
       "5206  OFF-SU-10000906  Office Supplies     Supplies   \n",
       "5818  TEC-AC-10000140       Technology  Accessories   \n",
       "5944  OFF-PA-10003884  Office Supplies        Paper   \n",
       "6292  OFF-SU-10001813  Office Supplies     Supplies   \n",
       "6320  FUR-CH-10002891        Furniture       Chairs   \n",
       "6539  OFF-AP-10003717  Office Supplies   Appliances   \n",
       "6730  FUR-CH-10002212        Furniture       Chairs   \n",
       "7598  OFF-BI-10000308  Office Supplies      Binders   \n",
       "8039  OFF-AR-10001759  Office Supplies          Art   \n",
       "8557  OFF-FA-10001574  Office Supplies    Fasteners   \n",
       "8636  OFF-BI-10001544  Office Supplies      Binders   \n",
       "9011  OFF-BI-10004924  Office Supplies      Binders   \n",
       "9125  FUR-FU-10000946        Furniture  Furnishings   \n",
       "9574  OFF-ST-10002800  Office Supplies      Storage   \n",
       "9715  OFF-AR-10001110  Office Supplies          Art   \n",
       "9742  OFF-LA-10001169  Office Supplies       Labels   \n",
       "\n",
       "                                           Product Name     Sales  Quantity  \\\n",
       "325                      Canon Wireless Fax, High-Speed  4748.436        14   \n",
       "890                       BIC Highlighters, Fluorescent   282.660        14   \n",
       "1774                                  Hoover Stove, Red  7958.580        14   \n",
       "2083                        Tenex Lockers, Single Width  2858.520        14   \n",
       "2153                               Stanley Canvas, Blue   692.580        14   \n",
       "3509                       Sanford Markers, Water Color   370.020        14   \n",
       "3523                            Fiskars Scissors, Steel   284.256        14   \n",
       "3971                       Avery Binding Machine, Clear   676.200        14   \n",
       "4338                      BIC Highlighters, Fluorescent   282.660        14   \n",
       "4997                               Accos Staples, Metal   154.980        14   \n",
       "5206                         Fiskars Shears, High Speed   666.960        14   \n",
       "5818                  Enermax Numeric Keypad, Bluetooth   805.560        14   \n",
       "5944                    Eaton Message Books, Multicolor   307.860        14   \n",
       "6292                          Kleencut Ruler, Easy Grip   212.520        14   \n",
       "6320         Hon Executive Leather Armchair, Adjustable  5729.346        14   \n",
       "6539                     Breville Coffee Grinder, White   756.000        14   \n",
       "6730                                Hon Chairmat, Black   669.060        14   \n",
       "7598                    Cardinal Binder Covers, Durable   189.000        14   \n",
       "8039                    Sanford Sketch Pad, Fluorescent   327.180        14   \n",
       "8557                            Accos Clamps, Bulk Pack   271.320        14   \n",
       "8636            Wilson Jones Hole Reinforcements, Clear    55.860        14   \n",
       "9011                     Cardinal 3-Hole Punch, Economy   403.200        14   \n",
       "9125                    Advantus Stacking Tray, Durable   258.426        14   \n",
       "9574                          Tenex Folders, Industrial   298.620        14   \n",
       "9715                  BIC Pencil Sharpener, Water Color   450.660        14   \n",
       "9742  Harbour Creations Round Labels, Laser Printer ...    94.500        14   \n",
       "\n",
       "      Discount    Profit  \n",
       "325        0.1   844.116  \n",
       "890        0.0    93.240  \n",
       "1774       0.0  3979.080  \n",
       "2083       0.0   171.360  \n",
       "2153       0.0   110.460  \n",
       "3509       0.0    33.180  \n",
       "3523       0.1   122.976  \n",
       "3971       0.0    81.060  \n",
       "4338       0.0    93.240  \n",
       "4997       0.0    30.660  \n",
       "5206       0.0   326.760  \n",
       "5818       0.0   185.220  \n",
       "5944       0.0   141.540  \n",
       "6292       0.0     4.200  \n",
       "6320       0.1    63.546  \n",
       "6539       0.1   -58.800  \n",
       "6730       0.1   -44.940  \n",
       "7598       0.0    60.480  \n",
       "8039       0.5   -19.740  \n",
       "8557       0.0   127.260  \n",
       "8636       0.0     5.880  \n",
       "9011       0.0   181.440  \n",
       "9125       0.3   -11.214  \n",
       "9574       0.1   -33.180  \n",
       "9715       0.0   170.940  \n",
       "9742       0.0    13.860  "
      ]
     },
     "execution_count": 19,
     "metadata": {},
     "output_type": "execute_result"
    }
   ],
   "source": [
    "df[df['Quantity']==14]"
   ]
  },
  {
   "cell_type": "code",
   "execution_count": 20,
   "metadata": {
    "colab": {
     "base_uri": "https://localhost:8080/",
     "height": 448
    },
    "executionInfo": {
     "elapsed": 190,
     "status": "ok",
     "timestamp": 1716223413551,
     "user": {
      "displayName": "Saif Ullah",
      "userId": "04066764031186977808"
     },
     "user_tz": -300
    },
    "id": "JaX-xf7j2Twq",
    "outputId": "6be9d187-e567-4e08-9f10-a73f691bffe3"
   },
   "outputs": [
    {
     "data": {
      "text/plain": [
       "<Axes: ylabel='Density'>"
      ]
     },
     "execution_count": 20,
     "metadata": {},
     "output_type": "execute_result"
    },
    {
     "data": {
      "image/png": "[encoded data removed]",
      "text/plain": [
       "<Figure size 640x480 with 1 Axes>"
      ]
     },
     "metadata": {},
     "output_type": "display_data"
    }
   ],
   "source": [
    "df['Quantity'].plot(kind = 'kde')"
   ]
  },
  {
   "cell_type": "code",
   "execution_count": 21,
   "metadata": {
    "colab": {
     "base_uri": "https://localhost:8080/",
     "height": 448
    },
    "executionInfo": {
     "elapsed": 1049,
     "status": "ok",
     "timestamp": 1716223414419,
     "user": {
      "displayName": "Saif Ullah",
      "userId": "04066764031186977808"
     },
     "user_tz": -300
    },
    "id": "NBWIlaLB2dmh",
    "outputId": "46b18631-e3b4-458b-eb6b-c9af6590053c"
   },
   "outputs": [
    {
     "data": {
      "text/plain": [
       "<Axes: >"
      ]
     },
     "execution_count": 21,
     "metadata": {},
     "output_type": "execute_result"
    },
    {
     "data": {
      "image/png": "[encoded data removed]",
      "text/plain": [
       "<Figure size 640x480 with 1 Axes>"
      ]
     },
     "metadata": {},
     "output_type": "display_data"
    }
   ],
   "source": [
    "df['Quantity'].plot(kind = 'box')"
   ]
  },
  {
   "cell_type": "code",
   "execution_count": 22,
   "metadata": {
    "colab": {
     "base_uri": "https://localhost:8080/",
     "height": 448
    },
    "executionInfo": {
     "elapsed": 40,
     "status": "ok",
     "timestamp": 1716223414420,
     "user": {
      "displayName": "Saif Ullah",
      "userId": "04066764031186977808"
     },
     "user_tz": -300
    },
    "id": "awXLwEhq2g-4",
    "outputId": "822dc441-ddcc-42dc-ea01-4cd5c886a103"
   },
   "outputs": [
    {
     "data": {
      "text/plain": [
       "<Axes: ylabel='Frequency'>"
      ]
     },
     "execution_count": 22,
     "metadata": {},
     "output_type": "execute_result"
    },
    {
     "data": {
      "image/png": "[encoded data removed]",
      "text/plain": [
       "<Figure size 640x480 with 1 Axes>"
      ]
     },
     "metadata": {},
     "output_type": "display_data"
    }
   ],
   "source": [
    "df['Quantity'].plot(kind = 'hist')"
   ]
  },
  {
   "cell_type": "code",
   "execution_count": 23,
   "metadata": {
    "colab": {
     "base_uri": "https://localhost:8080/"
    },
    "executionInfo": {
     "elapsed": 31,
     "status": "ok",
     "timestamp": 1716223414420,
     "user": {
      "displayName": "Saif Ullah",
      "userId": "04066764031186977808"
     },
     "user_tz": -300
    },
    "id": "d4h1y7XJ2kj-",
    "outputId": "fe6c7809-79eb-4edf-b78a-275a63362f9a"
   },
   "outputs": [
    {
     "data": {
      "text/plain": [
       "1.2876761929057376"
      ]
     },
     "execution_count": 23,
     "metadata": {},
     "output_type": "execute_result"
    }
   ],
   "source": [
    "df['Quantity'].skew()"
   ]
  },
  {
   "cell_type": "markdown",
   "metadata": {
    "id": "ODd2PwiJ4Hcw"
   },
   "source": [
    "**Conclusion**\n",
    "-  Positively Skewd\n",
    "- There are some outliers\n",
    "- No Duplicate values\n",
    "- No missing values"
   ]
  },
  {
   "cell_type": "code",
   "execution_count": 24,
   "metadata": {
    "colab": {
     "base_uri": "https://localhost:8080/"
    },
    "executionInfo": {
     "elapsed": 31,
     "status": "ok",
     "timestamp": 1716223414422,
     "user": {
      "displayName": "Saif Ullah",
      "userId": "04066764031186977808"
     },
     "user_tz": -300
    },
    "id": "UiVlvkpk3hAe",
    "outputId": "f095e8bf-cf44-4492-a3f7-aee647abd902"
   },
   "outputs": [
    {
     "data": {
      "text/plain": [
       "count    10000.000000\n",
       "mean         0.103105\n",
       "std          0.174782\n",
       "min          0.000000\n",
       "25%          0.000000\n",
       "50%          0.000000\n",
       "75%          0.100000\n",
       "max          0.850000\n",
       "Name: Discount, dtype: float64"
      ]
     },
     "execution_count": 24,
     "metadata": {},
     "output_type": "execute_result"
    }
   ],
   "source": [
    "# Discount\n",
    "df[\"Discount\"].describe ()"
   ]
  },
  {
   "cell_type": "code",
   "execution_count": 25,
   "metadata": {
    "colab": {
     "base_uri": "https://localhost:8080/",
     "height": 448
    },
    "executionInfo": {
     "elapsed": 29,
     "status": "ok",
     "timestamp": 1716223414422,
     "user": {
      "displayName": "Saif Ullah",
      "userId": "04066764031186977808"
     },
     "user_tz": -300
    },
    "id": "sgxZ9v_G3sL4",
    "outputId": "b576ce69-2d37-4221-87b2-bcbe8d153c17"
   },
   "outputs": [
    {
     "data": {
      "text/plain": [
       "<Axes: >"
      ]
     },
     "execution_count": 25,
     "metadata": {},
     "output_type": "execute_result"
    },
    {
     "data": {
      "image/png": "[encoded data removed]",
      "text/plain": [
       "<Figure size 640x480 with 1 Axes>"
      ]
     },
     "metadata": {},
     "output_type": "display_data"
    }
   ],
   "source": [
    "df[\"Discount\"].plot(kind=\"box\")"
   ]
  },
  {
   "cell_type": "code",
   "execution_count": 26,
   "metadata": {
    "colab": {
     "base_uri": "https://localhost:8080/",
     "height": 448
    },
    "executionInfo": {
     "elapsed": 27,
     "status": "ok",
     "timestamp": 1716223414423,
     "user": {
      "displayName": "Saif Ullah",
      "userId": "04066764031186977808"
     },
     "user_tz": -300
    },
    "id": "43NyL-Wk3xtI",
    "outputId": "4314ef4e-cade-4db2-db63-32e4293812c8"
   },
   "outputs": [
    {
     "data": {
      "text/plain": [
       "<Axes: ylabel='Density'>"
      ]
     },
     "execution_count": 26,
     "metadata": {},
     "output_type": "execute_result"
    },
    {
     "data": {
      "image/png": "[encoded data removed]",
      "text/plain": [
       "<Figure size 640x480 with 1 Axes>"
      ]
     },
     "metadata": {},
     "output_type": "display_data"
    }
   ],
   "source": [
    "df[\"Discount\"].plot(kind=\"kde\")"
   ]
  },
  {
   "cell_type": "code",
   "execution_count": 27,
   "metadata": {
    "colab": {
     "base_uri": "https://localhost:8080/",
     "height": 448
    },
    "executionInfo": {
     "elapsed": 1506,
     "status": "ok",
     "timestamp": 1716223415905,
     "user": {
      "displayName": "Saif Ullah",
      "userId": "04066764031186977808"
     },
     "user_tz": -300
    },
    "id": "xI1s-_Xb3048",
    "outputId": "94e42cfa-e901-4a0e-c8e7-c8e5eca58d69"
   },
   "outputs": [
    {
     "data": {
      "text/plain": [
       "<Axes: ylabel='Frequency'>"
      ]
     },
     "execution_count": 27,
     "metadata": {},
     "output_type": "execute_result"
    },
    {
     "data": {
      "image/png": "[encoded data removed]",
      "text/plain": [
       "<Figure size 640x480 with 1 Axes>"
      ]
     },
     "metadata": {},
     "output_type": "display_data"
    }
   ],
   "source": [
    "df[\"Discount\"].plot(kind=\"hist\")"
   ]
  },
  {
   "cell_type": "code",
   "execution_count": 28,
   "metadata": {
    "colab": {
     "base_uri": "https://localhost:8080/"
    },
    "executionInfo": {
     "elapsed": 40,
     "status": "ok",
     "timestamp": 1716223415905,
     "user": {
      "displayName": "Saif Ullah",
      "userId": "04066764031186977808"
     },
     "user_tz": -300
    },
    "id": "y4Y-fAWF4BqK",
    "outputId": "f4273c8c-fc08-4fe3-932e-07a8be994578"
   },
   "outputs": [
    {
     "data": {
      "text/plain": [
       "1.681444303769193"
      ]
     },
     "execution_count": 28,
     "metadata": {},
     "output_type": "execute_result"
    }
   ],
   "source": [
    "df[\"Discount\"].skew()"
   ]
  },
  {
   "cell_type": "markdown",
   "metadata": {
    "id": "Y5OZM8Au5uqM"
   },
   "source": [
    "**Conclusion**\n",
    "- There are some highly positive and negative outliers\n",
    "- Profit is normally(Almost) distributed"
   ]
  },
  {
   "cell_type": "code",
   "execution_count": 29,
   "metadata": {
    "colab": {
     "base_uri": "https://localhost:8080/"
    },
    "executionInfo": {
     "elapsed": 40,
     "status": "ok",
     "timestamp": 1716223415908,
     "user": {
      "displayName": "Saif Ullah",
      "userId": "04066764031186977808"
     },
     "user_tz": -300
    },
    "id": "wDLSRJJI40SC",
    "outputId": "94dbe933-a591-43f3-e1a5-5ac8b9d3bce6"
   },
   "outputs": [
    {
     "data": {
      "text/plain": [
       "count    10000.000000\n",
       "mean        37.282974\n",
       "std        178.100384\n",
       "min      -3059.820000\n",
       "25%          1.320000\n",
       "50%         14.220000\n",
       "75%         48.510000\n",
       "max       3979.080000\n",
       "Name: Profit, dtype: float64"
      ]
     },
     "execution_count": 29,
     "metadata": {},
     "output_type": "execute_result"
    }
   ],
   "source": [
    "#Profit\n",
    "df['Profit'].describe ()"
   ]
  },
  {
   "cell_type": "code",
   "execution_count": 30,
   "metadata": {
    "colab": {
     "base_uri": "https://localhost:8080/"
    },
    "executionInfo": {
     "elapsed": 39,
     "status": "ok",
     "timestamp": 1716223415909,
     "user": {
      "displayName": "Saif Ullah",
      "userId": "04066764031186977808"
     },
     "user_tz": -300
    },
    "id": "gJr2O-2e4-Ii",
    "outputId": "1c44af1e-b78f-4310-ab76-65262d768351"
   },
   "outputs": [
    {
     "data": {
      "text/html": [
       "<div>\n",
       "<style scoped>\n",
       "    .dataframe tbody tr th:only-of-type {\n",
       "        vertical-align: middle;\n",
       "    }\n",
       "\n",
       "    .dataframe tbody tr th {\n",
       "        vertical-align: top;\n",
       "    }\n",
       "\n",
       "    .dataframe thead th {\n",
       "        text-align: right;\n",
       "    }\n",
       "</style>\n",
       "<table border=\"1\" class=\"dataframe\">\n",
       "  <thead>\n",
       "    <tr style=\"text-align: right;\">\n",
       "      <th></th>\n",
       "      <th>Row ID</th>\n",
       "      <th>Order ID</th>\n",
       "      <th>Order Date</th>\n",
       "      <th>Ship Date</th>\n",
       "      <th>Ship Mode</th>\n",
       "      <th>Customer ID</th>\n",
       "      <th>Customer Name</th>\n",
       "      <th>Segment</th>\n",
       "      <th>City</th>\n",
       "      <th>State</th>\n",
       "      <th>Country</th>\n",
       "      <th>Region</th>\n",
       "      <th>Product ID</th>\n",
       "      <th>Category</th>\n",
       "      <th>Sub-Category</th>\n",
       "      <th>Product Name</th>\n",
       "      <th>Sales</th>\n",
       "      <th>Quantity</th>\n",
       "      <th>Discount</th>\n",
       "      <th>Profit</th>\n",
       "    </tr>\n",
       "  </thead>\n",
       "  <tbody>\n",
       "    <tr>\n",
       "      <th>2749</th>\n",
       "      <td>164</td>\n",
       "      <td>IT-2017-3695467</td>\n",
       "      <td>2017-06-10</td>\n",
       "      <td>2017-06-14</td>\n",
       "      <td>Standard Class</td>\n",
       "      <td>SS-20140</td>\n",
       "      <td>Saphhira Shifley</td>\n",
       "      <td>Corporate</td>\n",
       "      <td>Lisbon</td>\n",
       "      <td>Lisbon</td>\n",
       "      <td>Portugal</td>\n",
       "      <td>South</td>\n",
       "      <td>OFF-AP-10001623</td>\n",
       "      <td>Office Supplies</td>\n",
       "      <td>Appliances</td>\n",
       "      <td>Hoover Stove, White</td>\n",
       "      <td>3399.66</td>\n",
       "      <td>12</td>\n",
       "      <td>0.5</td>\n",
       "      <td>-3059.82</td>\n",
       "    </tr>\n",
       "  </tbody>\n",
       "</table>\n",
       "</div>"
      ],
      "text/plain": [
       "      Row ID         Order ID Order Date  Ship Date       Ship Mode  \\\n",
       "2749     164  IT-2017-3695467 2017-06-10 2017-06-14  Standard Class   \n",
       "\n",
       "     Customer ID     Customer Name    Segment    City   State   Country  \\\n",
       "2749    SS-20140  Saphhira Shifley  Corporate  Lisbon  Lisbon  Portugal   \n",
       "\n",
       "     Region       Product ID         Category Sub-Category  \\\n",
       "2749  South  OFF-AP-10001623  Office Supplies   Appliances   \n",
       "\n",
       "             Product Name    Sales  Quantity  Discount   Profit  \n",
       "2749  Hoover Stove, White  3399.66        12       0.5 -3059.82  "
      ]
     },
     "execution_count": 30,
     "metadata": {},
     "output_type": "execute_result"
    }
   ],
   "source": [
    "df[df[\"Profit\"] == -3059.82]"
   ]
  },
  {
   "cell_type": "code",
   "execution_count": 31,
   "metadata": {
    "colab": {
     "base_uri": "https://localhost:8080/",
     "height": 450
    },
    "executionInfo": {
     "elapsed": 37,
     "status": "ok",
     "timestamp": 1716223415910,
     "user": {
      "displayName": "Saif Ullah",
      "userId": "04066764031186977808"
     },
     "user_tz": -300
    },
    "id": "TBdLLGGI5PCU",
    "outputId": "0784077d-3a38-48a4-d1b1-5a7ebdd888ff"
   },
   "outputs": [
    {
     "data": {
      "text/plain": [
       "<Axes: ylabel='Frequency'>"
      ]
     },
     "execution_count": 31,
     "metadata": {},
     "output_type": "execute_result"
    },
    {
     "data": {
      "image/png": "[encoded data removed]",
      "text/plain": [
       "<Figure size 640x480 with 1 Axes>"
      ]
     },
     "metadata": {},
     "output_type": "display_data"
    }
   ],
   "source": [
    "df[\"Profit\"].plot(kind = \"hist\")"
   ]
  },
  {
   "cell_type": "code",
   "execution_count": 32,
   "metadata": {
    "colab": {
     "base_uri": "https://localhost:8080/",
     "height": 448
    },
    "executionInfo": {
     "elapsed": 33,
     "status": "ok",
     "timestamp": 1716223415911,
     "user": {
      "displayName": "Saif Ullah",
      "userId": "04066764031186977808"
     },
     "user_tz": -300
    },
    "id": "O3M-hEMy5Zys",
    "outputId": "15f98305-fa53-47b4-dbec-0a82daa51365"
   },
   "outputs": [
    {
     "data": {
      "text/plain": [
       "<Axes: >"
      ]
     },
     "execution_count": 32,
     "metadata": {},
     "output_type": "execute_result"
    },
    {
     "data": {
      "image/png": "[encoded data removed]",
      "text/plain": [
       "<Figure size 640x480 with 1 Axes>"
      ]
     },
     "metadata": {},
     "output_type": "display_data"
    }
   ],
   "source": [
    "df[\"Profit\"].plot(kind = \"box\")"
   ]
  },
  {
   "cell_type": "code",
   "execution_count": 33,
   "metadata": {
    "colab": {
     "base_uri": "https://localhost:8080/",
     "height": 90
    },
    "executionInfo": {
     "elapsed": 1498,
     "status": "ok",
     "timestamp": 1716223417379,
     "user": {
      "displayName": "Saif Ullah",
      "userId": "04066764031186977808"
     },
     "user_tz": -300
    },
    "id": "Z05FhN9V5ibb",
    "outputId": "08e87b92-4861-4048-d32e-87c233004b97"
   },
   "outputs": [
    {
     "data": {
      "text/plain": [
       "<Axes: ylabel='Density'>"
      ]
     },
     "execution_count": 33,
     "metadata": {},
     "output_type": "execute_result"
    },
    {
     "data": {
      "image/png": "[encoded data removed]",
      "text/plain": [
       "<Figure size 640x480 with 1 Axes>"
      ]
     },
     "metadata": {},
     "output_type": "display_data"
    }
   ],
   "source": [
    "df[\"Profit\"].plot(kind = \"kde\")"
   ]
  },
  {
   "cell_type": "code",
   "execution_count": 34,
   "metadata": {
    "colab": {
     "base_uri": "https://localhost:8080/"
    },
    "executionInfo": {
     "elapsed": 69,
     "status": "ok",
     "timestamp": 1716223417379,
     "user": {
      "displayName": "Saif Ullah",
      "userId": "04066764031186977808"
     },
     "user_tz": -300
    },
    "id": "MZe4Gp585lJS",
    "outputId": "e05ce5f6-8a69-46d8-a6c2-e42ef758ce4d"
   },
   "outputs": [
    {
     "data": {
      "text/plain": [
       "1.6595121111197184"
      ]
     },
     "execution_count": 34,
     "metadata": {},
     "output_type": "execute_result"
    }
   ],
   "source": [
    "df[\"Profit\"].skew()"
   ]
  },
  {
   "cell_type": "markdown",
   "metadata": {
    "id": "f5dKXVY5-QNN"
   },
   "source": [
    "**Conclusion**\n",
    "- \"Standard Class\" appears to be the most commonly used shipping mode\n",
    "- \"Standard Class\" Mostly customer favor"
   ]
  },
  {
   "cell_type": "code",
   "execution_count": 35,
   "metadata": {
    "colab": {
     "base_uri": "https://localhost:8080/"
    },
    "executionInfo": {
     "elapsed": 57,
     "status": "ok",
     "timestamp": 1716223417381,
     "user": {
      "displayName": "Saif Ullah",
      "userId": "04066764031186977808"
     },
     "user_tz": -300
    },
    "id": "LWFfFu0d6JtV",
    "outputId": "61477699-9dc1-4166-a125-f5e2cad25363"
   },
   "outputs": [
    {
     "data": {
      "text/plain": [
       "Ship Mode\n",
       "Standard Class    6054\n",
       "Second Class      1976\n",
       "First Class       1454\n",
       "Same Day           516\n",
       "Name: count, dtype: int64"
      ]
     },
     "execution_count": 35,
     "metadata": {},
     "output_type": "execute_result"
    }
   ],
   "source": [
    "df['Ship Mode'].value_counts()"
   ]
  },
  {
   "cell_type": "code",
   "execution_count": 36,
   "metadata": {
    "colab": {
     "base_uri": "https://localhost:8080/",
     "height": 558
    },
    "executionInfo": {
     "elapsed": 56,
     "status": "ok",
     "timestamp": 1716223417383,
     "user": {
      "displayName": "Saif Ullah",
      "userId": "04066764031186977808"
     },
     "user_tz": -300
    },
    "id": "zmHKo0C09AUs",
    "outputId": "e0185ea2-2125-442a-ed94-89f8a7bb0641"
   },
   "outputs": [
    {
     "data": {
      "text/plain": [
       "<Axes: xlabel='Ship Mode'>"
      ]
     },
     "execution_count": 36,
     "metadata": {},
     "output_type": "execute_result"
    },
    {
     "data": {
      "image/png": "[encoded data removed]",
      "text/plain": [
       "<Figure size 640x480 with 1 Axes>"
      ]
     },
     "metadata": {},
     "output_type": "display_data"
    }
   ],
   "source": [
    "df['Ship Mode'].value_counts().plot(kind='bar')"
   ]
  },
  {
   "cell_type": "code",
   "execution_count": 37,
   "metadata": {
    "colab": {
     "base_uri": "https://localhost:8080/",
     "height": 424
    },
    "executionInfo": {
     "elapsed": 51,
     "status": "ok",
     "timestamp": 1716223417384,
     "user": {
      "displayName": "Saif Ullah",
      "userId": "04066764031186977808"
     },
     "user_tz": -300
    },
    "id": "w4nZq4oi9STT",
    "outputId": "5efe0857-17fa-4be5-b193-a88e52475b43"
   },
   "outputs": [
    {
     "data": {
      "text/plain": [
       "<Axes: ylabel='count'>"
      ]
     },
     "execution_count": 37,
     "metadata": {},
     "output_type": "execute_result"
    },
    {
     "data": {
      "image/png": "[encoded data removed]",
      "text/plain": [
       "<Figure size 640x480 with 1 Axes>"
      ]
     },
     "metadata": {},
     "output_type": "display_data"
    }
   ],
   "source": [
    "df['Ship Mode'].value_counts().plot(kind='pie', autopct = \"%0.1f%%\")"
   ]
  },
  {
   "cell_type": "code",
   "execution_count": 38,
   "metadata": {
    "colab": {
     "base_uri": "https://localhost:8080/"
    },
    "executionInfo": {
     "elapsed": 48,
     "status": "ok",
     "timestamp": 1716223417385,
     "user": {
      "displayName": "Saif Ullah",
      "userId": "04066764031186977808"
     },
     "user_tz": -300
    },
    "id": "fiILl14y-bHq",
    "outputId": "26f7ac49-2a19-4e03-8402-669130e1c4fc"
   },
   "outputs": [
    {
     "data": {
      "text/plain": [
       "Segment\n",
       "Consumer       5186\n",
       "Corporate      3077\n",
       "Home Office    1737\n",
       "Name: count, dtype: int64"
      ]
     },
     "execution_count": 38,
     "metadata": {},
     "output_type": "execute_result"
    }
   ],
   "source": [
    "df['Segment'].value_counts()"
   ]
  },
  {
   "cell_type": "markdown",
   "metadata": {
    "id": "u4uDvkS0_s8o"
   },
   "source": [
    "**Conclusion**\n",
    "-  Consumer Dominance: The store's primary customer base is comprised of individual consumers, representing the largest segment.\n",
    "\n",
    "- Corporate and Home Office: While smaller in number compared to consumers, both the corporate and home office segments are significant, indicating the presence of business or office-related custome"
   ]
  },
  {
   "cell_type": "code",
   "execution_count": 39,
   "metadata": {
    "colab": {
     "base_uri": "https://localhost:8080/",
     "height": 424
    },
    "executionInfo": {
     "elapsed": 44,
     "status": "ok",
     "timestamp": 1716223417387,
     "user": {
      "displayName": "Saif Ullah",
      "userId": "04066764031186977808"
     },
     "user_tz": -300
    },
    "id": "NSoT-tpp-nH1",
    "outputId": "22c2c612-e6df-4569-81b3-d6047a1ca1f0"
   },
   "outputs": [
    {
     "data": {
      "text/plain": [
       "<Axes: ylabel='count'>"
      ]
     },
     "execution_count": 39,
     "metadata": {},
     "output_type": "execute_result"
    },
    {
     "data": {
      "image/png": "[encoded data removed]",
      "text/plain": [
       "<Figure size 640x480 with 1 Axes>"
      ]
     },
     "metadata": {},
     "output_type": "display_data"
    }
   ],
   "source": [
    "df['Segment'].value_counts().plot(kind = \"pie\", autopct = \"%0.1f%%\")"
   ]
  },
  {
   "cell_type": "code",
   "execution_count": 40,
   "metadata": {
    "colab": {
     "base_uri": "https://localhost:8080/"
    },
    "executionInfo": {
     "elapsed": 1371,
     "status": "ok",
     "timestamp": 1716223418719,
     "user": {
      "displayName": "Saif Ullah",
      "userId": "04066764031186977808"
     },
     "user_tz": -300
    },
    "id": "6AxIFj_O_A8d",
    "outputId": "30c3acf4-c508-4d67-be33-631e254550a8"
   },
   "outputs": [
    {
     "data": {
      "text/plain": [
       "<Axes: xlabel='Segment'>"
      ]
     },
     "execution_count": 40,
     "metadata": {},
     "output_type": "execute_result"
    },
    {
     "data": {
      "image/png": "[encoded data removed]",
      "text/plain": [
       "<Figure size 640x480 with 1 Axes>"
      ]
     },
     "metadata": {},
     "output_type": "display_data"
    }
   ],
   "source": [
    "df['Segment'].value_counts().plot(kind = \"bar\")"
   ]
  },
  {
   "cell_type": "code",
   "execution_count": 41,
   "metadata": {
    "colab": {
     "base_uri": "https://localhost:8080/"
    },
    "executionInfo": {
     "elapsed": 72,
     "status": "ok",
     "timestamp": 1716223418722,
     "user": {
      "displayName": "Saif Ullah",
      "userId": "04066764031186977808"
     },
     "user_tz": -300
    },
    "id": "NVBeStHc_2Fi",
    "outputId": "b69e309c-1555-41b0-8eb3-f1026a6ed6f8"
   },
   "outputs": [
    {
     "data": {
      "text/plain": [
       "City\n",
       "London       257\n",
       "Berlin       217\n",
       "Vienna       202\n",
       "Paris        187\n",
       "Madrid       171\n",
       "Hamburg      133\n",
       "Rome         129\n",
       "Stockholm    124\n",
       "Marseille    102\n",
       "Milan         91\n",
       "Name: count, dtype: int64"
      ]
     },
     "execution_count": 41,
     "metadata": {},
     "output_type": "execute_result"
    }
   ],
   "source": [
    "# City\n",
    "df['City'].value_counts().sort_values(ascending=False).head(10)"
   ]
  },
  {
   "cell_type": "code",
   "execution_count": 42,
   "metadata": {
    "colab": {
     "base_uri": "https://localhost:8080/",
     "height": 90
    },
    "executionInfo": {
     "elapsed": 66,
     "status": "ok",
     "timestamp": 1716223418722,
     "user": {
      "displayName": "Saif Ullah",
      "userId": "04066764031186977808"
     },
     "user_tz": -300
    },
    "id": "p2SKIutFAMTx",
    "outputId": "04016f73-6860-4966-a7ba-4edb195d296a"
   },
   "outputs": [
    {
     "data": {
      "text/plain": [
       "<Axes: xlabel='City'>"
      ]
     },
     "execution_count": 42,
     "metadata": {},
     "output_type": "execute_result"
    },
    {
     "data": {
      "image/png": "[encoded data removed]",
      "text/plain": [
       "<Figure size 640x480 with 1 Axes>"
      ]
     },
     "metadata": {},
     "output_type": "display_data"
    }
   ],
   "source": [
    "df['City'].value_counts().sort_values(ascending=False).head(10).plot(kind=\"bar\" )"
   ]
  },
  {
   "cell_type": "code",
   "execution_count": 43,
   "metadata": {
    "colab": {
     "base_uri": "https://localhost:8080/",
     "height": 424
    },
    "executionInfo": {
     "elapsed": 64,
     "status": "ok",
     "timestamp": 1716223418726,
     "user": {
      "displayName": "Saif Ullah",
      "userId": "04066764031186977808"
     },
     "user_tz": -300
    },
    "id": "fz9T3Nl3An3n",
    "outputId": "7fc80083-3935-4eb4-ca55-5f12de8b8bab"
   },
   "outputs": [
    {
     "data": {
      "text/plain": [
       "<Axes: ylabel='count'>"
      ]
     },
     "execution_count": 43,
     "metadata": {},
     "output_type": "execute_result"
    },
    {
     "data": {
      "image/png": "[encoded data removed]",
      "text/plain": [
       "<Figure size 640x480 with 1 Axes>"
      ]
     },
     "metadata": {},
     "output_type": "display_data"
    }
   ],
   "source": [
    "df['City'].value_counts().sort_values(ascending=False).head(5).plot(kind=\"pie\", autopct = \"%0.1f%%\" )"
   ]
  },
  {
   "cell_type": "code",
   "execution_count": 44,
   "metadata": {
    "colab": {
     "base_uri": "https://localhost:8080/"
    },
    "executionInfo": {
     "elapsed": 61,
     "status": "ok",
     "timestamp": 1716223418727,
     "user": {
      "displayName": "Saif Ullah",
      "userId": "04066764031186977808"
     },
     "user_tz": -300
    },
    "id": "p0RdUdnNA1NO",
    "outputId": "c4178b99-3953-4e5c-e8a4-09208ab089de"
   },
   "outputs": [
    {
     "data": {
      "text/plain": [
       "Country\n",
       "France            2827\n",
       "Germany           2065\n",
       "United Kingdom    1633\n",
       "Italy             1108\n",
       "Spain              859\n",
       "Netherlands        435\n",
       "Austria            270\n",
       "Sweden             203\n",
       "Belgium            147\n",
       "Ireland            106\n",
       "Switzerland         78\n",
       "Portugal            70\n",
       "Norway              70\n",
       "Denmark             65\n",
       "Finland             64\n",
       "Name: count, dtype: int64"
      ]
     },
     "execution_count": 44,
     "metadata": {},
     "output_type": "execute_result"
    }
   ],
   "source": [
    "df['Country'].value_counts()"
   ]
  },
  {
   "cell_type": "code",
   "execution_count": 45,
   "metadata": {
    "colab": {
     "base_uri": "https://localhost:8080/",
     "height": 565
    },
    "executionInfo": {
     "elapsed": 58,
     "status": "ok",
     "timestamp": 1716223418727,
     "user": {
      "displayName": "Saif Ullah",
      "userId": "04066764031186977808"
     },
     "user_tz": -300
    },
    "id": "9o_n7N55A8wQ",
    "outputId": "8ab5f358-ea2a-4650-af34-e610edf47823"
   },
   "outputs": [
    {
     "data": {
      "text/plain": [
       "<Axes: xlabel='Country'>"
      ]
     },
     "execution_count": 45,
     "metadata": {},
     "output_type": "execute_result"
    },
    {
     "data": {
      "image/png": "[encoded data removed]",
      "text/plain": [
       "<Figure size 640x480 with 1 Axes>"
      ]
     },
     "metadata": {},
     "output_type": "display_data"
    }
   ],
   "source": [
    "df['Country'].value_counts().plot(kind=\"bar\")"
   ]
  },
  {
   "cell_type": "code",
   "execution_count": 46,
   "metadata": {
    "colab": {
     "base_uri": "https://localhost:8080/",
     "height": 424
    },
    "executionInfo": {
     "elapsed": 2934,
     "status": "ok",
     "timestamp": 1716223421611,
     "user": {
      "displayName": "Saif Ullah",
      "userId": "04066764031186977808"
     },
     "user_tz": -300
    },
    "id": "gP6dy8RqBGfB",
    "outputId": "5beb7be2-e222-4da0-c120-b54db8d4a7cc"
   },
   "outputs": [
    {
     "data": {
      "text/plain": [
       "<Axes: ylabel='count'>"
      ]
     },
     "execution_count": 46,
     "metadata": {},
     "output_type": "execute_result"
    },
    {
     "data": {
      "image/png": "[encoded data removed]",
      "text/plain": [
       "<Figure size 640x480 with 1 Axes>"
      ]
     },
     "metadata": {},
     "output_type": "display_data"
    }
   ],
   "source": [
    "df['Country'].value_counts().plot(kind=\"pie\", autopct = \"%0.1f%%\")"
   ]
  },
  {
   "cell_type": "code",
   "execution_count": 47,
   "metadata": {
    "colab": {
     "base_uri": "https://localhost:8080/"
    },
    "executionInfo": {
     "elapsed": 519,
     "status": "ok",
     "timestamp": 1716223421613,
     "user": {
      "displayName": "Saif Ullah",
      "userId": "04066764031186977808"
     },
     "user_tz": -300
    },
    "id": "5rKRCeBzBS6s",
    "outputId": "0a37eaca-fcd1-4080-c114-6c62aec49179"
   },
   "outputs": [
    {
     "data": {
      "text/plain": [
       "State\n",
       "England                       1499\n",
       "Ile-de-France                  981\n",
       "North Rhine-Westphalia         719\n",
       "Provence-Alpes-Côte d'Azur     390\n",
       "Auvergne-Rhône-Alpes           256\n",
       "                              ... \n",
       "Aveiro                           1\n",
       "Södermanland                     1\n",
       "Zeeland                          1\n",
       "Leiria                           1\n",
       "Extremadura                      1\n",
       "Name: count, Length: 127, dtype: int64"
      ]
     },
     "execution_count": 47,
     "metadata": {},
     "output_type": "execute_result"
    }
   ],
   "source": [
    "df[\"State\"].value_counts()"
   ]
  },
  {
   "cell_type": "code",
   "execution_count": 48,
   "metadata": {
    "colab": {
     "base_uri": "https://localhost:8080/",
     "height": 710
    },
    "executionInfo": {
     "elapsed": 514,
     "status": "ok",
     "timestamp": 1716223421614,
     "user": {
      "displayName": "Saif Ullah",
      "userId": "04066764031186977808"
     },
     "user_tz": -300
    },
    "id": "VjfXkPW6BxhB",
    "outputId": "29da4256-b24c-4af8-ed48-05189518e38e"
   },
   "outputs": [
    {
     "data": {
      "text/plain": [
       "<Axes: xlabel='State'>"
      ]
     },
     "execution_count": 48,
     "metadata": {},
     "output_type": "execute_result"
    },
    {
     "data": {
      "image/png": "[encoded data removed]",
      "text/plain": [
       "<Figure size 640x480 with 1 Axes>"
      ]
     },
     "metadata": {},
     "output_type": "display_data"
    }
   ],
   "source": [
    "df[\"State\"].value_counts().head(10).plot(kind = \"bar\")"
   ]
  },
  {
   "cell_type": "code",
   "execution_count": 49,
   "metadata": {
    "colab": {
     "base_uri": "https://localhost:8080/"
    },
    "executionInfo": {
     "elapsed": 502,
     "status": "ok",
     "timestamp": 1716223421616,
     "user": {
      "displayName": "Saif Ullah",
      "userId": "04066764031186977808"
     },
     "user_tz": -300
    },
    "id": "Mu4aYjPNCBUB",
    "outputId": "c57b1d35-0e53-498d-9c89-fb6b1048cbdb"
   },
   "outputs": [
    {
     "data": {
      "text/plain": [
       "Category\n",
       "Office Supplies    6589\n",
       "Technology         1910\n",
       "Furniture          1501\n",
       "Name: count, dtype: int64"
      ]
     },
     "execution_count": 49,
     "metadata": {},
     "output_type": "execute_result"
    }
   ],
   "source": [
    "df[\"Category\"].value_counts()"
   ]
  },
  {
   "cell_type": "code",
   "execution_count": 50,
   "metadata": {
    "colab": {
     "base_uri": "https://localhost:8080/",
     "height": 424
    },
    "executionInfo": {
     "elapsed": 498,
     "status": "ok",
     "timestamp": 1716223421619,
     "user": {
      "displayName": "Saif Ullah",
      "userId": "04066764031186977808"
     },
     "user_tz": -300
    },
    "id": "ypML1EJRCIb6",
    "outputId": "00bccb3d-cf22-4347-b74a-e855a0376a3d"
   },
   "outputs": [
    {
     "data": {
      "text/plain": [
       "<Axes: ylabel='count'>"
      ]
     },
     "execution_count": 50,
     "metadata": {},
     "output_type": "execute_result"
    },
    {
     "data": {
      "image/png": "[encoded data removed]",
      "text/plain": [
       "<Figure size 640x480 with 1 Axes>"
      ]
     },
     "metadata": {},
     "output_type": "display_data"
    }
   ],
   "source": [
    "df[\"Category\"].value_counts().plot(kind = \"pie\", autopct = \"%0.1f%%\")"
   ]
  },
  {
   "cell_type": "code",
   "execution_count": 51,
   "metadata": {
    "colab": {
     "base_uri": "https://localhost:8080/"
    },
    "executionInfo": {
     "elapsed": 491,
     "status": "ok",
     "timestamp": 1716223421621,
     "user": {
      "displayName": "Saif Ullah",
      "userId": "04066764031186977808"
     },
     "user_tz": -300
    },
    "id": "FcapqgjeCeT2",
    "outputId": "10e49550-5f4d-483e-86ac-6c6d61cce19c"
   },
   "outputs": [
    {
     "data": {
      "text/plain": [
       "Sub-Category\n",
       "Art            1434\n",
       "Binders        1317\n",
       "Storage        1311\n",
       "Phones          570\n",
       "Bookcases       484\n",
       "Chairs          465\n",
       "Copiers         465\n",
       "Furnishings     461\n",
       "Labels          454\n",
       "Accessories     452\n",
       "Supplies        444\n",
       "Paper           443\n",
       "Envelopes       441\n",
       "Fasteners       433\n",
       "Machines        423\n",
       "Appliances      312\n",
       "Tables           91\n",
       "Name: count, dtype: int64"
      ]
     },
     "execution_count": 51,
     "metadata": {},
     "output_type": "execute_result"
    }
   ],
   "source": [
    "df[\"Sub-Category\"].value_counts()"
   ]
  },
  {
   "cell_type": "code",
   "execution_count": 52,
   "metadata": {
    "colab": {
     "base_uri": "https://localhost:8080/",
     "height": 534
    },
    "executionInfo": {
     "elapsed": 484,
     "status": "ok",
     "timestamp": 1716223421622,
     "user": {
      "displayName": "Saif Ullah",
      "userId": "04066764031186977808"
     },
     "user_tz": -300
    },
    "id": "ttlnp3nXCor5",
    "outputId": "e183cd02-5d3b-4c7e-8f50-4e8d35194fab"
   },
   "outputs": [
    {
     "data": {
      "text/plain": [
       "<Axes: xlabel='Sub-Category'>"
      ]
     },
     "execution_count": 52,
     "metadata": {},
     "output_type": "execute_result"
    },
    {
     "data": {
      "image/png": "[encoded data removed]",
      "text/plain": [
       "<Figure size 640x480 with 1 Axes>"
      ]
     },
     "metadata": {},
     "output_type": "display_data"
    }
   ],
   "source": [
    "df[\"Sub-Category\"].value_counts().plot(kind = \"bar\")"
   ]
  },
  {
   "cell_type": "code",
   "execution_count": 53,
   "metadata": {
    "colab": {
     "base_uri": "https://localhost:8080/"
    },
    "executionInfo": {
     "elapsed": 461,
     "status": "ok",
     "timestamp": 1716223421623,
     "user": {
      "displayName": "Saif Ullah",
      "userId": "04066764031186977808"
     },
     "user_tz": -300
    },
    "id": "LrUI42FfJ85L",
    "outputId": "363c6b68-57e5-4aee-ab1c-c8935d8920b9"
   },
   "outputs": [
    {
     "data": {
      "text/plain": [
       "Region\n",
       "Central    5822\n",
       "North      2141\n",
       "South      2037\n",
       "Name: count, dtype: int64"
      ]
     },
     "execution_count": 53,
     "metadata": {},
     "output_type": "execute_result"
    }
   ],
   "source": [
    "df[\"Region\"].value_counts()"
   ]
  },
  {
   "cell_type": "code",
   "execution_count": 54,
   "metadata": {
    "colab": {
     "base_uri": "https://localhost:8080/",
     "height": 504
    },
    "executionInfo": {
     "elapsed": 2117,
     "status": "ok",
     "timestamp": 1716223423290,
     "user": {
      "displayName": "Saif Ullah",
      "userId": "04066764031186977808"
     },
     "user_tz": -300
    },
    "id": "N7xWT2jcKFM7",
    "outputId": "9a2ed1b8-388c-48ed-acbe-9c5a69fa5c43"
   },
   "outputs": [
    {
     "data": {
      "text/plain": [
       "<Axes: xlabel='Region'>"
      ]
     },
     "execution_count": 54,
     "metadata": {},
     "output_type": "execute_result"
    },
    {
     "data": {
      "image/png": "[encoded data removed]",
      "text/plain": [
       "<Figure size 640x480 with 1 Axes>"
      ]
     },
     "metadata": {},
     "output_type": "display_data"
    }
   ],
   "source": [
    "df[\"Region\"].value_counts().plot(kind = \"bar\")"
   ]
  },
  {
   "cell_type": "markdown",
   "metadata": {
    "id": "U7EwYrF_DDfM"
   },
   "source": [
    "## Bivariate Analysis"
   ]
  },
  {
   "cell_type": "code",
   "execution_count": 55,
   "metadata": {
    "colab": {
     "base_uri": "https://localhost:8080/"
    },
    "executionInfo": {
     "elapsed": 266,
     "status": "ok",
     "timestamp": 1716223423373,
     "user": {
      "displayName": "Saif Ullah",
      "userId": "04066764031186977808"
     },
     "user_tz": -300
    },
    "id": "YwBCNr1hCv6x",
    "outputId": "be8a48b0-d80a-4c6e-d74f-09a93fe3611b"
   },
   "outputs": [
    {
     "data": {
      "text/plain": [
       "<Axes: xlabel='Quantity'>"
      ]
     },
     "execution_count": 55,
     "metadata": {},
     "output_type": "execute_result"
    },
    {
     "data": {
      "image/png": "[encoded data removed]",
      "text/plain": [
       "<Figure size 640x480 with 1 Axes>"
      ]
     },
     "metadata": {},
     "output_type": "display_data"
    }
   ],
   "source": [
    "sns.barplot(pd.crosstab(df[\"Sales\"],df[\"Quantity\"]))\n"
   ]
  },
  {
   "cell_type": "code",
   "execution_count": 56,
   "metadata": {
    "colab": {
     "base_uri": "https://localhost:8080/"
    },
    "executionInfo": {
     "elapsed": 260,
     "status": "ok",
     "timestamp": 1716223423373,
     "user": {
      "displayName": "Saif Ullah",
      "userId": "04066764031186977808"
     },
     "user_tz": -300
    },
    "id": "PCNB5iMSIj6p",
    "outputId": "92a1e5a0-fe07-46b6-f134-c886f263f42c"
   },
   "outputs": [
    {
     "data": {
      "text/html": [
       "<div>\n",
       "<style scoped>\n",
       "    .dataframe tbody tr th:only-of-type {\n",
       "        vertical-align: middle;\n",
       "    }\n",
       "\n",
       "    .dataframe tbody tr th {\n",
       "        vertical-align: top;\n",
       "    }\n",
       "\n",
       "    .dataframe thead th {\n",
       "        text-align: right;\n",
       "    }\n",
       "</style>\n",
       "<table border=\"1\" class=\"dataframe\">\n",
       "  <thead>\n",
       "    <tr style=\"text-align: right;\">\n",
       "      <th>Ship Mode</th>\n",
       "      <th>First Class</th>\n",
       "      <th>Same Day</th>\n",
       "      <th>Second Class</th>\n",
       "      <th>Standard Class</th>\n",
       "    </tr>\n",
       "    <tr>\n",
       "      <th>Segment</th>\n",
       "      <th></th>\n",
       "      <th></th>\n",
       "      <th></th>\n",
       "      <th></th>\n",
       "    </tr>\n",
       "  </thead>\n",
       "  <tbody>\n",
       "    <tr>\n",
       "      <th>Consumer</th>\n",
       "      <td>813</td>\n",
       "      <td>269</td>\n",
       "      <td>962</td>\n",
       "      <td>3142</td>\n",
       "    </tr>\n",
       "    <tr>\n",
       "      <th>Corporate</th>\n",
       "      <td>420</td>\n",
       "      <td>133</td>\n",
       "      <td>642</td>\n",
       "      <td>1882</td>\n",
       "    </tr>\n",
       "    <tr>\n",
       "      <th>Home Office</th>\n",
       "      <td>221</td>\n",
       "      <td>114</td>\n",
       "      <td>372</td>\n",
       "      <td>1030</td>\n",
       "    </tr>\n",
       "  </tbody>\n",
       "</table>\n",
       "</div>"
      ],
      "text/plain": [
       "Ship Mode    First Class  Same Day  Second Class  Standard Class\n",
       "Segment                                                         \n",
       "Consumer             813       269           962            3142\n",
       "Corporate            420       133           642            1882\n",
       "Home Office          221       114           372            1030"
      ]
     },
     "execution_count": 56,
     "metadata": {},
     "output_type": "execute_result"
    }
   ],
   "source": [
    "pd.crosstab(df[\"Segment\"],df[\"Ship Mode\"])"
   ]
  },
  {
   "cell_type": "code",
   "execution_count": 57,
   "metadata": {
    "colab": {
     "base_uri": "https://localhost:8080/"
    },
    "executionInfo": {
     "elapsed": 256,
     "status": "ok",
     "timestamp": 1716223423375,
     "user": {
      "displayName": "Saif Ullah",
      "userId": "04066764031186977808"
     },
     "user_tz": -300
    },
    "id": "KZePDTGXJvpZ",
    "outputId": "98440f55-c07b-4cc3-8ca7-87d44d9c86ec"
   },
   "outputs": [
    {
     "data": {
      "text/html": [
       "<div>\n",
       "<style scoped>\n",
       "    .dataframe tbody tr th:only-of-type {\n",
       "        vertical-align: middle;\n",
       "    }\n",
       "\n",
       "    .dataframe tbody tr th {\n",
       "        vertical-align: top;\n",
       "    }\n",
       "\n",
       "    .dataframe thead th {\n",
       "        text-align: right;\n",
       "    }\n",
       "</style>\n",
       "<table border=\"1\" class=\"dataframe\">\n",
       "  <thead>\n",
       "    <tr style=\"text-align: right;\">\n",
       "      <th>Region</th>\n",
       "      <th>Central</th>\n",
       "      <th>North</th>\n",
       "      <th>South</th>\n",
       "    </tr>\n",
       "    <tr>\n",
       "      <th>Segment</th>\n",
       "      <th></th>\n",
       "      <th></th>\n",
       "      <th></th>\n",
       "    </tr>\n",
       "  </thead>\n",
       "  <tbody>\n",
       "    <tr>\n",
       "      <th>Consumer</th>\n",
       "      <td>3057</td>\n",
       "      <td>1090</td>\n",
       "      <td>1039</td>\n",
       "    </tr>\n",
       "    <tr>\n",
       "      <th>Corporate</th>\n",
       "      <td>1747</td>\n",
       "      <td>671</td>\n",
       "      <td>659</td>\n",
       "    </tr>\n",
       "    <tr>\n",
       "      <th>Home Office</th>\n",
       "      <td>1018</td>\n",
       "      <td>380</td>\n",
       "      <td>339</td>\n",
       "    </tr>\n",
       "  </tbody>\n",
       "</table>\n",
       "</div>"
      ],
      "text/plain": [
       "Region       Central  North  South\n",
       "Segment                           \n",
       "Consumer        3057   1090   1039\n",
       "Corporate       1747    671    659\n",
       "Home Office     1018    380    339"
      ]
     },
     "execution_count": 57,
     "metadata": {},
     "output_type": "execute_result"
    }
   ],
   "source": [
    "pd.crosstab(df[\"Segment\"],df[\"Region\"])"
   ]
  },
  {
   "cell_type": "code",
   "execution_count": 58,
   "metadata": {
    "colab": {
     "base_uri": "https://localhost:8080/"
    },
    "executionInfo": {
     "elapsed": 255,
     "status": "ok",
     "timestamp": 1716223423376,
     "user": {
      "displayName": "Saif Ullah",
      "userId": "04066764031186977808"
     },
     "user_tz": -300
    },
    "id": "4P1A9-gv3Xf2",
    "outputId": "9b55b909-4ebd-4c83-9d15-20aa4a4fce3c"
   },
   "outputs": [
    {
     "data": {
      "text/html": [
       "<div>\n",
       "<style scoped>\n",
       "    .dataframe tbody tr th:only-of-type {\n",
       "        vertical-align: middle;\n",
       "    }\n",
       "\n",
       "    .dataframe tbody tr th {\n",
       "        vertical-align: top;\n",
       "    }\n",
       "\n",
       "    .dataframe thead th {\n",
       "        text-align: right;\n",
       "    }\n",
       "</style>\n",
       "<table border=\"1\" class=\"dataframe\">\n",
       "  <thead>\n",
       "    <tr style=\"text-align: right;\">\n",
       "      <th></th>\n",
       "      <th>Category</th>\n",
       "      <th>Sales</th>\n",
       "    </tr>\n",
       "  </thead>\n",
       "  <tbody>\n",
       "    <tr>\n",
       "      <th>0</th>\n",
       "      <td>Furniture</td>\n",
       "      <td>779103.05</td>\n",
       "    </tr>\n",
       "    <tr>\n",
       "      <th>1</th>\n",
       "      <td>Office Supplies</td>\n",
       "      <td>1046307.02</td>\n",
       "    </tr>\n",
       "    <tr>\n",
       "      <th>2</th>\n",
       "      <td>Technology</td>\n",
       "      <td>1112678.99</td>\n",
       "    </tr>\n",
       "  </tbody>\n",
       "</table>\n",
       "</div>"
      ],
      "text/plain": [
       "          Category       Sales\n",
       "0        Furniture   779103.05\n",
       "1  Office Supplies  1046307.02\n",
       "2       Technology  1112678.99"
      ]
     },
     "execution_count": 58,
     "metadata": {},
     "output_type": "execute_result"
    }
   ],
   "source": [
    "# Which category how much sales\n",
    "main_category = df.groupby(\"Category\")['Sales'].sum().reset_index()\n",
    "main_category[\"Sales\"] =round(main_category[\"Sales\"],2)\n",
    "main_category"
   ]
  },
  {
   "cell_type": "code",
   "execution_count": 59,
   "metadata": {
    "colab": {
     "base_uri": "https://localhost:8080/"
    },
    "executionInfo": {
     "elapsed": 253,
     "status": "ok",
     "timestamp": 1716223423376,
     "user": {
      "displayName": "Saif Ullah",
      "userId": "04066764031186977808"
     },
     "user_tz": -300
    },
    "id": "90ku3m9T5-jW",
    "outputId": "f2796e19-7a25-4d9c-e5f9-597b44e99c4d"
   },
   "outputs": [
    {
     "data": {
      "text/html": [
       "<div>\n",
       "<style scoped>\n",
       "    .dataframe tbody tr th:only-of-type {\n",
       "        vertical-align: middle;\n",
       "    }\n",
       "\n",
       "    .dataframe tbody tr th {\n",
       "        vertical-align: top;\n",
       "    }\n",
       "\n",
       "    .dataframe thead th {\n",
       "        text-align: right;\n",
       "    }\n",
       "</style>\n",
       "<table border=\"1\" class=\"dataframe\">\n",
       "  <thead>\n",
       "    <tr style=\"text-align: right;\">\n",
       "      <th></th>\n",
       "      <th>Sub-Category</th>\n",
       "      <th>Sales</th>\n",
       "    </tr>\n",
       "  </thead>\n",
       "  <tbody>\n",
       "    <tr>\n",
       "      <th>0</th>\n",
       "      <td>Accessories</td>\n",
       "      <td>163073.4630</td>\n",
       "    </tr>\n",
       "    <tr>\n",
       "      <th>1</th>\n",
       "      <td>Appliances</td>\n",
       "      <td>275439.1830</td>\n",
       "    </tr>\n",
       "    <tr>\n",
       "      <th>2</th>\n",
       "      <td>Art</td>\n",
       "      <td>160088.1840</td>\n",
       "    </tr>\n",
       "    <tr>\n",
       "      <th>3</th>\n",
       "      <td>Binders</td>\n",
       "      <td>99762.6900</td>\n",
       "    </tr>\n",
       "    <tr>\n",
       "      <th>4</th>\n",
       "      <td>Bookcases</td>\n",
       "      <td>363525.6990</td>\n",
       "    </tr>\n",
       "    <tr>\n",
       "      <th>5</th>\n",
       "      <td>Chairs</td>\n",
       "      <td>228980.9670</td>\n",
       "    </tr>\n",
       "    <tr>\n",
       "      <th>6</th>\n",
       "      <td>Copiers</td>\n",
       "      <td>365128.6140</td>\n",
       "    </tr>\n",
       "    <tr>\n",
       "      <th>7</th>\n",
       "      <td>Envelopes</td>\n",
       "      <td>40124.0610</td>\n",
       "    </tr>\n",
       "    <tr>\n",
       "      <th>8</th>\n",
       "      <td>Fasteners</td>\n",
       "      <td>20330.3610</td>\n",
       "    </tr>\n",
       "    <tr>\n",
       "      <th>9</th>\n",
       "      <td>Furnishings</td>\n",
       "      <td>81215.0070</td>\n",
       "    </tr>\n",
       "    <tr>\n",
       "      <th>10</th>\n",
       "      <td>Labels</td>\n",
       "      <td>15644.6640</td>\n",
       "    </tr>\n",
       "    <tr>\n",
       "      <th>11</th>\n",
       "      <td>Machines</td>\n",
       "      <td>223164.8790</td>\n",
       "    </tr>\n",
       "    <tr>\n",
       "      <th>12</th>\n",
       "      <td>Paper</td>\n",
       "      <td>42450.8610</td>\n",
       "    </tr>\n",
       "    <tr>\n",
       "      <th>13</th>\n",
       "      <td>Phones</td>\n",
       "      <td>361312.0320</td>\n",
       "    </tr>\n",
       "    <tr>\n",
       "      <th>14</th>\n",
       "      <td>Storage</td>\n",
       "      <td>339684.2670</td>\n",
       "    </tr>\n",
       "    <tr>\n",
       "      <th>15</th>\n",
       "      <td>Supplies</td>\n",
       "      <td>52782.7530</td>\n",
       "    </tr>\n",
       "    <tr>\n",
       "      <th>16</th>\n",
       "      <td>Tables</td>\n",
       "      <td>105381.3765</td>\n",
       "    </tr>\n",
       "  </tbody>\n",
       "</table>\n",
       "</div>"
      ],
      "text/plain": [
       "   Sub-Category        Sales\n",
       "0   Accessories  163073.4630\n",
       "1    Appliances  275439.1830\n",
       "2           Art  160088.1840\n",
       "3       Binders   99762.6900\n",
       "4     Bookcases  363525.6990\n",
       "5        Chairs  228980.9670\n",
       "6       Copiers  365128.6140\n",
       "7     Envelopes   40124.0610\n",
       "8     Fasteners   20330.3610\n",
       "9   Furnishings   81215.0070\n",
       "10       Labels   15644.6640\n",
       "11     Machines  223164.8790\n",
       "12        Paper   42450.8610\n",
       "13       Phones  361312.0320\n",
       "14      Storage  339684.2670\n",
       "15     Supplies   52782.7530\n",
       "16       Tables  105381.3765"
      ]
     },
     "execution_count": 59,
     "metadata": {},
     "output_type": "execute_result"
    }
   ],
   "source": [
    "# Which sub category category how much sales\n",
    "sub_category = df.groupby(\"Sub-Category\")['Sales'].sum().reset_index()\n",
    "sub_category"
   ]
  },
  {
   "cell_type": "code",
   "execution_count": 60,
   "metadata": {
    "colab": {
     "base_uri": "https://localhost:8080/"
    },
    "executionInfo": {
     "elapsed": 251,
     "status": "ok",
     "timestamp": 1716223423377,
     "user": {
      "displayName": "Saif Ullah",
      "userId": "04066764031186977808"
     },
     "user_tz": -300
    },
    "id": "Hse_B3FUTFG_",
    "outputId": "d09bec1b-7bdc-4e46-dc30-3df59994959b"
   },
   "outputs": [
    {
     "data": {
      "text/html": [
       "<div>\n",
       "<style scoped>\n",
       "    .dataframe tbody tr th:only-of-type {\n",
       "        vertical-align: middle;\n",
       "    }\n",
       "\n",
       "    .dataframe tbody tr th {\n",
       "        vertical-align: top;\n",
       "    }\n",
       "\n",
       "    .dataframe thead th {\n",
       "        text-align: right;\n",
       "    }\n",
       "</style>\n",
       "<table border=\"1\" class=\"dataframe\">\n",
       "  <thead>\n",
       "    <tr style=\"text-align: right;\">\n",
       "      <th></th>\n",
       "      <th>Category</th>\n",
       "      <th>Profit</th>\n",
       "    </tr>\n",
       "  </thead>\n",
       "  <tbody>\n",
       "    <tr>\n",
       "      <th>0</th>\n",
       "      <td>Furniture</td>\n",
       "      <td>68850.14</td>\n",
       "    </tr>\n",
       "    <tr>\n",
       "      <th>1</th>\n",
       "      <td>Office Supplies</td>\n",
       "      <td>159706.94</td>\n",
       "    </tr>\n",
       "    <tr>\n",
       "      <th>2</th>\n",
       "      <td>Technology</td>\n",
       "      <td>144272.66</td>\n",
       "    </tr>\n",
       "  </tbody>\n",
       "</table>\n",
       "</div>"
      ],
      "text/plain": [
       "          Category     Profit\n",
       "0        Furniture   68850.14\n",
       "1  Office Supplies  159706.94\n",
       "2       Technology  144272.66"
      ]
     },
     "execution_count": 60,
     "metadata": {},
     "output_type": "execute_result"
    }
   ],
   "source": [
    "# Profit by category\n",
    "profit_per_category = df.groupby(\"Category\")['Profit'].sum().reset_index()\n",
    "profit_per_category[\"Profit\"] = round(profit_per_category[\"Profit\"],2)\n",
    "profit_per_category"
   ]
  },
  {
   "cell_type": "markdown",
   "metadata": {
    "id": "xq6i_ocQKvVO"
   },
   "source": [
    "-----\n",
    "-----"
   ]
  },
  {
   "cell_type": "markdown",
   "metadata": {
    "id": "zEzoWQ-8K1Rq"
   },
   "source": [
    "**`EU_Store Data Case Study:`**\n"
   ]
  },
  {
   "cell_type": "markdown",
   "metadata": {
    "id": "1fkV3IBJK7Xr"
   },
   "source": [
    "## **Customer Segmentation:**\n",
    "-  `Customer segmentation is the process of dividing a customer base into distinct groups or segments that share similar characteristics, behaviors, or needs. By categorizing customers into different segments, businesses can better understand their diverse customer base and tailor their marketing strategies, products, and services to meet the specific needs of each group.`"
   ]
  },
  {
   "cell_type": "code",
   "execution_count": 61,
   "metadata": {
    "colab": {
     "base_uri": "https://localhost:8080/",
     "height": 521
    },
    "executionInfo": {
     "elapsed": 250,
     "status": "ok",
     "timestamp": 1716223423378,
     "user": {
      "displayName": "Saif Ullah",
      "userId": "04066764031186977808"
     },
     "user_tz": -300
    },
    "id": "Jd8Y6XXIByUG",
    "outputId": "858e6123-56d2-431c-d4ee-d775585ae1a6"
   },
   "outputs": [
    {
     "data": {
      "text/html": [
       "<div>\n",
       "<style scoped>\n",
       "    .dataframe tbody tr th:only-of-type {\n",
       "        vertical-align: middle;\n",
       "    }\n",
       "\n",
       "    .dataframe tbody tr th {\n",
       "        vertical-align: top;\n",
       "    }\n",
       "\n",
       "    .dataframe thead th {\n",
       "        text-align: right;\n",
       "    }\n",
       "</style>\n",
       "<table border=\"1\" class=\"dataframe\">\n",
       "  <thead>\n",
       "    <tr style=\"text-align: right;\">\n",
       "      <th></th>\n",
       "      <th>Row ID</th>\n",
       "      <th>Order ID</th>\n",
       "      <th>Order Date</th>\n",
       "      <th>Ship Date</th>\n",
       "      <th>Ship Mode</th>\n",
       "      <th>Customer ID</th>\n",
       "      <th>Customer Name</th>\n",
       "      <th>Segment</th>\n",
       "      <th>City</th>\n",
       "      <th>State</th>\n",
       "      <th>Country</th>\n",
       "      <th>Region</th>\n",
       "      <th>Product ID</th>\n",
       "      <th>Category</th>\n",
       "      <th>Sub-Category</th>\n",
       "      <th>Product Name</th>\n",
       "      <th>Sales</th>\n",
       "      <th>Quantity</th>\n",
       "      <th>Discount</th>\n",
       "      <th>Profit</th>\n",
       "    </tr>\n",
       "  </thead>\n",
       "  <tbody>\n",
       "    <tr>\n",
       "      <th>0</th>\n",
       "      <td>1</td>\n",
       "      <td>ES-2018-1311038</td>\n",
       "      <td>2018-02-07</td>\n",
       "      <td>2018-02-11</td>\n",
       "      <td>Standard Class</td>\n",
       "      <td>AS-10045</td>\n",
       "      <td>Aaron Smayling</td>\n",
       "      <td>Corporate</td>\n",
       "      <td>Leeds</td>\n",
       "      <td>England</td>\n",
       "      <td>United Kingdom</td>\n",
       "      <td>North</td>\n",
       "      <td>OFF-ST-10000988</td>\n",
       "      <td>Office Supplies</td>\n",
       "      <td>Storage</td>\n",
       "      <td>Fellowes Folders, Blue</td>\n",
       "      <td>79.20</td>\n",
       "      <td>3</td>\n",
       "      <td>0.0</td>\n",
       "      <td>39.60</td>\n",
       "    </tr>\n",
       "    <tr>\n",
       "      <th>1</th>\n",
       "      <td>2</td>\n",
       "      <td>ES-2018-1311038</td>\n",
       "      <td>2018-02-07</td>\n",
       "      <td>2018-02-11</td>\n",
       "      <td>Standard Class</td>\n",
       "      <td>AS-10045</td>\n",
       "      <td>Aaron Smayling</td>\n",
       "      <td>Corporate</td>\n",
       "      <td>Leeds</td>\n",
       "      <td>England</td>\n",
       "      <td>United Kingdom</td>\n",
       "      <td>North</td>\n",
       "      <td>TEC-AC-10004144</td>\n",
       "      <td>Technology</td>\n",
       "      <td>Accessories</td>\n",
       "      <td>SanDisk Numeric Keypad, Bluetooth</td>\n",
       "      <td>388.92</td>\n",
       "      <td>7</td>\n",
       "      <td>0.0</td>\n",
       "      <td>0.00</td>\n",
       "    </tr>\n",
       "    <tr>\n",
       "      <th>2</th>\n",
       "      <td>3</td>\n",
       "      <td>ES-2018-1311038</td>\n",
       "      <td>2018-02-07</td>\n",
       "      <td>2018-02-11</td>\n",
       "      <td>Standard Class</td>\n",
       "      <td>AS-10045</td>\n",
       "      <td>Aaron Smayling</td>\n",
       "      <td>Corporate</td>\n",
       "      <td>Leeds</td>\n",
       "      <td>England</td>\n",
       "      <td>United Kingdom</td>\n",
       "      <td>North</td>\n",
       "      <td>OFF-LA-10001915</td>\n",
       "      <td>Office Supplies</td>\n",
       "      <td>Labels</td>\n",
       "      <td>Avery Legal Exhibit Labels, 5000 Label Set</td>\n",
       "      <td>35.19</td>\n",
       "      <td>3</td>\n",
       "      <td>0.0</td>\n",
       "      <td>16.11</td>\n",
       "    </tr>\n",
       "    <tr>\n",
       "      <th>3</th>\n",
       "      <td>4</td>\n",
       "      <td>ES-2018-1311038</td>\n",
       "      <td>2018-02-07</td>\n",
       "      <td>2018-02-11</td>\n",
       "      <td>Standard Class</td>\n",
       "      <td>AS-10045</td>\n",
       "      <td>Aaron Smayling</td>\n",
       "      <td>Corporate</td>\n",
       "      <td>Leeds</td>\n",
       "      <td>England</td>\n",
       "      <td>United Kingdom</td>\n",
       "      <td>North</td>\n",
       "      <td>OFF-ST-10004550</td>\n",
       "      <td>Office Supplies</td>\n",
       "      <td>Storage</td>\n",
       "      <td>Fellowes Folders, Wire Frame</td>\n",
       "      <td>50.94</td>\n",
       "      <td>2</td>\n",
       "      <td>0.0</td>\n",
       "      <td>13.20</td>\n",
       "    </tr>\n",
       "    <tr>\n",
       "      <th>4</th>\n",
       "      <td>5</td>\n",
       "      <td>ES-2018-1311038</td>\n",
       "      <td>2018-02-07</td>\n",
       "      <td>2018-02-11</td>\n",
       "      <td>Standard Class</td>\n",
       "      <td>AS-10045</td>\n",
       "      <td>Aaron Smayling</td>\n",
       "      <td>Corporate</td>\n",
       "      <td>Leeds</td>\n",
       "      <td>England</td>\n",
       "      <td>United Kingdom</td>\n",
       "      <td>North</td>\n",
       "      <td>TEC-AC-10004068</td>\n",
       "      <td>Technology</td>\n",
       "      <td>Accessories</td>\n",
       "      <td>Memorex Memory Card, USB</td>\n",
       "      <td>307.44</td>\n",
       "      <td>3</td>\n",
       "      <td>0.0</td>\n",
       "      <td>73.71</td>\n",
       "    </tr>\n",
       "  </tbody>\n",
       "</table>\n",
       "</div>"
      ],
      "text/plain": [
       "   Row ID         Order ID Order Date  Ship Date       Ship Mode Customer ID  \\\n",
       "0       1  ES-2018-1311038 2018-02-07 2018-02-11  Standard Class    AS-10045   \n",
       "1       2  ES-2018-1311038 2018-02-07 2018-02-11  Standard Class    AS-10045   \n",
       "2       3  ES-2018-1311038 2018-02-07 2018-02-11  Standard Class    AS-10045   \n",
       "3       4  ES-2018-1311038 2018-02-07 2018-02-11  Standard Class    AS-10045   \n",
       "4       5  ES-2018-1311038 2018-02-07 2018-02-11  Standard Class    AS-10045   \n",
       "\n",
       "    Customer Name    Segment   City    State         Country Region  \\\n",
       "0  Aaron Smayling  Corporate  Leeds  England  United Kingdom  North   \n",
       "1  Aaron Smayling  Corporate  Leeds  England  United Kingdom  North   \n",
       "2  Aaron Smayling  Corporate  Leeds  England  United Kingdom  North   \n",
       "3  Aaron Smayling  Corporate  Leeds  England  United Kingdom  North   \n",
       "4  Aaron Smayling  Corporate  Leeds  England  United Kingdom  North   \n",
       "\n",
       "        Product ID         Category Sub-Category  \\\n",
       "0  OFF-ST-10000988  Office Supplies      Storage   \n",
       "1  TEC-AC-10004144       Technology  Accessories   \n",
       "2  OFF-LA-10001915  Office Supplies       Labels   \n",
       "3  OFF-ST-10004550  Office Supplies      Storage   \n",
       "4  TEC-AC-10004068       Technology  Accessories   \n",
       "\n",
       "                                 Product Name   Sales  Quantity  Discount  \\\n",
       "0                      Fellowes Folders, Blue   79.20         3       0.0   \n",
       "1           SanDisk Numeric Keypad, Bluetooth  388.92         7       0.0   \n",
       "2  Avery Legal Exhibit Labels, 5000 Label Set   35.19         3       0.0   \n",
       "3                Fellowes Folders, Wire Frame   50.94         2       0.0   \n",
       "4                    Memorex Memory Card, USB  307.44         3       0.0   \n",
       "\n",
       "   Profit  \n",
       "0   39.60  \n",
       "1    0.00  \n",
       "2   16.11  \n",
       "3   13.20  \n",
       "4   73.71  "
      ]
     },
     "execution_count": 61,
     "metadata": {},
     "output_type": "execute_result"
    }
   ],
   "source": [
    "df.head(5)"
   ]
  },
  {
   "cell_type": "code",
   "execution_count": 62,
   "metadata": {
    "id": "7oezdj9tKzKF"
   },
   "outputs": [],
   "source": [
    "# total spent per customer\n",
    "total_spent = df.groupby([\"Customer Name\",\"Customer ID\"])['Sales'].sum().reset_index()"
   ]
  },
  {
   "cell_type": "code",
   "execution_count": 63,
   "metadata": {
    "id": "zxtQNcCl97i4"
   },
   "outputs": [],
   "source": [
    "transaction_summary =df.groupby([\"Customer Name\",\"Customer ID\"]).agg(\n",
    "    n_transaction = (\"Order ID\",pd.Series.nunique), # Number of total transactions\n",
    "    first_date = (\"Order Date\",\"min\"),              # Date of first order\n",
    "    last_date = (\"Order Date\",\"max\"),               # Date of last order\n",
    ").reset_index()"
   ]
  },
  {
   "cell_type": "code",
   "execution_count": 64,
   "metadata": {
    "id": "b2uZBn7eAMea"
   },
   "outputs": [],
   "source": [
    "# Merging the data\n",
    "df1 = pd.merge(total_spent, transaction_summary, on = [\"Customer Name\",\"Customer ID\"], how = 'left')"
   ]
  },
  {
   "cell_type": "code",
   "execution_count": 65,
   "metadata": {
    "id": "BF41JbgdAlM6"
   },
   "outputs": [],
   "source": [
    "# Rename the column name\n",
    "df1 = df1.rename(columns={'Sales': 'total_spent'})"
   ]
  },
  {
   "cell_type": "code",
   "execution_count": 66,
   "metadata": {},
   "outputs": [
    {
     "data": {
      "text/html": [
       "<div>\n",
       "<style scoped>\n",
       "    .dataframe tbody tr th:only-of-type {\n",
       "        vertical-align: middle;\n",
       "    }\n",
       "\n",
       "    .dataframe tbody tr th {\n",
       "        vertical-align: top;\n",
       "    }\n",
       "\n",
       "    .dataframe thead th {\n",
       "        text-align: right;\n",
       "    }\n",
       "</style>\n",
       "<table border=\"1\" class=\"dataframe\">\n",
       "  <thead>\n",
       "    <tr style=\"text-align: right;\">\n",
       "      <th></th>\n",
       "      <th>Customer Name</th>\n",
       "      <th>Customer ID</th>\n",
       "      <th>total_spent</th>\n",
       "      <th>n_transaction</th>\n",
       "      <th>first_date</th>\n",
       "      <th>last_date</th>\n",
       "    </tr>\n",
       "  </thead>\n",
       "  <tbody>\n",
       "    <tr>\n",
       "      <th>0</th>\n",
       "      <td>Aaron Bergman</td>\n",
       "      <td>AB-10015</td>\n",
       "      <td>6116.454</td>\n",
       "      <td>12</td>\n",
       "      <td>2015-03-22</td>\n",
       "      <td>2018-04-23</td>\n",
       "    </tr>\n",
       "    <tr>\n",
       "      <th>1</th>\n",
       "      <td>Aaron Hawkins</td>\n",
       "      <td>AH-10030</td>\n",
       "      <td>3972.834</td>\n",
       "      <td>8</td>\n",
       "      <td>2015-06-18</td>\n",
       "      <td>2018-12-03</td>\n",
       "    </tr>\n",
       "  </tbody>\n",
       "</table>\n",
       "</div>"
      ],
      "text/plain": [
       "   Customer Name Customer ID  total_spent  n_transaction first_date  last_date\n",
       "0  Aaron Bergman    AB-10015     6116.454             12 2015-03-22 2018-04-23\n",
       "1  Aaron Hawkins    AH-10030     3972.834              8 2015-06-18 2018-12-03"
      ]
     },
     "execution_count": 66,
     "metadata": {},
     "output_type": "execute_result"
    }
   ],
   "source": [
    "df1.head(2)"
   ]
  },
  {
   "cell_type": "code",
   "execution_count": 67,
   "metadata": {
    "colab": {
     "base_uri": "https://localhost:8080/"
    },
    "executionInfo": {
     "elapsed": 234,
     "status": "ok",
     "timestamp": 1716223423385,
     "user": {
      "displayName": "Saif Ullah",
      "userId": "04066764031186977808"
     },
     "user_tz": -300
    },
    "id": "XXLiv14ADUO9",
    "outputId": "d4901ca4-a5de-440f-c3c7-45899131370e"
   },
   "outputs": [
    {
     "name": "stdout",
     "output_type": "stream",
     "text": [
      "<class 'pandas.core.frame.DataFrame'>\n",
      "RangeIndex: 795 entries, 0 to 794\n",
      "Data columns (total 6 columns):\n",
      " #   Column         Non-Null Count  Dtype         \n",
      "---  ------         --------------  -----         \n",
      " 0   Customer Name  795 non-null    object        \n",
      " 1   Customer ID    795 non-null    object        \n",
      " 2   total_spent    795 non-null    float64       \n",
      " 3   n_transaction  795 non-null    int64         \n",
      " 4   first_date     795 non-null    datetime64[ns]\n",
      " 5   last_date      795 non-null    datetime64[ns]\n",
      "dtypes: datetime64[ns](2), float64(1), int64(1), object(2)\n",
      "memory usage: 37.4+ KB\n"
     ]
    }
   ],
   "source": [
    "df1.info()"
   ]
  },
  {
   "cell_type": "code",
   "execution_count": 68,
   "metadata": {
    "id": "hbwGI4LuFBtk"
   },
   "outputs": [],
   "source": [
    "from datetime import datetime\n",
    "reference_date = datetime.strptime(\"2019-01-31\", \"%Y-%m-%d\")"
   ]
  },
  {
   "cell_type": "code",
   "execution_count": 69,
   "metadata": {
    "colab": {
     "base_uri": "https://localhost:8080/",
     "height": 112
    },
    "executionInfo": {
     "elapsed": 178,
     "status": "ok",
     "timestamp": 1716223423970,
     "user": {
      "displayName": "Saif Ullah",
      "userId": "04066764031186977808"
     },
     "user_tz": -300
    },
    "id": "AwljqW86FhqY",
    "outputId": "c8b3d6a1-eda1-40a4-d28f-9e0e5d70f8f6"
   },
   "outputs": [
    {
     "data": {
      "text/html": [
       "<div>\n",
       "<style scoped>\n",
       "    .dataframe tbody tr th:only-of-type {\n",
       "        vertical-align: middle;\n",
       "    }\n",
       "\n",
       "    .dataframe tbody tr th {\n",
       "        vertical-align: top;\n",
       "    }\n",
       "\n",
       "    .dataframe thead th {\n",
       "        text-align: right;\n",
       "    }\n",
       "</style>\n",
       "<table border=\"1\" class=\"dataframe\">\n",
       "  <thead>\n",
       "    <tr style=\"text-align: right;\">\n",
       "      <th></th>\n",
       "      <th>Customer Name</th>\n",
       "      <th>Customer ID</th>\n",
       "      <th>total_spent</th>\n",
       "      <th>n_transaction</th>\n",
       "      <th>first_date</th>\n",
       "      <th>last_date</th>\n",
       "      <th>day_since_last_visit</th>\n",
       "    </tr>\n",
       "  </thead>\n",
       "  <tbody>\n",
       "    <tr>\n",
       "      <th>0</th>\n",
       "      <td>Aaron Bergman</td>\n",
       "      <td>AB-10015</td>\n",
       "      <td>6116.454</td>\n",
       "      <td>12</td>\n",
       "      <td>2015-03-22</td>\n",
       "      <td>2018-04-23</td>\n",
       "      <td>283</td>\n",
       "    </tr>\n",
       "    <tr>\n",
       "      <th>1</th>\n",
       "      <td>Aaron Hawkins</td>\n",
       "      <td>AH-10030</td>\n",
       "      <td>3972.834</td>\n",
       "      <td>8</td>\n",
       "      <td>2015-06-18</td>\n",
       "      <td>2018-12-03</td>\n",
       "      <td>59</td>\n",
       "    </tr>\n",
       "  </tbody>\n",
       "</table>\n",
       "</div>"
      ],
      "text/plain": [
       "   Customer Name Customer ID  total_spent  n_transaction first_date  \\\n",
       "0  Aaron Bergman    AB-10015     6116.454             12 2015-03-22   \n",
       "1  Aaron Hawkins    AH-10030     3972.834              8 2015-06-18   \n",
       "\n",
       "   last_date  day_since_last_visit  \n",
       "0 2018-04-23                   283  \n",
       "1 2018-12-03                    59  "
      ]
     },
     "execution_count": 69,
     "metadata": {},
     "output_type": "execute_result"
    }
   ],
   "source": [
    "# Day since last vist by customer\n",
    "df1[\"day_since_last_visit\"] = (reference_date - df1['last_date']).dt.days\n",
    "df1.head(2)"
   ]
  },
  {
   "cell_type": "code",
   "execution_count": 70,
   "metadata": {
    "id": "zs5CT5EeOF9t"
   },
   "outputs": [],
   "source": [
    "# Sorting the data by date before calculating differences\n",
    "temp_df = df.sort_values(['Customer ID', 'Customer Name', 'Order Date'])\n",
    "\n",
    "# Calculating the last visit date per order per customer\n",
    "temp_df = temp_df.groupby([\"Customer ID\", \"Customer Name\", \"Order ID\"])[\"Order Date\"].max().reset_index()\n",
    "\n",
    "# Calculating days between consecutive visits per customer\n",
    "temp_df['last_visit_n'] = temp_df.groupby([\"Customer ID\", \"Customer Name\"])[\"Order Date\"].diff().dt.days\n",
    "\n",
    "# Taking absolute values of the differences\n",
    "temp_df['last_visit_n'] = temp_df['last_visit_n'].abs()\n",
    "\n",
    "# Calculating median days between transactions per customer\n",
    "median_days = temp_df.groupby([\"Customer ID\", \"Customer Name\"])[\"last_visit_n\"].median().reset_index()\n"
   ]
  },
  {
   "cell_type": "code",
   "execution_count": 71,
   "metadata": {
    "id": "a-VYUFqpOI18"
   },
   "outputs": [],
   "source": [
    "# Rename the columns\n",
    "median_days = median_days.rename(columns={'last_visit_n': 'median_days'})"
   ]
  },
  {
   "cell_type": "code",
   "execution_count": 72,
   "metadata": {
    "colab": {
     "base_uri": "https://localhost:8080/",
     "height": 112
    },
    "executionInfo": {
     "elapsed": 174,
     "status": "ok",
     "timestamp": 1716223423973,
     "user": {
      "displayName": "Saif Ullah",
      "userId": "04066764031186977808"
     },
     "user_tz": -300
    },
    "id": "AwhuEV3IcUVU",
    "outputId": "8f9581c8-0b98-40fb-dabf-0a09f4c4b221"
   },
   "outputs": [
    {
     "data": {
      "text/html": [
       "<div>\n",
       "<style scoped>\n",
       "    .dataframe tbody tr th:only-of-type {\n",
       "        vertical-align: middle;\n",
       "    }\n",
       "\n",
       "    .dataframe tbody tr th {\n",
       "        vertical-align: top;\n",
       "    }\n",
       "\n",
       "    .dataframe thead th {\n",
       "        text-align: right;\n",
       "    }\n",
       "</style>\n",
       "<table border=\"1\" class=\"dataframe\">\n",
       "  <thead>\n",
       "    <tr style=\"text-align: right;\">\n",
       "      <th></th>\n",
       "      <th>Customer Name</th>\n",
       "      <th>Customer ID</th>\n",
       "      <th>total_spent</th>\n",
       "      <th>n_transaction</th>\n",
       "      <th>first_date</th>\n",
       "      <th>last_date</th>\n",
       "      <th>day_since_last_visit</th>\n",
       "      <th>median_days</th>\n",
       "    </tr>\n",
       "  </thead>\n",
       "  <tbody>\n",
       "    <tr>\n",
       "      <th>0</th>\n",
       "      <td>Aaron Bergman</td>\n",
       "      <td>AB-10015</td>\n",
       "      <td>6116.454</td>\n",
       "      <td>12</td>\n",
       "      <td>2015-03-22</td>\n",
       "      <td>2018-04-23</td>\n",
       "      <td>283</td>\n",
       "      <td>117.0</td>\n",
       "    </tr>\n",
       "    <tr>\n",
       "      <th>1</th>\n",
       "      <td>Aaron Hawkins</td>\n",
       "      <td>AH-10030</td>\n",
       "      <td>3972.834</td>\n",
       "      <td>8</td>\n",
       "      <td>2015-06-18</td>\n",
       "      <td>2018-12-03</td>\n",
       "      <td>59</td>\n",
       "      <td>121.0</td>\n",
       "    </tr>\n",
       "  </tbody>\n",
       "</table>\n",
       "</div>"
      ],
      "text/plain": [
       "   Customer Name Customer ID  total_spent  n_transaction first_date  \\\n",
       "0  Aaron Bergman    AB-10015     6116.454             12 2015-03-22   \n",
       "1  Aaron Hawkins    AH-10030     3972.834              8 2015-06-18   \n",
       "\n",
       "   last_date  day_since_last_visit  median_days  \n",
       "0 2018-04-23                   283        117.0  \n",
       "1 2018-12-03                    59        121.0  "
      ]
     },
     "execution_count": 72,
     "metadata": {},
     "output_type": "execute_result"
    }
   ],
   "source": [
    "# Merging Dataset\n",
    "\n",
    "df2 = pd.merge(df1, median_days, on = [\"Customer Name\",\"Customer ID\"], how = 'left')\n",
    "df2.head(2)"
   ]
  },
  {
   "cell_type": "markdown",
   "metadata": {
    "id": "55nTpNjhC-8y"
   },
   "source": [
    "## RFM\n",
    "- **RFM analysis is basically scoring our customers based on their Recency, Frequency and Monetary values.**\n",
    "-- `Recency:` How recently a customer made a purchase.\n",
    "-- `Frequency:` How often customers make a purchase.\n",
    "-- `Monetary Value:` How much money a customer spends on purchases."
   ]
  },
  {
   "cell_type": "markdown",
   "metadata": {
    "id": "1hpFETVZEpkp"
   },
   "source": [
    "`Recency` --> `day_since_last_visti`\n",
    "\n",
    "`Frequency` --> `n_transaction`\n",
    "\n",
    "`Monetary Value` --> `total_spent`"
   ]
  },
  {
   "cell_type": "code",
   "execution_count": 73,
   "metadata": {},
   "outputs": [
    {
     "data": {
      "text/html": [
       "<div>\n",
       "<style scoped>\n",
       "    .dataframe tbody tr th:only-of-type {\n",
       "        vertical-align: middle;\n",
       "    }\n",
       "\n",
       "    .dataframe tbody tr th {\n",
       "        vertical-align: top;\n",
       "    }\n",
       "\n",
       "    .dataframe thead th {\n",
       "        text-align: right;\n",
       "    }\n",
       "</style>\n",
       "<table border=\"1\" class=\"dataframe\">\n",
       "  <thead>\n",
       "    <tr style=\"text-align: right;\">\n",
       "      <th></th>\n",
       "      <th>Customer Name</th>\n",
       "      <th>Customer ID</th>\n",
       "      <th>total_spent</th>\n",
       "      <th>n_transaction</th>\n",
       "      <th>first_date</th>\n",
       "      <th>last_date</th>\n",
       "      <th>day_since_last_visit</th>\n",
       "      <th>median_days</th>\n",
       "    </tr>\n",
       "  </thead>\n",
       "  <tbody>\n",
       "    <tr>\n",
       "      <th>0</th>\n",
       "      <td>Aaron Bergman</td>\n",
       "      <td>AB-10015</td>\n",
       "      <td>6116.454</td>\n",
       "      <td>12</td>\n",
       "      <td>2015-03-22</td>\n",
       "      <td>2018-04-23</td>\n",
       "      <td>283</td>\n",
       "      <td>117.0</td>\n",
       "    </tr>\n",
       "    <tr>\n",
       "      <th>1</th>\n",
       "      <td>Aaron Hawkins</td>\n",
       "      <td>AH-10030</td>\n",
       "      <td>3972.834</td>\n",
       "      <td>8</td>\n",
       "      <td>2015-06-18</td>\n",
       "      <td>2018-12-03</td>\n",
       "      <td>59</td>\n",
       "      <td>121.0</td>\n",
       "    </tr>\n",
       "    <tr>\n",
       "      <th>2</th>\n",
       "      <td>Aaron Smayling</td>\n",
       "      <td>AS-10045</td>\n",
       "      <td>6710.409</td>\n",
       "      <td>13</td>\n",
       "      <td>2015-03-22</td>\n",
       "      <td>2018-12-08</td>\n",
       "      <td>54</td>\n",
       "      <td>245.5</td>\n",
       "    </tr>\n",
       "    <tr>\n",
       "      <th>3</th>\n",
       "      <td>Adam Bellavance</td>\n",
       "      <td>AB-10060</td>\n",
       "      <td>3343.296</td>\n",
       "      <td>5</td>\n",
       "      <td>2016-12-20</td>\n",
       "      <td>2018-05-19</td>\n",
       "      <td>257</td>\n",
       "      <td>133.0</td>\n",
       "    </tr>\n",
       "    <tr>\n",
       "      <th>4</th>\n",
       "      <td>Adam Hart</td>\n",
       "      <td>AH-10075</td>\n",
       "      <td>4524.624</td>\n",
       "      <td>9</td>\n",
       "      <td>2015-06-11</td>\n",
       "      <td>2018-12-01</td>\n",
       "      <td>61</td>\n",
       "      <td>304.0</td>\n",
       "    </tr>\n",
       "  </tbody>\n",
       "</table>\n",
       "</div>"
      ],
      "text/plain": [
       "     Customer Name Customer ID  total_spent  n_transaction first_date  \\\n",
       "0    Aaron Bergman    AB-10015     6116.454             12 2015-03-22   \n",
       "1    Aaron Hawkins    AH-10030     3972.834              8 2015-06-18   \n",
       "2   Aaron Smayling    AS-10045     6710.409             13 2015-03-22   \n",
       "3  Adam Bellavance    AB-10060     3343.296              5 2016-12-20   \n",
       "4        Adam Hart    AH-10075     4524.624              9 2015-06-11   \n",
       "\n",
       "   last_date  day_since_last_visit  median_days  \n",
       "0 2018-04-23                   283        117.0  \n",
       "1 2018-12-03                    59        121.0  \n",
       "2 2018-12-08                    54        245.5  \n",
       "3 2018-05-19                   257        133.0  \n",
       "4 2018-12-01                    61        304.0  "
      ]
     },
     "execution_count": 73,
     "metadata": {},
     "output_type": "execute_result"
    }
   ],
   "source": [
    "df2.head()"
   ]
  },
  {
   "cell_type": "code",
   "execution_count": 74,
   "metadata": {
    "id": "vnBsgaoiC4nh"
   },
   "outputs": [],
   "source": [
    "# Making Copy of Data\n",
    "df_rfm = df2.copy()"
   ]
  },
  {
   "cell_type": "code",
   "execution_count": 75,
   "metadata": {
    "colab": {
     "base_uri": "https://localhost:8080/"
    },
    "executionInfo": {
     "elapsed": 181,
     "status": "ok",
     "timestamp": 1716223423990,
     "user": {
      "displayName": "Saif Ullah",
      "userId": "04066764031186977808"
     },
     "user_tz": -300
    },
    "id": "_TB8ZuOCJxew",
    "outputId": "e224e213-0879-4601-fc42-372cf9d1a434"
   },
   "outputs": [
    {
     "data": {
      "text/html": [
       "<div>\n",
       "<style scoped>\n",
       "    .dataframe tbody tr th:only-of-type {\n",
       "        vertical-align: middle;\n",
       "    }\n",
       "\n",
       "    .dataframe tbody tr th {\n",
       "        vertical-align: top;\n",
       "    }\n",
       "\n",
       "    .dataframe thead th {\n",
       "        text-align: right;\n",
       "    }\n",
       "</style>\n",
       "<table border=\"1\" class=\"dataframe\">\n",
       "  <thead>\n",
       "    <tr style=\"text-align: right;\">\n",
       "      <th></th>\n",
       "      <th>Customer Name</th>\n",
       "      <th>Customer ID</th>\n",
       "      <th>total_spent</th>\n",
       "      <th>n_transaction</th>\n",
       "      <th>first_date</th>\n",
       "      <th>last_date</th>\n",
       "      <th>day_since_last_visit</th>\n",
       "      <th>median_days</th>\n",
       "      <th>recency</th>\n",
       "      <th>frequency</th>\n",
       "      <th>monetary</th>\n",
       "    </tr>\n",
       "  </thead>\n",
       "  <tbody>\n",
       "    <tr>\n",
       "      <th>0</th>\n",
       "      <td>Aaron Bergman</td>\n",
       "      <td>AB-10015</td>\n",
       "      <td>6116.454</td>\n",
       "      <td>12</td>\n",
       "      <td>2015-03-22</td>\n",
       "      <td>2018-04-23</td>\n",
       "      <td>283</td>\n",
       "      <td>117.0</td>\n",
       "      <td>1</td>\n",
       "      <td>5</td>\n",
       "      <td>5</td>\n",
       "    </tr>\n",
       "    <tr>\n",
       "      <th>1</th>\n",
       "      <td>Aaron Hawkins</td>\n",
       "      <td>AH-10030</td>\n",
       "      <td>3972.834</td>\n",
       "      <td>8</td>\n",
       "      <td>2015-06-18</td>\n",
       "      <td>2018-12-03</td>\n",
       "      <td>59</td>\n",
       "      <td>121.0</td>\n",
       "      <td>4</td>\n",
       "      <td>4</td>\n",
       "      <td>4</td>\n",
       "    </tr>\n",
       "    <tr>\n",
       "      <th>2</th>\n",
       "      <td>Aaron Smayling</td>\n",
       "      <td>AS-10045</td>\n",
       "      <td>6710.409</td>\n",
       "      <td>13</td>\n",
       "      <td>2015-03-22</td>\n",
       "      <td>2018-12-08</td>\n",
       "      <td>54</td>\n",
       "      <td>245.5</td>\n",
       "      <td>5</td>\n",
       "      <td>5</td>\n",
       "      <td>5</td>\n",
       "    </tr>\n",
       "    <tr>\n",
       "      <th>3</th>\n",
       "      <td>Adam Bellavance</td>\n",
       "      <td>AB-10060</td>\n",
       "      <td>3343.296</td>\n",
       "      <td>5</td>\n",
       "      <td>2016-12-20</td>\n",
       "      <td>2018-05-19</td>\n",
       "      <td>257</td>\n",
       "      <td>133.0</td>\n",
       "      <td>2</td>\n",
       "      <td>2</td>\n",
       "      <td>3</td>\n",
       "    </tr>\n",
       "    <tr>\n",
       "      <th>4</th>\n",
       "      <td>Adam Hart</td>\n",
       "      <td>AH-10075</td>\n",
       "      <td>4524.624</td>\n",
       "      <td>9</td>\n",
       "      <td>2015-06-11</td>\n",
       "      <td>2018-12-01</td>\n",
       "      <td>61</td>\n",
       "      <td>304.0</td>\n",
       "      <td>4</td>\n",
       "      <td>5</td>\n",
       "      <td>4</td>\n",
       "    </tr>\n",
       "    <tr>\n",
       "      <th>5</th>\n",
       "      <td>Adam Shillingsburg</td>\n",
       "      <td>AS-10090</td>\n",
       "      <td>4138.902</td>\n",
       "      <td>8</td>\n",
       "      <td>2015-05-22</td>\n",
       "      <td>2018-12-16</td>\n",
       "      <td>46</td>\n",
       "      <td>200.0</td>\n",
       "      <td>5</td>\n",
       "      <td>4</td>\n",
       "      <td>4</td>\n",
       "    </tr>\n",
       "    <tr>\n",
       "      <th>6</th>\n",
       "      <td>Adrian Barton</td>\n",
       "      <td>AB-10105</td>\n",
       "      <td>2950.398</td>\n",
       "      <td>6</td>\n",
       "      <td>2016-06-13</td>\n",
       "      <td>2018-12-04</td>\n",
       "      <td>58</td>\n",
       "      <td>263.0</td>\n",
       "      <td>4</td>\n",
       "      <td>2</td>\n",
       "      <td>3</td>\n",
       "    </tr>\n",
       "    <tr>\n",
       "      <th>7</th>\n",
       "      <td>Adrian Hane</td>\n",
       "      <td>AH-10120</td>\n",
       "      <td>3590.691</td>\n",
       "      <td>6</td>\n",
       "      <td>2016-06-29</td>\n",
       "      <td>2018-09-09</td>\n",
       "      <td>144</td>\n",
       "      <td>321.0</td>\n",
       "      <td>3</td>\n",
       "      <td>2</td>\n",
       "      <td>3</td>\n",
       "    </tr>\n",
       "    <tr>\n",
       "      <th>8</th>\n",
       "      <td>Adrian Shami</td>\n",
       "      <td>AS-10135</td>\n",
       "      <td>2472.831</td>\n",
       "      <td>3</td>\n",
       "      <td>2016-07-13</td>\n",
       "      <td>2017-04-13</td>\n",
       "      <td>658</td>\n",
       "      <td>137.0</td>\n",
       "      <td>1</td>\n",
       "      <td>1</td>\n",
       "      <td>2</td>\n",
       "    </tr>\n",
       "    <tr>\n",
       "      <th>9</th>\n",
       "      <td>Aimee Bixby</td>\n",
       "      <td>AB-10150</td>\n",
       "      <td>9138.762</td>\n",
       "      <td>6</td>\n",
       "      <td>2015-01-25</td>\n",
       "      <td>2018-09-19</td>\n",
       "      <td>134</td>\n",
       "      <td>407.0</td>\n",
       "      <td>3</td>\n",
       "      <td>2</td>\n",
       "      <td>5</td>\n",
       "    </tr>\n",
       "  </tbody>\n",
       "</table>\n",
       "</div>"
      ],
      "text/plain": [
       "        Customer Name Customer ID  total_spent  n_transaction first_date  \\\n",
       "0       Aaron Bergman    AB-10015     6116.454             12 2015-03-22   \n",
       "1       Aaron Hawkins    AH-10030     3972.834              8 2015-06-18   \n",
       "2      Aaron Smayling    AS-10045     6710.409             13 2015-03-22   \n",
       "3     Adam Bellavance    AB-10060     3343.296              5 2016-12-20   \n",
       "4           Adam Hart    AH-10075     4524.624              9 2015-06-11   \n",
       "5  Adam Shillingsburg    AS-10090     4138.902              8 2015-05-22   \n",
       "6       Adrian Barton    AB-10105     2950.398              6 2016-06-13   \n",
       "7         Adrian Hane    AH-10120     3590.691              6 2016-06-29   \n",
       "8        Adrian Shami    AS-10135     2472.831              3 2016-07-13   \n",
       "9         Aimee Bixby    AB-10150     9138.762              6 2015-01-25   \n",
       "\n",
       "   last_date  day_since_last_visit  median_days recency frequency monetary  \n",
       "0 2018-04-23                   283        117.0       1         5        5  \n",
       "1 2018-12-03                    59        121.0       4         4        4  \n",
       "2 2018-12-08                    54        245.5       5         5        5  \n",
       "3 2018-05-19                   257        133.0       2         2        3  \n",
       "4 2018-12-01                    61        304.0       4         5        4  \n",
       "5 2018-12-16                    46        200.0       5         4        4  \n",
       "6 2018-12-04                    58        263.0       4         2        3  \n",
       "7 2018-09-09                   144        321.0       3         2        3  \n",
       "8 2017-04-13                   658        137.0       1         1        2  \n",
       "9 2018-09-19                   134        407.0       3         2        5  "
      ]
     },
     "execution_count": 75,
     "metadata": {},
     "output_type": "execute_result"
    }
   ],
   "source": [
    "# Making interval and doing labeling\n",
    "df_rfm[\"recency\"] = pd.qcut(df_rfm['day_since_last_visit'], q = 5, labels=[5,4,3,2,1])\n",
    "df_rfm[\"frequency\"] = pd.qcut(df_rfm['n_transaction'], q = 5 , labels=[1,2,3,4,5])\n",
    "df_rfm[\"monetary\"] = pd.qcut(df_rfm['total_spent'], q = 5 , labels=[1,2,3,4,5])\n",
    "df_rfm.head(10)"
   ]
  },
  {
   "cell_type": "code",
   "execution_count": 76,
   "metadata": {
    "colab": {
     "base_uri": "https://localhost:8080/"
    },
    "executionInfo": {
     "elapsed": 180,
     "status": "ok",
     "timestamp": 1716223423991,
     "user": {
      "displayName": "Saif Ullah",
      "userId": "04066764031186977808"
     },
     "user_tz": -300
    },
    "id": "Wllh2YcpY0GR",
    "outputId": "26ca1fc0-3f21-4d59-c509-455bbe103c9e"
   },
   "outputs": [
    {
     "name": "stdout",
     "output_type": "stream",
     "text": [
      "<class 'pandas.core.frame.DataFrame'>\n",
      "RangeIndex: 795 entries, 0 to 794\n",
      "Data columns (total 11 columns):\n",
      " #   Column                Non-Null Count  Dtype         \n",
      "---  ------                --------------  -----         \n",
      " 0   Customer Name         795 non-null    object        \n",
      " 1   Customer ID           795 non-null    object        \n",
      " 2   total_spent           795 non-null    float64       \n",
      " 3   n_transaction         795 non-null    int64         \n",
      " 4   first_date            795 non-null    datetime64[ns]\n",
      " 5   last_date             795 non-null    datetime64[ns]\n",
      " 6   day_since_last_visit  795 non-null    int64         \n",
      " 7   median_days           785 non-null    float64       \n",
      " 8   recency               795 non-null    category      \n",
      " 9   frequency             795 non-null    category      \n",
      " 10  monetary              795 non-null    category      \n",
      "dtypes: category(3), datetime64[ns](2), float64(2), int64(2), object(2)\n",
      "memory usage: 52.8+ KB\n"
     ]
    }
   ],
   "source": [
    "df_rfm.info()"
   ]
  },
  {
   "cell_type": "code",
   "execution_count": 77,
   "metadata": {
    "id": "ALMwvHQRY9fX"
   },
   "outputs": [],
   "source": [
    "# Converting `recency`, `frequency` and `monetary` in integer from category\n",
    "df_rfm['recency'] = df_rfm['recency'].astype(int)\n",
    "df_rfm['frequency'] = df_rfm['frequency'].astype(int)\n",
    "df_rfm['monetary'] = df_rfm['monetary'].astype(int)"
   ]
  },
  {
   "cell_type": "code",
   "execution_count": 78,
   "metadata": {
    "id": "-vfF8UFjO69j"
   },
   "outputs": [],
   "source": [
    "# RFM Score\n",
    "df_rfm['rfm_score'] = (df_rfm['recency'] * 100) + (df_rfm['frequency'] * 10) + df_rfm['monetary']"
   ]
  },
  {
   "cell_type": "markdown",
   "metadata": {
    "id": "O2bK192kajQZ"
   },
   "source": [
    "| Segments | Scores |\n",
    "| -------- | -------- |\n",
    "| Champions | 555, 554, 544, 545, 454, 455, 445 |\n",
    "| Loyal customers | 543, 444, 435, 355, 354, 345, 344, 335 |\n",
    "| Potential loyalist | 553, 551, 552, 541, 542, 533, 532, 531, 452, 451, 442, 441, 431, 453, 433, 432, 423, 353, 352, 351, 342, 341, 333, 323 |\n",
    "| Recent customers\t | 512, 511, 422, 421, 412, 411, 311 |\n",
    "| Promising | 525, 524, 523, 522, 521, 515, 514, 513, 425, 424, 413, 414, 415, 315, 314, 313 |\n",
    "| Customers needing attention | 535, 534, 443, 434, 343, 334, 325, 324 |\n",
    "| About to sleep\t | 331, 321, 312, 221, 213\n",
    " |\n",
    "| At risk | 255, 254, 245, 244, 253, 252, 243, 242, 235, 234, 225, 224, 153, 152, 145, 143, 142, 135, 134, 133, 125, 124 |\n",
    "| Can’t lose them | 155, 154, 144, 214, 215, 115, 114, 113 |\n",
    "| Hibernating\t | 332, 322, 231, 241, 251, 233, 232, 223, 222, 132, 123, 122, 212, 211 |\n",
    "| Lost | 111, 112, 121, 131, 141, 151 |\n",
    "------------------------------------------- | -----------------------------------------------------------------------------------------------------------------------------------------\n",
    "\n"
   ]
  },
  {
   "cell_type": "code",
   "execution_count": 79,
   "metadata": {
    "id": "fc07EX0LlnKv"
   },
   "outputs": [],
   "source": [
    "# Define segments based on RFM score\n",
    "conditions = [\n",
    "    (df_rfm['rfm_score'].isin([555, 554, 544, 545, 454, 455, 445])),\n",
    "    (df_rfm['rfm_score'].isin([543, 444, 435, 355, 354, 345, 344, 335])),\n",
    "    (df_rfm['rfm_score'].isin([553, 551, 552, 541, 542, 533, 532, 531, 452, 451, 442, 441, 431, 453, 433, 432, 423, 353, 352, 351, 342, 341, 333, 323])),\n",
    "    (df_rfm['rfm_score'].isin([512, 511, 422, 421, 412, 411, 311])),\n",
    "    (df_rfm['rfm_score'].isin([525, 524, 523, 522, 521, 515, 514, 513, 425, 424, 413, 414, 415, 315, 314, 313])),\n",
    "    (df_rfm['rfm_score'].isin([535, 534, 443, 434, 343, 334, 325, 324])),\n",
    "    (df_rfm['rfm_score'].isin([331, 321, 312, 221, 213])),\n",
    "    (df_rfm['rfm_score'].isin([255, 254, 245, 244, 253, 252, 243, 242, 235, 234, 225, 224, 153, 152, 145, 143, 142, 135, 134, 133, 125, 124])),\n",
    "    (df_rfm['rfm_score'].isin([155, 154, 144, 214, 215, 115, 114, 113])),\n",
    "    (df_rfm['rfm_score'].isin([332, 322, 231, 241, 251, 233, 232, 223, 222, 132, 123, 122, 212, 211])),\n",
    "    (df_rfm['rfm_score'].isin([111, 112, 121, 131, 141, 151]))\n",
    "]"
   ]
  },
  {
   "cell_type": "markdown",
   "metadata": {
    "id": "8VfiKKDJepT0"
   },
   "source": [
    "\n",
    "\n",
    "```\n",
    "`# This is formatted as code`\n",
    "```\n",
    "\n",
    "##Step by step RFM segmentation algorithm\n",
    "\n",
    "1. Calculate Recency (R), Frequency (F), and Monetary (M) values at the\n",
    "customer, source, brand, and country levels.\n",
    "\n",
    "2. Calculate approximate quantile cutoff values for R, F, and M using the approxQuantile() function. Quantiles divide the data into five equal parts.\n",
    "\n",
    "3. Calculate the RFM score based on quantile cutoff values. For example, customers who are frequent buyers, have recently bought from you, and usually are spending a lot of money would get a score of 555: Recency (R) = 5, Frequency (F) = 5, Monetary (M) = 5.\n",
    "\n",
    "4. Get RFM segment based on the RFM score (using RFM Matrix)."
   ]
  },
  {
   "cell_type": "markdown",
   "metadata": {
    "id": "fUyQ1janfKxC"
   },
   "source": [
    "## Understanding different segments  \n",
    "| Customer segment | Description         |\n",
    "| ---------------- | ---------------- |\n",
    "| Champions  | Recent purchase, frequent transactions, high spending  |\n",
    "| Loyal Customers  | Often spend good money buying your products. Responsive to promotions  |\n",
    "| Potential Loyalist  | Recent customers but spent a good amount and bought more than once  |\n",
    "| Recent Customers\t  | Bought most recently, but not often  |\n",
    "| Promising\t  | Recent shoppers but haven’t spent much  |\n",
    "| Customers Needing Attention  | Above-average recency, frequency and monetary values. They may not have bought very recently though  |\n",
    "| About to Sleep  | Below average recency, frequency, and monetary values. Will lose them if not reactivated|\n",
    "| At Risk  | They spent big money and purchased often. But the last purchase was a long time ago |\n",
    "| Can’t Lose Them  | Often made the biggest purchases but they haven’t returned for a long time  |\n",
    "| Hibernating | The last purchase was long ago. Low spenders with a low number of order |\n",
    "| Lost | Lowest recency, frequency, and monetary scores |\n",
    "\n"
   ]
  },
  {
   "cell_type": "code",
   "execution_count": 80,
   "metadata": {
    "id": "OUfIOc-SZawj"
   },
   "outputs": [],
   "source": [
    "choices = [\n",
    "    \"Champions\",\n",
    "    \"Loyal Customers\",\n",
    "    \"Potential Loyalist\",\n",
    "    \"Recent Customers\",\n",
    "    \"Promising\",\n",
    "    \"Customers Needing Attention\",\n",
    "    \"About to Sleep\",\n",
    "    \"At Risk\",\n",
    "    \"Can’t Lose Them\",\n",
    "    \"Hibernating\",\n",
    "    \"Lost\"\n",
    "]\n"
   ]
  },
  {
   "cell_type": "code",
   "execution_count": 81,
   "metadata": {
    "id": "fDwB5Ii3Zc3K"
   },
   "outputs": [],
   "source": [
    "df_rfm['rfm_segment'] = np.select(conditions, choices, default=\"Other\")\n"
   ]
  },
  {
   "cell_type": "code",
   "execution_count": 82,
   "metadata": {
    "colab": {
     "base_uri": "https://localhost:8080/",
     "height": 330
    },
    "executionInfo": {
     "elapsed": 180,
     "status": "ok",
     "timestamp": 1716223424006,
     "user": {
      "displayName": "Saif Ullah",
      "userId": "04066764031186977808"
     },
     "user_tz": -300
    },
    "id": "4i_olDNZqcGZ",
    "outputId": "5f4d0705-4428-4c50-fc81-ea9628f4f659"
   },
   "outputs": [
    {
     "data": {
      "text/html": [
       "<div>\n",
       "<style scoped>\n",
       "    .dataframe tbody tr th:only-of-type {\n",
       "        vertical-align: middle;\n",
       "    }\n",
       "\n",
       "    .dataframe tbody tr th {\n",
       "        vertical-align: top;\n",
       "    }\n",
       "\n",
       "    .dataframe thead th {\n",
       "        text-align: right;\n",
       "    }\n",
       "</style>\n",
       "<table border=\"1\" class=\"dataframe\">\n",
       "  <thead>\n",
       "    <tr style=\"text-align: right;\">\n",
       "      <th></th>\n",
       "      <th>Customer Name</th>\n",
       "      <th>Customer ID</th>\n",
       "      <th>total_spent</th>\n",
       "      <th>n_transaction</th>\n",
       "      <th>first_date</th>\n",
       "      <th>last_date</th>\n",
       "      <th>day_since_last_visit</th>\n",
       "      <th>median_days</th>\n",
       "      <th>recency</th>\n",
       "      <th>frequency</th>\n",
       "      <th>monetary</th>\n",
       "      <th>rfm_score</th>\n",
       "      <th>rfm_segment</th>\n",
       "    </tr>\n",
       "  </thead>\n",
       "  <tbody>\n",
       "    <tr>\n",
       "      <th>0</th>\n",
       "      <td>Aaron Bergman</td>\n",
       "      <td>AB-10015</td>\n",
       "      <td>6116.454</td>\n",
       "      <td>12</td>\n",
       "      <td>2015-03-22</td>\n",
       "      <td>2018-04-23</td>\n",
       "      <td>283</td>\n",
       "      <td>117.0</td>\n",
       "      <td>1</td>\n",
       "      <td>5</td>\n",
       "      <td>5</td>\n",
       "      <td>155</td>\n",
       "      <td>Can’t Lose Them</td>\n",
       "    </tr>\n",
       "    <tr>\n",
       "      <th>1</th>\n",
       "      <td>Aaron Hawkins</td>\n",
       "      <td>AH-10030</td>\n",
       "      <td>3972.834</td>\n",
       "      <td>8</td>\n",
       "      <td>2015-06-18</td>\n",
       "      <td>2018-12-03</td>\n",
       "      <td>59</td>\n",
       "      <td>121.0</td>\n",
       "      <td>4</td>\n",
       "      <td>4</td>\n",
       "      <td>4</td>\n",
       "      <td>444</td>\n",
       "      <td>Loyal Customers</td>\n",
       "    </tr>\n",
       "    <tr>\n",
       "      <th>2</th>\n",
       "      <td>Aaron Smayling</td>\n",
       "      <td>AS-10045</td>\n",
       "      <td>6710.409</td>\n",
       "      <td>13</td>\n",
       "      <td>2015-03-22</td>\n",
       "      <td>2018-12-08</td>\n",
       "      <td>54</td>\n",
       "      <td>245.5</td>\n",
       "      <td>5</td>\n",
       "      <td>5</td>\n",
       "      <td>5</td>\n",
       "      <td>555</td>\n",
       "      <td>Champions</td>\n",
       "    </tr>\n",
       "    <tr>\n",
       "      <th>3</th>\n",
       "      <td>Adam Bellavance</td>\n",
       "      <td>AB-10060</td>\n",
       "      <td>3343.296</td>\n",
       "      <td>5</td>\n",
       "      <td>2016-12-20</td>\n",
       "      <td>2018-05-19</td>\n",
       "      <td>257</td>\n",
       "      <td>133.0</td>\n",
       "      <td>2</td>\n",
       "      <td>2</td>\n",
       "      <td>3</td>\n",
       "      <td>223</td>\n",
       "      <td>Hibernating</td>\n",
       "    </tr>\n",
       "    <tr>\n",
       "      <th>4</th>\n",
       "      <td>Adam Hart</td>\n",
       "      <td>AH-10075</td>\n",
       "      <td>4524.624</td>\n",
       "      <td>9</td>\n",
       "      <td>2015-06-11</td>\n",
       "      <td>2018-12-01</td>\n",
       "      <td>61</td>\n",
       "      <td>304.0</td>\n",
       "      <td>4</td>\n",
       "      <td>5</td>\n",
       "      <td>4</td>\n",
       "      <td>454</td>\n",
       "      <td>Champions</td>\n",
       "    </tr>\n",
       "  </tbody>\n",
       "</table>\n",
       "</div>"
      ],
      "text/plain": [
       "     Customer Name Customer ID  total_spent  n_transaction first_date  \\\n",
       "0    Aaron Bergman    AB-10015     6116.454             12 2015-03-22   \n",
       "1    Aaron Hawkins    AH-10030     3972.834              8 2015-06-18   \n",
       "2   Aaron Smayling    AS-10045     6710.409             13 2015-03-22   \n",
       "3  Adam Bellavance    AB-10060     3343.296              5 2016-12-20   \n",
       "4        Adam Hart    AH-10075     4524.624              9 2015-06-11   \n",
       "\n",
       "   last_date  day_since_last_visit  median_days  recency  frequency  monetary  \\\n",
       "0 2018-04-23                   283        117.0        1          5         5   \n",
       "1 2018-12-03                    59        121.0        4          4         4   \n",
       "2 2018-12-08                    54        245.5        5          5         5   \n",
       "3 2018-05-19                   257        133.0        2          2         3   \n",
       "4 2018-12-01                    61        304.0        4          5         4   \n",
       "\n",
       "   rfm_score      rfm_segment  \n",
       "0        155  Can’t Lose Them  \n",
       "1        444  Loyal Customers  \n",
       "2        555        Champions  \n",
       "3        223      Hibernating  \n",
       "4        454        Champions  "
      ]
     },
     "execution_count": 82,
     "metadata": {},
     "output_type": "execute_result"
    }
   ],
   "source": [
    "df_rfm.head()"
   ]
  },
  {
   "cell_type": "code",
   "execution_count": 83,
   "metadata": {},
   "outputs": [],
   "source": [
    "final_customer_data = df_rfm.copy()"
   ]
  },
  {
   "cell_type": "code",
   "execution_count": 84,
   "metadata": {
    "id": "9Z7K6-8xLiEI"
   },
   "outputs": [],
   "source": [
    "# Downlaod data in csv files\n",
    "final_customer_data.to_csv(\"final_customer_data.csv\", index=False)"
   ]
  }
 ],
 "metadata": {
  "colab": {
   "authorship_tag": "ABX9TyP/TDNhg3MqepWf2/2rjJ84",
   "collapsed_sections": [
    "U7EwYrF_DDfM",
    "55nTpNjhC-8y"
   ],
   "provenance": []
  },
  "kernelspec": {
   "display_name": "cvenv",
   "language": "python",
   "name": "python3"
  },
  "language_info": {
   "codemirror_mode": {
    "name": "ipython",
    "version": 3
   },
   "file_extension": ".py",
   "mimetype": "text/x-python",
   "name": "python",
   "nbconvert_exporter": "python",
   "pygments_lexer": "ipython3",
   "version": "3.12.0"
  }
 },
 "nbformat": 4,
 "nbformat_minor": 0
}
